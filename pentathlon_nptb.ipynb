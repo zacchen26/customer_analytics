{
 "cells": [
  {
   "attachments": {},
   "cell_type": "markdown",
   "metadata": {},
   "source": [
    "# Pentathlon: Next Product to Buy Models\n",
    "\n",
    "* Team-lead GitHub userid: rsm-xyz123\n",
    "* Group name:\n",
    "* Team member names:\n",
    "    - Siena Lindsay \n",
    "    - Devanshi Patel\n",
    "    - Zeyu Chen\n",
    "    - Nishmita Vasant"
   ]
  },
  {
   "attachments": {},
   "cell_type": "markdown",
   "metadata": {},
   "source": [
    "## Setup\n",
    "\n",
    "Please complete this python notebook with your group by answering the questions in `pentathlon-nptb.pdf`.\n",
    "\n",
    "Create a Notebook with all your results and comments and push the Notebook to GitHub when your team is done. Make sure to connect the GitHub repo to GradeScope before the due date. All results MUST be reproducible (i.e., the TA and I must be able to recreate your output from the Jupyter Notebook without changes or errors). This means that you should NOT use any python-packages that are not part of the RSM-MSBA docker container.\n",
    "\n",
    "> Note: Please do not install any packages as part of your Jupyter Notebook submission\n",
    "\n",
    "This is a group assignment and you will be using Git and GitHub. If two people edit the same file at the same time you could get what is called a \"merge conflict\". This is not something serious but you should realize that Git will not decide for you who's changes to accept. The team-lead will have to determine the edits to use. To avoid merge conflicts, **always** \"pull\" changes to the repo before you start working on any files. Then, when you are done, save and commit your changes, and then push them to GitHub. Make \"pull first\" a habit!\n",
    "\n",
    "If multiple people are going to work on the assignment at the same time I recommend you work in different notebooks. You can then `%run ...`  these \"sub\" notebooks from the main assignment file. You can seen an example of this in action below for the `question1.ipynb` notebook\n",
    "\n",
    "Some group work-flow tips:\n",
    "\n",
    "* Pull, edit, save, stage, commit, and push\n",
    "* Schedule who does what and when\n",
    "* Try to avoid working simultaneously on the same file\n",
    "* If you are going to work simultaneously, do it in different notebooks, e.g.,\n",
    "    - model1.ipynb, question1.ipynb, etc.\n",
    "* Use the `%run ... ` command to bring different pieces of code together into the main jupyter notebook\n",
    "* Put python functions in modules that you can import from your notebooks. See the example below for the `example` function defined in `utils/functions.py`\n",
    "\n",
    "A graphical depiction of the group work-flow is shown below:"
   ]
  },
  {
   "cell_type": "markdown",
   "metadata": {},
   "source": [
    "![](images/github-group-workflow.png)"
   ]
  },
  {
   "cell_type": "code",
   "execution_count": 1,
   "metadata": {},
   "outputs": [],
   "source": [
    "import pandas as pd\n",
    "import pyrsm as rsm\n",
    "import matplotlib.pyplot as plt\n",
    "import numpy as np"
   ]
  },
  {
   "cell_type": "code",
   "execution_count": 2,
   "metadata": {},
   "outputs": [
    {
     "data": {
      "text/html": [
       "<div>\n",
       "<style scoped>\n",
       "    .dataframe tbody tr th:only-of-type {\n",
       "        vertical-align: middle;\n",
       "    }\n",
       "\n",
       "    .dataframe tbody tr th {\n",
       "        vertical-align: top;\n",
       "    }\n",
       "\n",
       "    .dataframe thead th {\n",
       "        text-align: right;\n",
       "    }\n",
       "</style>\n",
       "<table border=\"1\" class=\"dataframe\">\n",
       "  <thead>\n",
       "    <tr style=\"text-align: right;\">\n",
       "      <th></th>\n",
       "      <th>custid</th>\n",
       "      <th>buyer</th>\n",
       "      <th>total_os</th>\n",
       "      <th>message</th>\n",
       "      <th>age</th>\n",
       "      <th>female</th>\n",
       "      <th>income</th>\n",
       "      <th>education</th>\n",
       "      <th>children</th>\n",
       "      <th>freq_endurance</th>\n",
       "      <th>freq_strength</th>\n",
       "      <th>freq_water</th>\n",
       "      <th>freq_team</th>\n",
       "      <th>freq_backcountry</th>\n",
       "      <th>freq_racquet</th>\n",
       "      <th>training</th>\n",
       "    </tr>\n",
       "  </thead>\n",
       "  <tbody>\n",
       "    <tr>\n",
       "      <th>0</th>\n",
       "      <td>U1</td>\n",
       "      <td>no</td>\n",
       "      <td>0</td>\n",
       "      <td>team</td>\n",
       "      <td>30 to 44</td>\n",
       "      <td>no</td>\n",
       "      <td>55000</td>\n",
       "      <td>19</td>\n",
       "      <td>0.8</td>\n",
       "      <td>0</td>\n",
       "      <td>4</td>\n",
       "      <td>0</td>\n",
       "      <td>4</td>\n",
       "      <td>0</td>\n",
       "      <td>1</td>\n",
       "      <td>1.0</td>\n",
       "    </tr>\n",
       "    <tr>\n",
       "      <th>1</th>\n",
       "      <td>U3</td>\n",
       "      <td>no</td>\n",
       "      <td>0</td>\n",
       "      <td>backcountry</td>\n",
       "      <td>45 to 59</td>\n",
       "      <td>no</td>\n",
       "      <td>35000</td>\n",
       "      <td>22</td>\n",
       "      <td>1.0</td>\n",
       "      <td>0</td>\n",
       "      <td>0</td>\n",
       "      <td>0</td>\n",
       "      <td>1</td>\n",
       "      <td>0</td>\n",
       "      <td>0</td>\n",
       "      <td>0.0</td>\n",
       "    </tr>\n",
       "    <tr>\n",
       "      <th>2</th>\n",
       "      <td>U13</td>\n",
       "      <td>no</td>\n",
       "      <td>0</td>\n",
       "      <td>endurance</td>\n",
       "      <td>45 to 59</td>\n",
       "      <td>yes</td>\n",
       "      <td>45000</td>\n",
       "      <td>33</td>\n",
       "      <td>0.7</td>\n",
       "      <td>0</td>\n",
       "      <td>0</td>\n",
       "      <td>0</td>\n",
       "      <td>0</td>\n",
       "      <td>2</td>\n",
       "      <td>2</td>\n",
       "      <td>1.0</td>\n",
       "    </tr>\n",
       "    <tr>\n",
       "      <th>3</th>\n",
       "      <td>U20</td>\n",
       "      <td>no</td>\n",
       "      <td>0</td>\n",
       "      <td>water</td>\n",
       "      <td>45 to 59</td>\n",
       "      <td>yes</td>\n",
       "      <td>25000</td>\n",
       "      <td>24</td>\n",
       "      <td>0.2</td>\n",
       "      <td>0</td>\n",
       "      <td>0</td>\n",
       "      <td>0</td>\n",
       "      <td>0</td>\n",
       "      <td>0</td>\n",
       "      <td>0</td>\n",
       "      <td>1.0</td>\n",
       "    </tr>\n",
       "    <tr>\n",
       "      <th>4</th>\n",
       "      <td>U25</td>\n",
       "      <td>no</td>\n",
       "      <td>0</td>\n",
       "      <td>racquet</td>\n",
       "      <td>&gt;= 60</td>\n",
       "      <td>yes</td>\n",
       "      <td>65000</td>\n",
       "      <td>32</td>\n",
       "      <td>1.1</td>\n",
       "      <td>1</td>\n",
       "      <td>2</td>\n",
       "      <td>0</td>\n",
       "      <td>0</td>\n",
       "      <td>2</td>\n",
       "      <td>2</td>\n",
       "      <td>0.0</td>\n",
       "    </tr>\n",
       "  </tbody>\n",
       "</table>\n",
       "</div>"
      ],
      "text/plain": [
       "  custid buyer  total_os      message       age female  income  education  \\\n",
       "0     U1    no         0         team  30 to 44     no   55000         19   \n",
       "1     U3    no         0  backcountry  45 to 59     no   35000         22   \n",
       "2    U13    no         0    endurance  45 to 59    yes   45000         33   \n",
       "3    U20    no         0        water  45 to 59    yes   25000         24   \n",
       "4    U25    no         0      racquet     >= 60    yes   65000         32   \n",
       "\n",
       "   children  freq_endurance  freq_strength  freq_water  freq_team  \\\n",
       "0       0.8               0              4           0          4   \n",
       "1       1.0               0              0           0          1   \n",
       "2       0.7               0              0           0          0   \n",
       "3       0.2               0              0           0          0   \n",
       "4       1.1               1              2           0          0   \n",
       "\n",
       "   freq_backcountry  freq_racquet  training  \n",
       "0                 0             1       1.0  \n",
       "1                 0             0       0.0  \n",
       "2                 2             2       1.0  \n",
       "3                 0             0       1.0  \n",
       "4                 2             2       0.0  "
      ]
     },
     "execution_count": 2,
     "metadata": {},
     "output_type": "execute_result"
    }
   ],
   "source": [
    "## loading the data - this dataset must NOT be changed\n",
    "pentathlon_nptb = pd.read_parquet(\"data/pentathlon_nptb.parquet\")\n",
    "pentathlon_nptb.head()"
   ]
  },
  {
   "cell_type": "code",
   "execution_count": 3,
   "metadata": {},
   "outputs": [
    {
     "data": {
      "text/markdown": [
       "## Pentathon: Next Product To Buy \n",
       "\n",
       "The available data is based on the last e-mail sent to each Pentathlon customer. Hence, an observation or row in the data is a \"customer-promotional e-mail\" pair. The data contains the following basic demographic information available to Pentathlon:\n",
       "\n",
       "* \"age\": Customer age(coded in 4 buckets:\"<30\", \"30 to 44\", \"45 to 59\", and \">=60\") \n",
       "* \"female\": Gender identity coded as Female \"yes\" or \"no\"\n",
       "* \"income\": Income in Euros, rounded to the nearest EUR5,000\n",
       "* \"education\": Percentage of college graduates in the customer's neighborhood, coded from 0-100\n",
       "* \"children\": Average number of children in the customer's neighborhood\n",
       "\n",
       "The data also contains basic historical information about customer purchases, specifically, a department-specific frequency measure.\n",
       "\n",
       "* \"freq_endurance-freq_racquet\": Number of purchases in each department in the last year, excluding any purchase in response to the last email.\n",
       "\n",
       "The key outcome variables are:\n",
       "\n",
       "* \"buyer\": Did the customer click on the e-mail and complete a purchase within two days of receiving the e-mail (\"yes\" or \"no\")?\n",
       "* \"total_os\": Total order size (in Euros) conditional on the customer having purchased (buyer == \"yes\"). This measures spending across all departments, not just the department that sent the message\n",
       "\n",
       "> Note: In addition to the six message groups, a seventh group of customers received no promotional e-mails for the duration of the test (\"control\")."
      ],
      "text/plain": [
       "<IPython.core.display.Markdown object>"
      ]
     },
     "metadata": {},
     "output_type": "display_data"
    }
   ],
   "source": [
    "# show dataset description\n",
    "rsm.md(\"data/pentathlon_nptb_description.md\")"
   ]
  },
  {
   "cell_type": "code",
   "execution_count": 4,
   "metadata": {},
   "outputs": [
    {
     "data": {
      "text/markdown": [
       "```python\n",
       "lrc = rsm.model.logistic(\n",
       "    data={\"pentathlon_nptb\": pentathlon_nptb},\n",
       "    rvar=\"buyer\",\n",
       "    lev=\"yes\",\n",
       "    evar=[\"message\", \"age\"]\n",
       ")\n",
       "lrc.summary()\n",
       "```"
      ],
      "text/plain": [
       "<IPython.core.display.Markdown object>"
      ]
     },
     "metadata": {},
     "output_type": "display_data"
    }
   ],
   "source": [
    "# show the content another notebook\n",
    "rsm.md_notebook(\"./sub-notebooks/model1.ipynb\")"
   ]
  },
  {
   "cell_type": "code",
   "execution_count": 5,
   "metadata": {},
   "outputs": [
    {
     "name": "stdout",
     "output_type": "stream",
     "text": [
      "Logistic regression (GLM)\n",
      "Data                 : pentathlon_nptb\n",
      "Response variable    : buyer\n",
      "Level                : yes\n",
      "Explanatory variables: message, age\n",
      "Null hyp.: There is no effect of x on buyer\n",
      "Alt. hyp.: There is an effect of x on buyer\n",
      "\n",
      "                       OR     OR%  coefficient  std.error  z.value p.value     \n",
      "Intercept           0.013  -98.7%        -4.34      0.034 -126.939  < .001  ***\n",
      "message[control]    0.946   -5.4%        -0.06      0.032   -1.718   0.086    .\n",
      "message[endurance]  1.109   10.9%         0.10      0.031    3.307  < .001  ***\n",
      "message[racquet]    0.965   -3.5%        -0.04      0.032   -1.121   0.262     \n",
      "message[strength]   1.063    6.3%         0.06      0.032    1.945   0.052    .\n",
      "message[team]       1.024    2.4%         0.02      0.032    0.755    0.45     \n",
      "message[water]      1.037    3.7%         0.04      0.032    1.146   0.252     \n",
      "age[30 to 44]       2.421  142.1%         0.88      0.030   29.315  < .001  ***\n",
      "age[45 to 59]       2.159  115.9%         0.77      0.030   25.340  < .001  ***\n",
      "age[>= 60]          1.131   13.1%         0.12      0.037    3.359  < .001  ***\n",
      "\n",
      "Signif. codes:  0 '***' 0.001 '**' 0.01 '*' 0.05 '.' 0.1 ' ' 1\n",
      "\n",
      "Pseudo R-squared (McFadden): 0.012\n",
      "Pseudo R-squared (McFadden adjusted): 0.012\n",
      "Area under the RO Curve (AUC): 0.589\n",
      "Log-likelihood: -67114.874, AIC: 134249.747, BIC: 134362.794\n",
      "Chi-squared: 1637.256, df(9), p.value < 0.001 \n",
      "Nr obs: 600,000\n"
     ]
    }
   ],
   "source": [
    "# run python code from another notebook\n",
    "%run ./sub-notebooks/model1.ipynb"
   ]
  },
  {
   "cell_type": "code",
   "execution_count": 6,
   "metadata": {},
   "outputs": [
    {
     "name": "stdout",
     "output_type": "stream",
     "text": [
      "\n",
      "You just accessed a function from your first python packages!\n",
      "Change the code in utils/function.py to whatever you need for this assignment\n",
      "Use 'from utils import functions' to get access to your code\n",
      "You can add modules to import from by adding additional .py files to the 'utils' directory\n",
      "Note: If you make changes to the content of this file you will have to restart the notebook kernel to get the updates\n",
      "\n"
     ]
    }
   ],
   "source": [
    "# importing functions from a module/package\n",
    "from utils import functions\n",
    "\n",
    "functions.example()\n"
   ]
  },
  {
   "cell_type": "code",
   "execution_count": 7,
   "metadata": {},
   "outputs": [
    {
     "data": {
      "text/plain": [
       "Index(['custid', 'buyer', 'total_os', 'message', 'age', 'female', 'income',\n",
       "       'education', 'children', 'freq_endurance', 'freq_strength',\n",
       "       'freq_water', 'freq_team', 'freq_backcountry', 'freq_racquet',\n",
       "       'training'],\n",
       "      dtype='object')"
      ]
     },
     "execution_count": 7,
     "metadata": {},
     "output_type": "execute_result"
    }
   ],
   "source": [
    "## Question answers\n",
    "pentathlon_nptb.columns"
   ]
  },
  {
   "cell_type": "markdown",
   "metadata": {},
   "source": [
    "# Logistic Regression Model"
   ]
  },
  {
   "cell_type": "markdown",
   "metadata": {},
   "source": [
    "## Question 1: LR Model\n",
    "For  each  customer  determine  the  message  (i.e.,  endurance,  strength,  water,  team, backcountry,  racquet,  or  no-message)  predicted  to  lead  to  the  highest  probability  of purchase. Describe your approach."
   ]
  },
  {
   "cell_type": "code",
   "execution_count": 8,
   "metadata": {},
   "outputs": [
    {
     "data": {
      "text/plain": [
       "['message',\n",
       " 'age',\n",
       " 'female',\n",
       " 'income',\n",
       " 'education',\n",
       " 'children',\n",
       " 'freq_endurance',\n",
       " 'freq_strength',\n",
       " 'freq_water',\n",
       " 'freq_team',\n",
       " 'freq_backcountry',\n",
       " 'freq_racquet']"
      ]
     },
     "execution_count": 8,
     "metadata": {},
     "output_type": "execute_result"
    }
   ],
   "source": [
    "evars = pentathlon_nptb.columns.to_list()\n",
    "evars = evars[evars.index(\"message\"):]\n",
    "evars = evars[:evars.index(\"freq_racquet\")+1]\n",
    "evars"
   ]
  },
  {
   "cell_type": "code",
   "execution_count": 9,
   "metadata": {},
   "outputs": [
    {
     "data": {
      "text/plain": [
       "['age:message',\n",
       " 'female:message',\n",
       " 'income:message',\n",
       " 'education:message',\n",
       " 'children:message',\n",
       " 'freq_endurance:message',\n",
       " 'freq_strength:message',\n",
       " 'freq_water:message',\n",
       " 'freq_team:message',\n",
       " 'freq_backcountry:message',\n",
       " 'freq_racquet:message']"
      ]
     },
     "execution_count": 9,
     "metadata": {},
     "output_type": "execute_result"
    }
   ],
   "source": [
    "ivars=[f\"{e}:message\" for e in evars if e != \"message\"]\n",
    "ivars"
   ]
  },
  {
   "cell_type": "code",
   "execution_count": 10,
   "metadata": {},
   "outputs": [
    {
     "name": "stdout",
     "output_type": "stream",
     "text": [
      "Logistic regression (GLM)\n",
      "Data                 : pentathlon_nptb\n",
      "Response variable    : buyer\n",
      "Level                : yes\n",
      "Explanatory variables: message, age, female, income, education, children, freq_endurance, freq_strength, freq_water, freq_team, freq_backcountry, freq_racquet\n",
      "Null hyp.: There is no effect of x on buyer\n",
      "Alt. hyp.: There is an effect of x on buyer\n",
      "\n",
      "                                        OR      OR%  coefficient  std.error  z.value p.value     \n",
      "Intercept                            0.000  -100.0%        -8.25      0.153  -53.948  < .001  ***\n",
      "message[control]                     1.115    11.5%         0.11      0.220    0.496    0.62     \n",
      "message[endurance]                   1.199    19.9%         0.18      0.213    0.850   0.395     \n",
      "message[racquet]                     1.084     8.4%         0.08      0.217    0.370   0.711     \n",
      "message[strength]                    0.959    -4.1%        -0.04      0.216   -0.195   0.846     \n",
      "message[team]                        0.881   -11.9%        -0.13      0.217   -0.581   0.561     \n",
      "message[water]                       0.903    -9.7%        -0.10      0.219   -0.468    0.64     \n",
      "age[30 to 44]                        1.979    97.9%         0.68      0.100    6.802  < .001  ***\n",
      "age[45 to 59]                        2.056   105.6%         0.72      0.102    7.033  < .001  ***\n",
      "age[>= 60]                           0.992    -0.8%        -0.01      0.127   -0.060   0.952     \n",
      "female[no]                           1.365    36.5%         0.31      0.064    4.833  < .001  ***\n",
      "age[30 to 44]:message[control]       1.196    19.6%         0.18      0.146    1.225    0.22     \n",
      "age[45 to 59]:message[control]       1.016     1.6%         0.02      0.150    0.107   0.914     \n",
      "age[>= 60]:message[control]          1.155    15.5%         0.14      0.184    0.785   0.432     \n",
      "age[30 to 44]:message[endurance]     1.302    30.2%         0.26      0.142    1.855   0.064    .\n",
      "age[45 to 59]:message[endurance]     1.142    14.2%         0.13      0.146    0.907   0.364     \n",
      "age[>= 60]:message[endurance]        1.473    47.3%         0.39      0.176    2.203   0.028    *\n",
      "age[30 to 44]:message[racquet]       1.053     5.3%         0.05      0.144    0.358    0.72     \n",
      "age[45 to 59]:message[racquet]       1.004     0.4%         0.00      0.147    0.030   0.976     \n",
      "age[>= 60]:message[racquet]          1.269    26.9%         0.24      0.178    1.334   0.182     \n",
      "age[30 to 44]:message[strength]      1.307    30.7%         0.27      0.142    1.886   0.059    .\n",
      "age[45 to 59]:message[strength]      0.947    -5.3%        -0.05      0.146   -0.375   0.708     \n",
      "age[>= 60]:message[strength]         1.084     8.4%         0.08      0.178    0.456   0.649     \n",
      "age[30 to 44]:message[team]          1.268    26.8%         0.24      0.144    1.654   0.098    .\n",
      "age[45 to 59]:message[team]          1.111    11.1%         0.10      0.147    0.713   0.476     \n",
      "age[>= 60]:message[team]             1.164    16.4%         0.15      0.180    0.841     0.4     \n",
      "age[30 to 44]:message[water]         1.359    35.9%         0.31      0.147    2.081   0.037    *\n",
      "age[45 to 59]:message[water]         1.264    26.4%         0.23      0.151    1.552   0.121     \n",
      "age[>= 60]:message[water]            1.362    36.2%         0.31      0.184    1.677   0.094    .\n",
      "female[no]:message[control]          0.974    -2.6%        -0.03      0.092   -0.283   0.777     \n",
      "female[no]:message[endurance]        0.884   -11.6%        -0.12      0.089   -1.391   0.164     \n",
      "female[no]:message[racquet]          1.192    19.2%         0.18      0.092    1.911   0.056    .\n",
      "female[no]:message[strength]         1.015     1.5%         0.02      0.090    0.168   0.867     \n",
      "female[no]:message[team]             1.019     1.9%         0.02      0.090    0.206   0.837     \n",
      "female[no]:message[water]            0.897   -10.3%        -0.11      0.091   -1.190   0.234     \n",
      "income                               1.000     0.0%         0.00      0.000    8.324  < .001  ***\n",
      "income:message[control]              1.000     0.0%         0.00      0.000    0.020   0.984     \n",
      "income:message[endurance]            1.000     0.0%         0.00      0.000    1.688   0.091    .\n",
      "income:message[racquet]              1.000     0.0%         0.00      0.000    0.191   0.849     \n",
      "income:message[strength]             1.000    -0.0%        -0.00      0.000   -0.368   0.713     \n",
      "income:message[team]                 1.000     0.0%         0.00      0.000    0.053   0.958     \n",
      "income:message[water]                1.000    -0.0%        -0.00      0.000   -0.353   0.724     \n",
      "education                            1.041     4.1%         0.04      0.003   13.546  < .001  ***\n",
      "education:message[control]           0.995    -0.5%        -0.01      0.004   -1.273   0.203     \n",
      "education:message[endurance]         0.993    -0.7%        -0.01      0.004   -1.722   0.085    .\n",
      "education:message[racquet]           0.992    -0.8%        -0.01      0.004   -1.959    0.05    .\n",
      "education:message[strength]          1.002     0.2%         0.00      0.004    0.551   0.581     \n",
      "education:message[team]              1.000    -0.0%        -0.00      0.004   -0.071   0.943     \n",
      "education:message[water]             0.997    -0.3%        -0.00      0.004   -0.718   0.473     \n",
      "children                             1.723    72.3%         0.54      0.078    6.982  < .001  ***\n",
      "children:message[control]            0.838   -16.2%        -0.18      0.114   -1.552   0.121     \n",
      "children:message[endurance]          0.885   -11.5%        -0.12      0.109   -1.120   0.263     \n",
      "children:message[racquet]            0.933    -6.7%        -0.07      0.110   -0.629   0.529     \n",
      "children:message[strength]           1.023     2.3%         0.02      0.110    0.207   0.836     \n",
      "children:message[team]               0.960    -4.0%        -0.04      0.111   -0.369   0.712     \n",
      "children:message[water]              0.935    -6.5%        -0.07      0.112   -0.602   0.547     \n",
      "freq_endurance                       1.081     8.1%         0.08      0.014    5.617  < .001  ***\n",
      "freq_endurance:message[control]      1.029     2.9%         0.03      0.020    1.442   0.149     \n",
      "freq_endurance:message[endurance]    0.990    -1.0%        -0.01      0.020   -0.512   0.609     \n",
      "freq_endurance:message[racquet]      1.016     1.6%         0.02      0.020    0.792   0.428     \n",
      "freq_endurance:message[strength]     1.016     1.6%         0.02      0.020    0.804   0.421     \n",
      "freq_endurance:message[team]         1.043     4.3%         0.04      0.019    2.157   0.031    *\n",
      "freq_endurance:message[water]        1.036     3.6%         0.04      0.020    1.807   0.071    .\n",
      "freq_strength                        1.114    11.4%         0.11      0.009   12.347  < .001  ***\n",
      "freq_strength:message[control]       1.001     0.1%         0.00      0.012    0.045   0.964     \n",
      "freq_strength:message[endurance]     0.991    -0.9%        -0.01      0.012   -0.732   0.464     \n",
      "freq_strength:message[racquet]       1.002     0.2%         0.00      0.012    0.142   0.887     \n",
      "freq_strength:message[strength]      0.998    -0.2%        -0.00      0.012   -0.174   0.862     \n",
      "freq_strength:message[team]          1.003     0.3%         0.00      0.012    0.249   0.803     \n",
      "freq_strength:message[water]         1.015     1.5%         0.01      0.012    1.162   0.245     \n",
      "freq_water                           1.139    13.9%         0.13      0.035    3.678  < .001  ***\n",
      "freq_water:message[control]          1.036     3.6%         0.04      0.051    0.699   0.484     \n",
      "freq_water:message[endurance]        1.067     6.7%         0.06      0.051    1.272   0.204     \n",
      "freq_water:message[racquet]          1.028     2.8%         0.03      0.051    0.539    0.59     \n",
      "freq_water:message[strength]         1.014     1.4%         0.01      0.051    0.268   0.788     \n",
      "freq_water:message[team]             0.970    -3.0%        -0.03      0.050   -0.602   0.547     \n",
      "freq_water:message[water]            1.158    15.8%         0.15      0.051    2.859   0.004   **\n",
      "freq_team                            1.037     3.7%         0.04      0.012    3.069   0.002   **\n",
      "freq_team:message[control]           1.005     0.5%         0.01      0.017    0.302   0.763     \n",
      "freq_team:message[endurance]         0.999    -0.1%        -0.00      0.017   -0.057   0.955     \n",
      "freq_team:message[racquet]           1.025     2.5%         0.02      0.017    1.431   0.152     \n",
      "freq_team:message[strength]          1.031     3.1%         0.03      0.017    1.788   0.074    .\n",
      "freq_team:message[team]              0.993    -0.7%        -0.01      0.017   -0.406   0.685     \n",
      "freq_team:message[water]             1.036     3.6%         0.04      0.017    2.081   0.037    *\n",
      "freq_backcountry                     1.210    21.0%         0.19      0.026    7.256  < .001  ***\n",
      "freq_backcountry:message[control]    0.973    -2.7%        -0.03      0.037   -0.727   0.467     \n",
      "freq_backcountry:message[endurance]  0.992    -0.8%        -0.01      0.037   -0.224   0.823     \n",
      "freq_backcountry:message[racquet]    0.968    -3.2%        -0.03      0.037   -0.864   0.388     \n",
      "freq_backcountry:message[strength]   0.982    -1.8%        -0.02      0.037   -0.492   0.623     \n",
      "freq_backcountry:message[team]       0.976    -2.4%        -0.02      0.037   -0.658   0.511     \n",
      "freq_backcountry:message[water]      0.981    -1.9%        -0.02      0.038   -0.517   0.605     \n",
      "freq_racquet                         1.100    10.0%         0.10      0.017    5.456  < .001  ***\n",
      "freq_racquet:message[control]        1.034     3.4%         0.03      0.025    1.356   0.175     \n",
      "freq_racquet:message[endurance]      1.034     3.4%         0.03      0.025    1.375   0.169     \n",
      "freq_racquet:message[racquet]        1.039     3.9%         0.04      0.025    1.523   0.128     \n",
      "freq_racquet:message[strength]       0.975    -2.5%        -0.03      0.025   -1.023   0.306     \n",
      "freq_racquet:message[team]           0.992    -0.8%        -0.01      0.024   -0.345    0.73     \n",
      "freq_racquet:message[water]          0.998    -0.2%        -0.00      0.025   -0.090   0.928     \n",
      "\n",
      "Signif. codes:  0 '***' 0.001 '**' 0.01 '*' 0.05 '.' 0.1 ' ' 1\n",
      "\n",
      "Pseudo R-squared (McFadden): 0.262\n",
      "Pseudo R-squared (McFadden adjusted): 0.26\n",
      "Area under the RO Curve (AUC): 0.884\n",
      "Log-likelihood: -35102.941, AIC: 70401.883, BIC: 71474.788\n",
      "Chi-squared: 24901.02, df(97), p.value < 0.001 \n",
      "Nr obs: 420,000\n"
     ]
    }
   ],
   "source": [
    "lr = rsm.model.logistic(\n",
    "    data={\"pentathlon_nptb\": pentathlon_nptb[pentathlon_nptb.training == 1]},\n",
    "    rvar=\"buyer\",\n",
    "    lev=\"yes\",\n",
    "    evar=evars,\n",
    "    ivar=ivars,\n",
    ")\n",
    "lr.summary()"
   ]
  },
  {
   "cell_type": "code",
   "execution_count": 11,
   "metadata": {},
   "outputs": [
    {
     "data": {
      "text/html": [
       "<div>\n",
       "<style scoped>\n",
       "    .dataframe tbody tr th:only-of-type {\n",
       "        vertical-align: middle;\n",
       "    }\n",
       "\n",
       "    .dataframe tbody tr th {\n",
       "        vertical-align: top;\n",
       "    }\n",
       "\n",
       "    .dataframe thead th {\n",
       "        text-align: right;\n",
       "    }\n",
       "</style>\n",
       "<table border=\"1\" class=\"dataframe\">\n",
       "  <thead>\n",
       "    <tr style=\"text-align: right;\">\n",
       "      <th></th>\n",
       "      <th>custid</th>\n",
       "      <th>buyer</th>\n",
       "      <th>total_os</th>\n",
       "      <th>message</th>\n",
       "      <th>age</th>\n",
       "      <th>female</th>\n",
       "      <th>income</th>\n",
       "      <th>education</th>\n",
       "      <th>children</th>\n",
       "      <th>freq_endurance</th>\n",
       "      <th>...</th>\n",
       "      <th>freq_backcountry</th>\n",
       "      <th>freq_racquet</th>\n",
       "      <th>training</th>\n",
       "      <th>p_endurance</th>\n",
       "      <th>p_strength</th>\n",
       "      <th>p_water</th>\n",
       "      <th>p_team</th>\n",
       "      <th>p_backcountry</th>\n",
       "      <th>p_racquet</th>\n",
       "      <th>p_control</th>\n",
       "    </tr>\n",
       "  </thead>\n",
       "  <tbody>\n",
       "    <tr>\n",
       "      <th>0</th>\n",
       "      <td>U1</td>\n",
       "      <td>no</td>\n",
       "      <td>0</td>\n",
       "      <td>team</td>\n",
       "      <td>30 to 44</td>\n",
       "      <td>no</td>\n",
       "      <td>55000</td>\n",
       "      <td>19</td>\n",
       "      <td>0.8</td>\n",
       "      <td>0</td>\n",
       "      <td>...</td>\n",
       "      <td>0</td>\n",
       "      <td>1</td>\n",
       "      <td>1.0</td>\n",
       "      <td>0.015682</td>\n",
       "      <td>0.015452</td>\n",
       "      <td>0.012604</td>\n",
       "      <td>0.012008</td>\n",
       "      <td>0.011131</td>\n",
       "      <td>0.014499</td>\n",
       "      <td>0.012022</td>\n",
       "    </tr>\n",
       "    <tr>\n",
       "      <th>1</th>\n",
       "      <td>U3</td>\n",
       "      <td>no</td>\n",
       "      <td>0</td>\n",
       "      <td>backcountry</td>\n",
       "      <td>45 to 59</td>\n",
       "      <td>no</td>\n",
       "      <td>35000</td>\n",
       "      <td>22</td>\n",
       "      <td>1.0</td>\n",
       "      <td>0</td>\n",
       "      <td>...</td>\n",
       "      <td>0</td>\n",
       "      <td>0</td>\n",
       "      <td>0.0</td>\n",
       "      <td>0.006014</td>\n",
       "      <td>0.005475</td>\n",
       "      <td>0.004981</td>\n",
       "      <td>0.005279</td>\n",
       "      <td>0.005556</td>\n",
       "      <td>0.005858</td>\n",
       "      <td>0.004605</td>\n",
       "    </tr>\n",
       "    <tr>\n",
       "      <th>2</th>\n",
       "      <td>U13</td>\n",
       "      <td>no</td>\n",
       "      <td>0</td>\n",
       "      <td>endurance</td>\n",
       "      <td>45 to 59</td>\n",
       "      <td>yes</td>\n",
       "      <td>45000</td>\n",
       "      <td>33</td>\n",
       "      <td>0.7</td>\n",
       "      <td>0</td>\n",
       "      <td>...</td>\n",
       "      <td>2</td>\n",
       "      <td>2</td>\n",
       "      <td>1.0</td>\n",
       "      <td>0.013884</td>\n",
       "      <td>0.009343</td>\n",
       "      <td>0.009680</td>\n",
       "      <td>0.009533</td>\n",
       "      <td>0.010718</td>\n",
       "      <td>0.008789</td>\n",
       "      <td>0.009140</td>\n",
       "    </tr>\n",
       "    <tr>\n",
       "      <th>3</th>\n",
       "      <td>U20</td>\n",
       "      <td>no</td>\n",
       "      <td>0</td>\n",
       "      <td>water</td>\n",
       "      <td>45 to 59</td>\n",
       "      <td>yes</td>\n",
       "      <td>25000</td>\n",
       "      <td>24</td>\n",
       "      <td>0.2</td>\n",
       "      <td>0</td>\n",
       "      <td>...</td>\n",
       "      <td>0</td>\n",
       "      <td>0</td>\n",
       "      <td>1.0</td>\n",
       "      <td>0.002970</td>\n",
       "      <td>0.002196</td>\n",
       "      <td>0.002389</td>\n",
       "      <td>0.002264</td>\n",
       "      <td>0.002339</td>\n",
       "      <td>0.002089</td>\n",
       "      <td>0.002252</td>\n",
       "    </tr>\n",
       "    <tr>\n",
       "      <th>4</th>\n",
       "      <td>U25</td>\n",
       "      <td>no</td>\n",
       "      <td>0</td>\n",
       "      <td>racquet</td>\n",
       "      <td>&gt;= 60</td>\n",
       "      <td>yes</td>\n",
       "      <td>65000</td>\n",
       "      <td>32</td>\n",
       "      <td>1.1</td>\n",
       "      <td>1</td>\n",
       "      <td>...</td>\n",
       "      <td>2</td>\n",
       "      <td>2</td>\n",
       "      <td>0.0</td>\n",
       "      <td>0.019675</td>\n",
       "      <td>0.011463</td>\n",
       "      <td>0.011437</td>\n",
       "      <td>0.011119</td>\n",
       "      <td>0.011526</td>\n",
       "      <td>0.012039</td>\n",
       "      <td>0.010784</td>\n",
       "    </tr>\n",
       "    <tr>\n",
       "      <th>...</th>\n",
       "      <td>...</td>\n",
       "      <td>...</td>\n",
       "      <td>...</td>\n",
       "      <td>...</td>\n",
       "      <td>...</td>\n",
       "      <td>...</td>\n",
       "      <td>...</td>\n",
       "      <td>...</td>\n",
       "      <td>...</td>\n",
       "      <td>...</td>\n",
       "      <td>...</td>\n",
       "      <td>...</td>\n",
       "      <td>...</td>\n",
       "      <td>...</td>\n",
       "      <td>...</td>\n",
       "      <td>...</td>\n",
       "      <td>...</td>\n",
       "      <td>...</td>\n",
       "      <td>...</td>\n",
       "      <td>...</td>\n",
       "      <td>...</td>\n",
       "    </tr>\n",
       "    <tr>\n",
       "      <th>599995</th>\n",
       "      <td>U3462888</td>\n",
       "      <td>no</td>\n",
       "      <td>0</td>\n",
       "      <td>water</td>\n",
       "      <td>&gt;= 60</td>\n",
       "      <td>yes</td>\n",
       "      <td>40000</td>\n",
       "      <td>26</td>\n",
       "      <td>0.6</td>\n",
       "      <td>0</td>\n",
       "      <td>...</td>\n",
       "      <td>0</td>\n",
       "      <td>0</td>\n",
       "      <td>1.0</td>\n",
       "      <td>0.003217</td>\n",
       "      <td>0.002089</td>\n",
       "      <td>0.002042</td>\n",
       "      <td>0.001946</td>\n",
       "      <td>0.001947</td>\n",
       "      <td>0.002118</td>\n",
       "      <td>0.001966</td>\n",
       "    </tr>\n",
       "    <tr>\n",
       "      <th>599996</th>\n",
       "      <td>U3462900</td>\n",
       "      <td>no</td>\n",
       "      <td>0</td>\n",
       "      <td>team</td>\n",
       "      <td>&lt; 30</td>\n",
       "      <td>no</td>\n",
       "      <td>55000</td>\n",
       "      <td>32</td>\n",
       "      <td>0.9</td>\n",
       "      <td>3</td>\n",
       "      <td>...</td>\n",
       "      <td>0</td>\n",
       "      <td>1</td>\n",
       "      <td>0.0</td>\n",
       "      <td>0.007731</td>\n",
       "      <td>0.008117</td>\n",
       "      <td>0.005832</td>\n",
       "      <td>0.007692</td>\n",
       "      <td>0.007884</td>\n",
       "      <td>0.008257</td>\n",
       "      <td>0.006959</td>\n",
       "    </tr>\n",
       "    <tr>\n",
       "      <th>599997</th>\n",
       "      <td>U3462902</td>\n",
       "      <td>no</td>\n",
       "      <td>0</td>\n",
       "      <td>team</td>\n",
       "      <td>&lt; 30</td>\n",
       "      <td>yes</td>\n",
       "      <td>55000</td>\n",
       "      <td>32</td>\n",
       "      <td>0.9</td>\n",
       "      <td>0</td>\n",
       "      <td>...</td>\n",
       "      <td>1</td>\n",
       "      <td>2</td>\n",
       "      <td>1.0</td>\n",
       "      <td>0.011345</td>\n",
       "      <td>0.009822</td>\n",
       "      <td>0.008286</td>\n",
       "      <td>0.008225</td>\n",
       "      <td>0.010062</td>\n",
       "      <td>0.008976</td>\n",
       "      <td>0.008535</td>\n",
       "    </tr>\n",
       "    <tr>\n",
       "      <th>599998</th>\n",
       "      <td>U3462916</td>\n",
       "      <td>no</td>\n",
       "      <td>0</td>\n",
       "      <td>team</td>\n",
       "      <td>&lt; 30</td>\n",
       "      <td>no</td>\n",
       "      <td>50000</td>\n",
       "      <td>35</td>\n",
       "      <td>0.6</td>\n",
       "      <td>2</td>\n",
       "      <td>...</td>\n",
       "      <td>0</td>\n",
       "      <td>1</td>\n",
       "      <td>0.0</td>\n",
       "      <td>0.006971</td>\n",
       "      <td>0.007284</td>\n",
       "      <td>0.005272</td>\n",
       "      <td>0.006796</td>\n",
       "      <td>0.007164</td>\n",
       "      <td>0.007352</td>\n",
       "      <td>0.006378</td>\n",
       "    </tr>\n",
       "    <tr>\n",
       "      <th>599999</th>\n",
       "      <td>U3462922</td>\n",
       "      <td>no</td>\n",
       "      <td>0</td>\n",
       "      <td>endurance</td>\n",
       "      <td>30 to 44</td>\n",
       "      <td>yes</td>\n",
       "      <td>50000</td>\n",
       "      <td>25</td>\n",
       "      <td>0.7</td>\n",
       "      <td>1</td>\n",
       "      <td>...</td>\n",
       "      <td>0</td>\n",
       "      <td>2</td>\n",
       "      <td>0.0</td>\n",
       "      <td>0.011857</td>\n",
       "      <td>0.009222</td>\n",
       "      <td>0.008214</td>\n",
       "      <td>0.008401</td>\n",
       "      <td>0.007500</td>\n",
       "      <td>0.007495</td>\n",
       "      <td>0.008527</td>\n",
       "    </tr>\n",
       "  </tbody>\n",
       "</table>\n",
       "<p>600000 rows × 23 columns</p>\n",
       "</div>"
      ],
      "text/plain": [
       "          custid buyer  total_os      message       age female  income  \\\n",
       "0             U1    no         0         team  30 to 44     no   55000   \n",
       "1             U3    no         0  backcountry  45 to 59     no   35000   \n",
       "2            U13    no         0    endurance  45 to 59    yes   45000   \n",
       "3            U20    no         0        water  45 to 59    yes   25000   \n",
       "4            U25    no         0      racquet     >= 60    yes   65000   \n",
       "...          ...   ...       ...          ...       ...    ...     ...   \n",
       "599995  U3462888    no         0        water     >= 60    yes   40000   \n",
       "599996  U3462900    no         0         team      < 30     no   55000   \n",
       "599997  U3462902    no         0         team      < 30    yes   55000   \n",
       "599998  U3462916    no         0         team      < 30     no   50000   \n",
       "599999  U3462922    no         0    endurance  30 to 44    yes   50000   \n",
       "\n",
       "        education  children  freq_endurance  ...  freq_backcountry  \\\n",
       "0              19       0.8               0  ...                 0   \n",
       "1              22       1.0               0  ...                 0   \n",
       "2              33       0.7               0  ...                 2   \n",
       "3              24       0.2               0  ...                 0   \n",
       "4              32       1.1               1  ...                 2   \n",
       "...           ...       ...             ...  ...               ...   \n",
       "599995         26       0.6               0  ...                 0   \n",
       "599996         32       0.9               3  ...                 0   \n",
       "599997         32       0.9               0  ...                 1   \n",
       "599998         35       0.6               2  ...                 0   \n",
       "599999         25       0.7               1  ...                 0   \n",
       "\n",
       "        freq_racquet  training  p_endurance  p_strength   p_water    p_team  \\\n",
       "0                  1       1.0     0.015682    0.015452  0.012604  0.012008   \n",
       "1                  0       0.0     0.006014    0.005475  0.004981  0.005279   \n",
       "2                  2       1.0     0.013884    0.009343  0.009680  0.009533   \n",
       "3                  0       1.0     0.002970    0.002196  0.002389  0.002264   \n",
       "4                  2       0.0     0.019675    0.011463  0.011437  0.011119   \n",
       "...              ...       ...          ...         ...       ...       ...   \n",
       "599995             0       1.0     0.003217    0.002089  0.002042  0.001946   \n",
       "599996             1       0.0     0.007731    0.008117  0.005832  0.007692   \n",
       "599997             2       1.0     0.011345    0.009822  0.008286  0.008225   \n",
       "599998             1       0.0     0.006971    0.007284  0.005272  0.006796   \n",
       "599999             2       0.0     0.011857    0.009222  0.008214  0.008401   \n",
       "\n",
       "        p_backcountry  p_racquet  p_control  \n",
       "0            0.011131   0.014499   0.012022  \n",
       "1            0.005556   0.005858   0.004605  \n",
       "2            0.010718   0.008789   0.009140  \n",
       "3            0.002339   0.002089   0.002252  \n",
       "4            0.011526   0.012039   0.010784  \n",
       "...               ...        ...        ...  \n",
       "599995       0.001947   0.002118   0.001966  \n",
       "599996       0.007884   0.008257   0.006959  \n",
       "599997       0.010062   0.008976   0.008535  \n",
       "599998       0.007164   0.007352   0.006378  \n",
       "599999       0.007500   0.007495   0.008527  \n",
       "\n",
       "[600000 rows x 23 columns]"
      ]
     },
     "execution_count": 11,
     "metadata": {},
     "output_type": "execute_result"
    }
   ],
   "source": [
    "pentathlon_nptb[\"p_endurance\"] = lr.predict(pentathlon_nptb, data_cmd={\"message\": \"endurance\"})[\"prediction\"]\n",
    "pentathlon_nptb[\"p_strength\"] = lr.predict(pentathlon_nptb, data_cmd={\"message\": \"strength\"})[\"prediction\"]\n",
    "pentathlon_nptb[\"p_water\"] = lr.predict(pentathlon_nptb, data_cmd={\"message\": \"water\"})[\"prediction\"]\n",
    "pentathlon_nptb[\"p_team\"] = lr.predict(pentathlon_nptb, data_cmd={\"message\": \"team\"})[\"prediction\"]\n",
    "pentathlon_nptb[\"p_backcountry\"] = lr.predict(pentathlon_nptb, data_cmd={\"message\": \"backcountry\"})[\"prediction\"]\n",
    "pentathlon_nptb[\"p_racquet\"] = lr.predict(pentathlon_nptb, data_cmd={\"message\": \"racquet\"})[\"prediction\"]\n",
    "pentathlon_nptb[\"p_control\"] = lr.predict(pentathlon_nptb, data_cmd={\"message\": \"control\"})[\"prediction\"]\n",
    "pentathlon_nptb"
   ]
  },
  {
   "cell_type": "code",
   "execution_count": 12,
   "metadata": {},
   "outputs": [],
   "source": [
    "pentathlon_nptb[\"to_message\"] = pentathlon_nptb[[\"p_endurance\", \"p_strength\", \"p_water\", \"p_team\", \"p_backcountry\", \"p_racquet\", \"p_control\"]].idxmax(axis=1)"
   ]
  },
  {
   "cell_type": "code",
   "execution_count": 13,
   "metadata": {},
   "outputs": [],
   "source": [
    "repl = {\"p_endurance\": \"endurance\", \"p_strength\": \"strength\", \"p_water\": \"water\", \"p_team\": \"team\", \"p_backcountry\": \"backcountry\", \"p_racquet\": \"racquet\", \"p_control\": \"control\"}\n",
    "\n",
    "pentathlon_nptb[\"to_message\"] = pentathlon_nptb[[\"p_endurance\", \"p_strength\", \"p_water\", \"p_team\", \"p_backcountry\", \"p_racquet\", \"p_control\"]].idxmax(axis=1).map(repl)"
   ]
  },
  {
   "cell_type": "markdown",
   "metadata": {},
   "source": [
    "Our approach outlined in the code leverages logistic regression to analyze customer data and predict purchasing behavior. It begins with creating interaction terms with the 'message' feature. A logistic model is then trained to forecast the likelihood of a customer buying given different messages. Using these predictions, the model determines the most effective message for each customer, optimizing for the highest probability of purchase, which can be used to tailor future marketing campaigns for improved customer response rates."
   ]
  },
  {
   "cell_type": "markdown",
   "metadata": {},
   "source": [
    "## Question 2 : LR Model\n",
    "For each message, report the percentage of customers for whom that message or no-message  maximizes  their  probability  of  purchase.  Comment  on  the  distribution  of expected response across messages."
   ]
  },
  {
   "cell_type": "code",
   "execution_count": 14,
   "metadata": {},
   "outputs": [],
   "source": [
    "pentathlon_nptb[\"p_max\"] = pentathlon_nptb[[\"p_endurance\", \"p_strength\", \"p_water\", \"p_team\", \"p_backcountry\", \"p_racquet\", \"p_control\"]].max(axis=1)"
   ]
  },
  {
   "cell_type": "code",
   "execution_count": 15,
   "metadata": {},
   "outputs": [
    {
     "data": {
      "text/plain": [
       "to_message\n",
       "endurance      69.97%\n",
       "strength       20.22%\n",
       "racquet          6.9%\n",
       "water           1.19%\n",
       "team            0.94%\n",
       "backcountry     0.79%\n",
       "control          0.0%\n",
       "Name: proportion, dtype: object"
      ]
     },
     "execution_count": 15,
     "metadata": {},
     "output_type": "execute_result"
    }
   ],
   "source": [
    "pentathlon_nptb.to_message.value_counts(normalize=True).apply(rsm.format_nr, perc=True)"
   ]
  },
  {
   "cell_type": "code",
   "execution_count": 16,
   "metadata": {},
   "outputs": [
    {
     "data": {
      "image/png": "[encoded data removed]",
      "text/plain": [
       "<Figure size 1000x600 with 1 Axes>"
      ]
     },
     "metadata": {},
     "output_type": "display_data"
    }
   ],
   "source": [
    "message_counts = pentathlon_nptb['to_message'].value_counts()\n",
    "plt.figure(figsize=(10, 6))\n",
    "plt.bar(message_counts.index, message_counts.values, color='skyblue', edgecolor='black')\n",
    "plt.title('Profit Distribution by Message (Logistic Regression)')\n",
    "plt.xlabel('Message Type')\n",
    "plt.ylabel('Distribution of Messages')\n",
    "plt.grid(axis='y', alpha=0.75)\n",
    "plt.tight_layout()"
   ]
  },
  {
   "cell_type": "markdown",
   "metadata": {},
   "source": [
    "the 'endurance' message appears to dominate, suggesting that it resonates with a large segment of customers, potentially leading to higher profits. Other messages, like 'strength', 'racquet', 'water', 'team', 'backcountry', and 'control', have significantly lower distributions, indicating they might be less effective or relevant for the majority of customers. The visual suggests that tailoring messages towards 'endurance' may yield the best response in terms of profit, whereas other messages might need to be re-evaluated or better targeted to specific customer segments to increase their effectiveness."
   ]
  },
  {
   "cell_type": "markdown",
   "metadata": {},
   "source": [
    "## Question 3 : LR Model\n",
    "For  each  customer,  determine  the  message  (i.e.,  endurance,  strength,  water,  team,  backcountry, racquet, or no-message) predicted to lead to the highest expected profit (COGS is 60%). Describe your approach to predict order size and how you calculated expected profit.\n",
    "- make a model to predict the order size\n",
    "- calculate the expected profit for each message"
   ]
  },
  {
   "cell_type": "code",
   "execution_count": 17,
   "metadata": {},
   "outputs": [
    {
     "name": "stdout",
     "output_type": "stream",
     "text": [
      "Linear regression (OLS)\n",
      "Data                 : pentathlon_nptb\n",
      "Response variable    : total_os\n",
      "Explanatory variables: message, age, female, income, education, children, freq_endurance, freq_strength, freq_water, freq_team, freq_backcountry, freq_racquet\n",
      "Null hyp.: the effect of x on total_os is zero\n",
      "Alt. hyp.: the effect of x on total_os is not zero\n",
      "\n",
      "                                     coefficient  std.error  t.value p.value     \n",
      "Intercept                                 -9.616      8.976   -1.071   0.284     \n",
      "message[control]                          17.412     12.953    1.344   0.179     \n",
      "message[endurance]                         9.106     12.058    0.755    0.45     \n",
      "message[racquet]                           4.179     12.822    0.326   0.745     \n",
      "message[strength]                          1.414     12.601    0.112   0.911     \n",
      "message[team]                             10.566     12.573    0.840   0.401     \n",
      "message[water]                             6.659     12.905    0.516   0.606     \n",
      "age[30 to 44]                              4.166      5.701    0.731   0.465     \n",
      "age[45 to 59]                              6.059      5.712    1.061   0.289     \n",
      "age[>= 60]                                -0.679      7.066   -0.096   0.923     \n",
      "female[no]                                 3.578      3.548    1.008   0.313     \n",
      "age[30 to 44]:message[control]            -6.037      8.297   -0.728   0.467     \n",
      "age[45 to 59]:message[control]            -3.440      8.437   -0.408   0.683     \n",
      "age[>= 60]:message[control]                5.342     10.292    0.519   0.604     \n",
      "age[30 to 44]:message[endurance]          -3.088      8.017   -0.385     0.7     \n",
      "age[45 to 59]:message[endurance]         -12.434      8.132   -1.529   0.126     \n",
      "age[>= 60]:message[endurance]              6.071      9.755    0.622   0.534     \n",
      "age[30 to 44]:message[racquet]            -1.337      8.176   -0.163    0.87     \n",
      "age[45 to 59]:message[racquet]            -8.117      8.242   -0.985   0.325     \n",
      "age[>= 60]:message[racquet]               -5.150     10.010   -0.514   0.607     \n",
      "age[30 to 44]:message[strength]           -0.696      7.975   -0.087    0.93     \n",
      "age[45 to 59]:message[strength]            0.160      8.076    0.020   0.984     \n",
      "age[>= 60]:message[strength]               5.451      9.893    0.551   0.582     \n",
      "age[30 to 44]:message[team]                8.784      8.077    1.088   0.277     \n",
      "age[45 to 59]:message[team]                6.381      8.161    0.782   0.434     \n",
      "age[>= 60]:message[team]                   9.798     10.020    0.978   0.328     \n",
      "age[30 to 44]:message[water]              -7.117      8.285   -0.859    0.39     \n",
      "age[45 to 59]:message[water]             -12.193      8.378   -1.455   0.146     \n",
      "age[>= 60]:message[water]                  5.907     10.209    0.579   0.563     \n",
      "female[no]:message[control]               -4.082      5.058   -0.807    0.42     \n",
      "female[no]:message[endurance]             -3.209      4.877   -0.658   0.511     \n",
      "female[no]:message[racquet]               -2.000      5.096   -0.392   0.695     \n",
      "female[no]:message[strength]              -3.970      4.920   -0.807    0.42     \n",
      "female[no]:message[team]                  -8.944      4.904   -1.824   0.068    .\n",
      "female[no]:message[water]                  1.978      4.972    0.398   0.691     \n",
      "income                                     0.000      0.000    3.970  < .001  ***\n",
      "income:message[control]                   -0.000      0.000   -1.166   0.244     \n",
      "income:message[endurance]                 -0.000      0.000   -0.710   0.478     \n",
      "income:message[racquet]                    0.000      0.000    0.702   0.483     \n",
      "income:message[strength]                  -0.000      0.000   -1.205   0.228     \n",
      "income:message[team]                      -0.000      0.000   -1.392   0.164     \n",
      "income:message[water]                     -0.000      0.000   -1.353   0.176     \n",
      "education                                  0.773      0.161    4.812  < .001  ***\n",
      "education:message[control]                -0.370      0.230   -1.613   0.107     \n",
      "education:message[endurance]              -0.238      0.218   -1.090   0.276     \n",
      "education:message[racquet]                -0.292      0.228   -1.283   0.199     \n",
      "education:message[strength]                0.005      0.221    0.025    0.98     \n",
      "education:message[team]                   -0.337      0.224   -1.505   0.132     \n",
      "education:message[water]                  -0.088      0.226   -0.390   0.696     \n",
      "children                                   7.307      4.406    1.659   0.097    .\n",
      "children:message[control]                  4.666      6.217    0.750   0.453     \n",
      "children:message[endurance]                1.572      5.994    0.262   0.793     \n",
      "children:message[racquet]                  5.236      6.255    0.837   0.403     \n",
      "children:message[strength]                -0.699      6.269   -0.112   0.911     \n",
      "children:message[team]                     4.814      6.233    0.772    0.44     \n",
      "children:message[water]                   11.040      6.482    1.703   0.089    .\n",
      "freq_endurance                            -1.400      0.698   -2.004   0.045    *\n",
      "freq_endurance:message[control]            1.082      0.995    1.088   0.277     \n",
      "freq_endurance:message[endurance]         -0.138      0.974   -0.142   0.887     \n",
      "freq_endurance:message[racquet]           -0.927      1.005   -0.922   0.356     \n",
      "freq_endurance:message[strength]           0.160      0.981    0.163   0.871     \n",
      "freq_endurance:message[team]               1.424      0.963    1.479   0.139     \n",
      "freq_endurance:message[water]             -0.298      0.968   -0.308   0.758     \n",
      "freq_strength                             -2.181      0.437   -4.988  < .001  ***\n",
      "freq_strength:message[control]             0.352      0.626    0.563   0.573     \n",
      "freq_strength:message[endurance]           0.286      0.607    0.471   0.638     \n",
      "freq_strength:message[racquet]             0.029      0.635    0.045   0.964     \n",
      "freq_strength:message[strength]            1.337      0.614    2.179   0.029    *\n",
      "freq_strength:message[team]                0.807      0.615    1.312    0.19     \n",
      "freq_strength:message[water]               1.055      0.614    1.718   0.086    .\n",
      "freq_water                                 2.979      1.679    1.774   0.076    .\n",
      "freq_water:message[control]                0.263      2.417    0.109   0.913     \n",
      "freq_water:message[endurance]             -1.171      2.375   -0.493   0.622     \n",
      "freq_water:message[racquet]               -2.418      2.392   -1.011   0.312     \n",
      "freq_water:message[strength]               0.200      2.369    0.084   0.933     \n",
      "freq_water:message[team]                  -1.236      2.347   -0.527   0.598     \n",
      "freq_water:message[water]                 -3.641      2.368   -1.538   0.124     \n",
      "freq_team                                 -0.075      0.599   -0.125   0.901     \n",
      "freq_team:message[control]                -0.229      0.847   -0.270   0.787     \n",
      "freq_team:message[endurance]               2.188      0.829    2.638   0.008   **\n",
      "freq_team:message[racquet]                -0.563      0.861   -0.654   0.513     \n",
      "freq_team:message[strength]               -0.657      0.850   -0.774   0.439     \n",
      "freq_team:message[team]                    0.320      0.829    0.386     0.7     \n",
      "freq_team:message[water]                  -0.932      0.836   -1.115   0.265     \n",
      "freq_backcountry                           2.686      1.320    2.035   0.042    *\n",
      "freq_backcountry:message[control]         -0.962      1.902   -0.506   0.613     \n",
      "freq_backcountry:message[endurance]        2.745      1.848    1.486   0.137     \n",
      "freq_backcountry:message[racquet]         -0.198      1.887   -0.105   0.916     \n",
      "freq_backcountry:message[strength]        -0.097      1.864   -0.052   0.958     \n",
      "freq_backcountry:message[team]            -0.529      1.858   -0.284   0.776     \n",
      "freq_backcountry:message[water]            1.071      1.862    0.575   0.565     \n",
      "freq_racquet                               0.297      0.868    0.343   0.732     \n",
      "freq_racquet:message[control]             -0.775      1.246   -0.622   0.534     \n",
      "freq_racquet:message[endurance]           -0.021      1.186   -0.018   0.986     \n",
      "freq_racquet:message[racquet]              0.944      1.237    0.764   0.445     \n",
      "freq_racquet:message[strength]             1.148      1.200    0.957   0.339     \n",
      "freq_racquet:message[team]                 0.199      1.207    0.165   0.869     \n",
      "freq_racquet:message[water]                1.503      1.214    1.238   0.216     \n",
      "\n",
      "Signif. codes:  0 '***' 0.001 '**' 0.01 '*' 0.05 '.' 0.1 ' ' 1\n",
      "\n",
      "R-squared: 0.089, Adjusted R-squared: 0.08\n",
      "F-statistic: 10.021 df(97, 9982), p.value < 0.001\n",
      "Nr obs: 10,080\n",
      "\n",
      "Variance inflation factors:\n",
      "\n",
      "                                   vif    Rsq\n",
      "message                   1.195208e+11  1.000\n",
      "education:message         7.070682e+08  1.000\n",
      "age                       3.847789e+08  1.000\n",
      "income:message            3.716340e+08  1.000\n",
      "children:message          1.500292e+06  1.000\n",
      "freq_endurance:message    1.998923e+03  0.999\n",
      "freq_racquet:message      1.834926e+03  0.999\n",
      "female                    1.493972e+03  0.999\n",
      "freq_strength:message     1.402750e+03  0.999\n",
      "freq_team:message         3.280570e+02  0.997\n",
      "freq_backcountry:message  2.031660e+02  0.995\n",
      "freq_water:message        1.686980e+02  0.994\n",
      "education                 2.077100e+01  0.952\n",
      "income                    1.891100e+01  0.947\n",
      "freq_endurance            9.696000e+00  0.897\n",
      "children                  9.259000e+00  0.892\n",
      "freq_water                9.138000e+00  0.891\n",
      "freq_racquet              8.978000e+00  0.889\n",
      "freq_strength             8.616000e+00  0.884\n",
      "freq_team                 8.290000e+00  0.879\n",
      "freq_backcountry          7.465000e+00  0.866\n"
     ]
    }
   ],
   "source": [
    "lr_ordersize = rsm.regress(\n",
    "    data={\"pentathlon_nptb\": pentathlon_nptb[(pentathlon_nptb.buyer == \"yes\") & (pentathlon_nptb.training == 1)]},\n",
    "    rvar=\"total_os\",\n",
    "    evar=evars,\n",
    "    ivar=ivars\n",
    ")\n",
    "\n",
    "lr_ordersize.summary(vif=True)"
   ]
  },
  {
   "cell_type": "code",
   "execution_count": 18,
   "metadata": {},
   "outputs": [],
   "source": [
    "pentathlon_nptb[\"pred_ordersize_endurance\"] = lr_ordersize.predict(pentathlon_nptb, data_cmd={\"message\": \"endurance\"})[\"prediction\"]\n",
    "pentathlon_nptb[\"pred_ordersize_strength\"] = lr_ordersize.predict(pentathlon_nptb, data_cmd={\"message\": \"strength\"})[\"prediction\"]\n",
    "pentathlon_nptb[\"pred_ordersize_water\"] = lr_ordersize.predict(pentathlon_nptb, data_cmd={\"message\": \"water\"})[\"prediction\"]\n",
    "pentathlon_nptb[\"pred_ordersize_team\"] = lr_ordersize.predict(pentathlon_nptb, data_cmd={\"message\": \"team\"})[\"prediction\"]\n",
    "pentathlon_nptb[\"pred_ordersize_backcountry\"] = lr_ordersize.predict(pentathlon_nptb, data_cmd={\"message\": \"backcountry\"})[\"prediction\"]\n",
    "pentathlon_nptb[\"pred_ordersize_racquet\"] = lr_ordersize.predict(pentathlon_nptb, data_cmd={\"message\": \"racquet\"})[\"prediction\"]\n",
    "pentathlon_nptb[\"pred_ordersize_control\"] = lr_ordersize.predict(pentathlon_nptb, data_cmd={\"message\": \"control\"})[\"prediction\"]\n"
   ]
  },
  {
   "cell_type": "code",
   "execution_count": 19,
   "metadata": {},
   "outputs": [],
   "source": [
    "pentathlon_nptb[\"ep_endurance\"] = pentathlon_nptb[\"pred_ordersize_endurance\"] * pentathlon_nptb[\"p_endurance\"] * 0.4"
   ]
  },
  {
   "cell_type": "code",
   "execution_count": 20,
   "metadata": {},
   "outputs": [],
   "source": [
    "pentathlon_nptb[\"ep_endurance\"] = pentathlon_nptb[\"pred_ordersize_endurance\"] * pentathlon_nptb[\"p_endurance\"] * 0.4\n",
    "pentathlon_nptb[\"ep_strength\"] = pentathlon_nptb[\"pred_ordersize_strength\"] * pentathlon_nptb[\"p_strength\"] * 0.4\n",
    "pentathlon_nptb[\"ep_water\"] = pentathlon_nptb[\"pred_ordersize_water\"] * pentathlon_nptb[\"p_water\"] * 0.4\n",
    "pentathlon_nptb[\"ep_team\"] = pentathlon_nptb[\"pred_ordersize_team\"] * pentathlon_nptb[\"p_team\"] * 0.4\n",
    "pentathlon_nptb[\"ep_backcountry\"] = pentathlon_nptb[\"pred_ordersize_backcountry\"] * pentathlon_nptb[\"p_backcountry\"] * 0.4\n",
    "pentathlon_nptb[\"ep_racquet\"] = pentathlon_nptb[\"pred_ordersize_racquet\"] * pentathlon_nptb[\"p_racquet\"] * 0.4\n",
    "pentathlon_nptb[\"ep_control\"] = pentathlon_nptb[\"pred_ordersize_control\"] * pentathlon_nptb[\"p_control\"] * 0.4\n"
   ]
  },
  {
   "cell_type": "code",
   "execution_count": 21,
   "metadata": {},
   "outputs": [],
   "source": [
    "repl={\"ep_endurance\": \"endurance\", \"ep_strength\": \"strength\", \"ep_water\": \"water\", \"ep_team\": \"team\", \"ep_backcountry\": \"backcountry\", \"ep_racquet\": \"racquet\", \"ep_control\": \"control\"}\n",
    "pentathlon_nptb[\"to_message_ep\"] = pentathlon_nptb[[\"ep_endurance\", \"ep_strength\", \"ep_water\", \"ep_team\", \"ep_backcountry\", \"ep_racquet\", \"ep_control\"]].idxmax(axis=1).map(repl)"
   ]
  },
  {
   "cell_type": "markdown",
   "metadata": {},
   "source": [
    "The approach to predict the order size and calculate expected profit involves these steps:\n",
    "\n",
    "Regression Analysis: A linear regression model (lr_ordersize) is trained using data of confirmed buyers (buyer == \"yes\"). The dependent variable is the total order size (total_os), and explanatory variables and interactions are used to predict the order size.\n",
    "\n",
    "Prediction of Order Size: Using the trained model, we predict the order size for each customer across different messages (endurance, strength, water, team, backcountry, racquet, control). This is done by changing the message variable in the model to each type and generating predictions.\n",
    "\n",
    "Calculation of Expected Profit (ep_): The predicted order size for each message type is then multiplied by the probability of purchase (p_message) and the profit margin (40%, as COGS is 60%). This results in the expected profit for each message type per customer.\n",
    "\n",
    "Maximization: To find the message leading to the highest expected profit for each customer, we compare the expected profits (ep_) across all message types and select the one with the highest value.\n",
    "\n",
    "The final output will show, for each customer, the message type that is predicted to maximize their probability of purchase and hence expected profit. The expected profit is a product of the predicted order size, the likelihood of purchase given the message, and the profit margin."
   ]
  },
  {
   "cell_type": "markdown",
   "metadata": {},
   "source": [
    "## Question 4 : LR Model\n",
    "Report for each message, i.e., endurance, racket, etc., and no-message, the percentage of customers for whom that (no) message maximizes their expected profit. Comment on the distribution of expected profit across messages."
   ]
  },
  {
   "cell_type": "code",
   "execution_count": 22,
   "metadata": {},
   "outputs": [
    {
     "data": {
      "text/plain": [
       "to_message_ep\n",
       "endurance      40.86%\n",
       "backcountry    16.69%\n",
       "team           15.63%\n",
       "racquet        13.42%\n",
       "water           6.94%\n",
       "strength         4.6%\n",
       "control         1.87%\n",
       "Name: proportion, dtype: object"
      ]
     },
     "execution_count": 22,
     "metadata": {},
     "output_type": "execute_result"
    }
   ],
   "source": [
    "pentathlon_nptb.to_message_ep.value_counts(normalize=True).apply(rsm.format_nr, perc=True)"
   ]
  },
  {
   "cell_type": "code",
   "execution_count": 23,
   "metadata": {},
   "outputs": [
    {
     "data": {
      "image/png": "[encoded data removed]",
      "text/plain": [
       "<Figure size 1000x600 with 1 Axes>"
      ]
     },
     "metadata": {},
     "output_type": "display_data"
    }
   ],
   "source": [
    "import matplotlib.pyplot as plt\n",
    "\n",
    "message_counts = pentathlon_nptb['to_message_ep'].value_counts()\n",
    "plt.figure(figsize=(10, 6))\n",
    "plt.bar(message_counts.index, message_counts.values, color='skyblue', edgecolor='black')\n",
    "plt.title('Profit Distribution by Message (Logistic Regression)')\n",
    "plt.xlabel('Message Type')\n",
    "plt.ylabel('Distribution of Messages')\n",
    "plt.grid(axis='y', alpha=0.75)\n",
    "plt.tight_layout()"
   ]
  },
  {
   "cell_type": "markdown",
   "metadata": {},
   "source": [
    " 'endurance' is the clear front-runner in effectiveness, whereas 'strength' lags significantly behind. Middle-performing messages like 'backcountry' and 'team' suggest targeted appeal, while 'control', 'racquet', and 'water' are less impactful. This suggests varying customer preferences and highlights the importance of message optimization in marketing strategies."
   ]
  },
  {
   "cell_type": "markdown",
   "metadata": {},
   "source": [
    "## Question 5: LR Model\n",
    "What  expected  profit  can  we  obtain,  on  average,  per  customer  if  we  customize  the message to each customer? Include no-message as an option as well."
   ]
  },
  {
   "cell_type": "code",
   "execution_count": 24,
   "metadata": {},
   "outputs": [],
   "source": [
    "pentathlon_nptb[\"ep_max\"] = pentathlon_nptb[[\"ep_endurance\", \"ep_strength\", \"ep_water\", \"ep_team\", \"ep_backcountry\", \"ep_racquet\", \"ep_control\"]].max(axis=1)"
   ]
  },
  {
   "cell_type": "code",
   "execution_count": 25,
   "metadata": {},
   "outputs": [
    {
     "name": "stdout",
     "output_type": "stream",
     "text": [
      "The average profit per customer is: 0.70\n"
     ]
    }
   ],
   "source": [
    "average_profit_customer = pentathlon_nptb.ep_max.mean()\n",
    "\n",
    "print(f\"The average profit per customer is: {average_profit_customer:.2f}\")"
   ]
  },
  {
   "cell_type": "markdown",
   "metadata": {},
   "source": [
    "## Question 6: LR Model\n",
    "What is the expected profit per e-mailed customer if every customer receives the same message?  Answer  this  question  for  each  of  the  possible  messages  (i.e.,  endurance, strength, water, team,backcountry, racquet) and the no-message option. Comment on the distribution of expected profit across messages and the no-message option."
   ]
  },
  {
   "cell_type": "code",
   "execution_count": 26,
   "metadata": {},
   "outputs": [
    {
     "data": {
      "text/plain": [
       "ep_max             $0.7\n",
       "ep_endurance      $0.63\n",
       "ep_water           $0.6\n",
       "ep_strength        $0.6\n",
       "ep_backcountry    $0.59\n",
       "ep_team           $0.54\n",
       "ep_racquet        $0.52\n",
       "ep_control        $0.43\n",
       "dtype: object"
      ]
     },
     "execution_count": 26,
     "metadata": {},
     "output_type": "execute_result"
    }
   ],
   "source": [
    "pentathlon_nptb.loc[pentathlon_nptb.training == 0, [\"ep_endurance\", \"ep_strength\", \"ep_water\", \"ep_team\", \"ep_backcountry\", \"ep_racquet\", \"ep_control\", \"ep_max\"]].agg(\"mean\").sort_values(ascending=False).apply(rsm.format_nr, sym=\"$\", dec=2)"
   ]
  },
  {
   "cell_type": "markdown",
   "metadata": {},
   "source": [
    "Given the expected profit values per e-mailed customer for each message type, sending an 'endurance' message would yield the highest profit of $0.63 per customer. Messages related to 'water' and 'strength' are tied at $0.6, indicating they are slightly less profitable but still effective. 'Backcountry' and 'team' messages generate lower expected profits of $0.59 and $0.54, respectively, while 'racquet' messages are the least effective of the specific messages at $0.52. Notably, the 'control' group, representing no message sent, results in the lowest expected profit of $0.43 per customer.\n",
    "\n",
    "This distribution suggests that targeted messages are generally more profitable than sending no message at all, with 'endurance' being the most lucrative. However, the relatively close profit margins across the different messages indicate a nuanced customer base with diverse preferences, emphasizing the need for strategic message targeting to maximize overall profitability."
   ]
  },
  {
   "cell_type": "markdown",
   "metadata": {},
   "source": [
    "## Question 7: LR Model\n",
    "What is the expected profit per e-mailed customer if every customer is assigned randomly to one of the messages or the no-message condition?  "
   ]
  },
  {
   "cell_type": "code",
   "execution_count": 27,
   "metadata": {},
   "outputs": [],
   "source": [
    "import numpy as np\n",
    "\n",
    "categories = [\"endurance\", \"strength\", \"water\", \"team\", \"backcountry\", \"racquet\", \"control\"]\n",
    "np.random.seed(42)\n",
    "\n",
    "pentathlon_nptb['message_rnd'] = np.random.choice(categories, size=len(pentathlon_nptb))\n",
    "\n",
    "average_profit_customer_rnd = pentathlon_nptb.groupby('message_rnd')['ep_max'].mean()"
   ]
  },
  {
   "cell_type": "code",
   "execution_count": 28,
   "metadata": {},
   "outputs": [
    {
     "name": "stdout",
     "output_type": "stream",
     "text": [
      "The average expected profit per customer when assigning messages randomly is: $0.56\n"
     ]
    }
   ],
   "source": [
    "pentathlon_nptb['ep_rnd'] = pentathlon_nptb.apply(lambda row: row[f'ep_{row[\"message_rnd\"]}'], axis=1)\n",
    "\n",
    "average_profit_customer_rnd = pentathlon_nptb.ep_rnd.mean()\n",
    "    \n",
    "print(f\"The average expected profit per customer when assigning messages randomly is: ${average_profit_customer_rnd:.2f}\")"
   ]
  },
  {
   "cell_type": "code",
   "execution_count": 29,
   "metadata": {},
   "outputs": [
    {
     "name": "stdout",
     "output_type": "stream",
     "text": [
      "The difference in expected profit between the logit model and the random model is: $722784.32\n"
     ]
    }
   ],
   "source": [
    "profit_logit = pentathlon_nptb.loc[pentathlon_nptb.training == 0, \"ep_max\"].agg(\"mean\") * 5000000\n",
    "\n",
    "profit_rnd = pentathlon_nptb.loc[pentathlon_nptb.training == 0, \"ep_rnd\"].agg(\"mean\") * 5000000\n",
    "\n",
    "profit_difference = profit_logit - profit_rnd\n",
    "\n",
    "print(f\"The difference in expected profit between the logit model and the random model is: ${profit_difference:.2f}\")"
   ]
  },
  {
   "cell_type": "markdown",
   "metadata": {},
   "source": [
    "## Question 8: LR Model\n",
    "For the typical promotional e-mail blast to 5,000,000 customers, what improvement (in percent and in total Euros) could Pentathlon achieve by customizing the message (or no-message) to each customer. Compare the performance predictions from this personalized approach to scenarios where (1) each customer is sent the same message selected based on average performance, (2) a random message assignment approach is used (i.e., the status quo), and (3) no message is sent (i.e., the control condition)? "
   ]
  },
  {
   "cell_type": "code",
   "execution_count": 30,
   "metadata": {},
   "outputs": [],
   "source": [
    "# Profit for customizing messages using the logit model\n",
    "profit_logit = pentathlon_nptb.loc[pentathlon_nptb.training == 0, \"ep_max\"].agg(\"mean\") * 5000000\n",
    "\n",
    "# Profit for sending same message to all customers\n",
    "profit_same = pentathlon_nptb.loc[pentathlon_nptb.training == 0, \"ep_endurance\"].agg(\"mean\") * 5000000\n",
    "\n",
    "# Profit for sending random messages\n",
    "profit_rnd = pentathlon_nptb.loc[pentathlon_nptb.training == 0, \"ep_rnd\"].agg(\"mean\") * 5000000\n",
    "\n",
    "# Profit for sending no messages (i.e. the control)\n",
    "profit_control = pentathlon_nptb.loc[pentathlon_nptb.training == 0, \"ep_control\"].agg(\"mean\") * 5000000\n",
    "\n"
   ]
  },
  {
   "cell_type": "code",
   "execution_count": 31,
   "metadata": {},
   "outputs": [
    {
     "data": {
      "text/html": [
       "<div>\n",
       "<style scoped>\n",
       "    .dataframe tbody tr th:only-of-type {\n",
       "        vertical-align: middle;\n",
       "    }\n",
       "\n",
       "    .dataframe tbody tr th {\n",
       "        vertical-align: top;\n",
       "    }\n",
       "\n",
       "    .dataframe thead th {\n",
       "        text-align: right;\n",
       "    }\n",
       "</style>\n",
       "<table border=\"1\" class=\"dataframe\">\n",
       "  <thead>\n",
       "    <tr style=\"text-align: right;\">\n",
       "      <th></th>\n",
       "      <th>strategy</th>\n",
       "      <th>total_profit</th>\n",
       "      <th>diff_logit</th>\n",
       "      <th>perc_diff_logit</th>\n",
       "    </tr>\n",
       "  </thead>\n",
       "  <tbody>\n",
       "    <tr>\n",
       "      <th>0</th>\n",
       "      <td>logit</td>\n",
       "      <td>3.522495e+06</td>\n",
       "      <td>0.000000e+00</td>\n",
       "      <td>0.00%</td>\n",
       "    </tr>\n",
       "    <tr>\n",
       "      <th>1</th>\n",
       "      <td>same</td>\n",
       "      <td>3.134701e+06</td>\n",
       "      <td>-3.877949e+05</td>\n",
       "      <td>-11.01%</td>\n",
       "    </tr>\n",
       "    <tr>\n",
       "      <th>2</th>\n",
       "      <td>random</td>\n",
       "      <td>2.799711e+06</td>\n",
       "      <td>-7.227843e+05</td>\n",
       "      <td>-20.52%</td>\n",
       "    </tr>\n",
       "    <tr>\n",
       "      <th>3</th>\n",
       "      <td>control</td>\n",
       "      <td>2.152438e+06</td>\n",
       "      <td>-1.370057e+06</td>\n",
       "      <td>-38.89%</td>\n",
       "    </tr>\n",
       "  </tbody>\n",
       "</table>\n",
       "</div>"
      ],
      "text/plain": [
       "  strategy  total_profit    diff_logit perc_diff_logit\n",
       "0    logit  3.522495e+06  0.000000e+00           0.00%\n",
       "1     same  3.134701e+06 -3.877949e+05         -11.01%\n",
       "2   random  2.799711e+06 -7.227843e+05         -20.52%\n",
       "3  control  2.152438e+06 -1.370057e+06         -38.89%"
      ]
     },
     "execution_count": 31,
     "metadata": {},
     "output_type": "execute_result"
    }
   ],
   "source": [
    "compare_performance = pd.DataFrame({\n",
    "    \"logit\": [profit_logit],\n",
    "    \"same\": [profit_same],\n",
    "    \"random\": [profit_rnd],\n",
    "    \"control\": [profit_control]\n",
    "}).T.reset_index().rename(columns={\"index\": \"strategy\", 0: \"total_profit\"})\n",
    "\n",
    "# Calculate the difference in profit between each strategy and the logit strategy\n",
    "compare_performance[\"diff_logit\"] = compare_performance[\"total_profit\"] - compare_performance[\"total_profit\"].iloc[0]\n",
    "\n",
    "# Calculate the percentage difference in profit between each strategy and the logit strategy\n",
    "compare_performance[\"perc_diff_logit\"] = (compare_performance[\"diff_logit\"] / compare_performance[\"total_profit\"].iloc[0] * 100).apply(lambda x: f\"{x:.2f}%\")\n",
    "\n",
    "compare_performance\n"
   ]
  },
  {
   "cell_type": "markdown",
   "metadata": {},
   "source": [
    "# Neural Network Model"
   ]
  },
  {
   "cell_type": "markdown",
   "metadata": {},
   "source": [
    "## Question 1: NN Model\n",
    "For  each  customer  determine  the  message  (i.e.,  endurance,  strength,  water,  team, backcountry,  racquet,  or  no-message)  predicted  to  lead  to  the  highest  probability  of purchase. Describe your approach."
   ]
  },
  {
   "cell_type": "code",
   "execution_count": 32,
   "metadata": {},
   "outputs": [
    {
     "name": "stdout",
     "output_type": "stream",
     "text": [
      "Multi-layer Perceptron (NN)\n",
      "Data                 : pentathlon_nptb\n",
      "Response variable    : buyer\n",
      "Level                : yes\n",
      "Explanatory variables: message, age, female, income, education, children, freq_endurance, freq_strength, freq_water, freq_team, freq_backcountry, freq_racquet\n",
      "Model type           : classification\n",
      "Nr. of features      : (12, 19)\n",
      "Nr. of observations  : 420,000\n",
      "Hidden_layer_sizes   : (1,)\n",
      "Activation function  : tanh\n",
      "Solver               : lbfgs\n",
      "Alpha                : 0.0001\n",
      "Batch size           : auto\n",
      "Learning rate        : 0.001\n",
      "Maximum iterations   : 10000\n",
      "random_state         : 1234\n",
      "AUC                  : 0.884\n",
      "\n",
      "Raw data             :\n",
      "  message      age female  income  education  children  freq_endurance  freq_strength  freq_water  freq_team  freq_backcountry  freq_racquet\n",
      "     team 30 to 44     no   55000         19       0.8               0              4           0          4                 0             1\n",
      "endurance 45 to 59    yes   45000         33       0.7               0              0           0          0                 2             2\n",
      "    water 45 to 59    yes   25000         24       0.2               0              0           0          0                 0             0\n",
      " strength     < 30    yes   25000         18       0.3               0              0           0          0                 0             0\n",
      " strength    >= 60    yes   65000         36       1.2               1              1           0          2                 0             3\n",
      "\n",
      "Estimation data      :\n",
      "   income  education  children  freq_endurance  freq_strength  freq_water  freq_team  freq_backcountry  freq_racquet  message_control  message_endurance  message_racquet  message_strength  message_team  message_water  age_30 to 44  age_45 to 59  age_>= 60  female_no\n",
      " 0.388655  -0.663713 -0.265321       -0.640336       1.100861   -0.261727   1.892088         -0.690593      0.058975            False              False            False             False          True          False          True         False      False       True\n",
      "-0.184052   0.279378 -0.479844       -0.640336      -0.706563   -0.261727  -0.620020          1.958233      0.882489            False               True            False             False         False          False         False          True      False      False\n",
      "-1.329467  -0.326895 -1.552460       -0.640336      -0.706563   -0.261727  -0.620020         -0.690593     -0.764538            False              False            False             False         False           True         False          True      False      False\n",
      "-1.329467  -0.731077 -1.337937       -0.640336      -0.706563   -0.261727  -0.620020         -0.690593     -0.764538            False              False            False              True         False          False         False         False      False      False\n",
      " 0.961362   0.481469  0.592772        0.060592      -0.254707   -0.261727   0.636034         -0.690593      1.706002            False              False            False              True         False          False         False         False       True      False\n"
     ]
    }
   ],
   "source": [
    "# Base neural network model with one hidden layer of 1 node\n",
    "nn1 = rsm.model.mlp(\n",
    "    data={\"pentathlon_nptb\": pentathlon_nptb[pentathlon_nptb.training==1]},\n",
    "    rvar=\"buyer\",\n",
    "    lev=\"yes\",\n",
    "    evar=evars,\n",
    "    hidden_layer_sizes=(1,),\n",
    "    mod_type=\"classification\",\n",
    ")\n",
    "nn1.summary()"
   ]
  },
  {
   "cell_type": "code",
   "execution_count": 33,
   "metadata": {},
   "outputs": [
    {
     "data": {
      "image/png": "[encoded data removed]",
      "text/plain": [
       "<Figure size 640x480 with 1 Axes>"
      ]
     },
     "metadata": {},
     "output_type": "display_data"
    }
   ],
   "source": [
    "# Create new column for the predicted probabilities from the neural network model 1\n",
    "pentathlon_nptb[\"pred_nn1\"] = nn1.predict(pentathlon_nptb)[\"prediction\"]\n",
    "\n",
    "dct = {\"train\": pentathlon_nptb[pentathlon_nptb.training == 1], \"test\": pentathlon_nptb[pentathlon_nptb.training == 0]}\n",
    "\n",
    "# Create gains plot for the neural network model 1 train and test data to check for overfitting\n",
    "fig1 = rsm.gains_plot(dct, \"buyer\", \"yes\", \"pred_nn1\")"
   ]
  },
  {
   "cell_type": "code",
   "execution_count": 34,
   "metadata": {},
   "outputs": [],
   "source": [
    "# Neural network model with two hidden layers of 12 and 8 nodes\n",
    "nn12_12 = rsm.model.mlp(\n",
    "    data={\"pentathlon_nptb\": pentathlon_nptb[pentathlon_nptb.training==1]},\n",
    "    rvar=\"buyer\",\n",
    "    lev=\"yes\",\n",
    "    evar=evars,\n",
    "    hidden_layer_sizes=(12,12),\n",
    "    mod_type=\"classification\",\n",
    "    learning_rate_init=0.001,\n",
    "    solver=\"adam\",\n",
    "    activation=\"tanh\",\n",
    ")"
   ]
  },
  {
   "cell_type": "code",
   "execution_count": 35,
   "metadata": {},
   "outputs": [
    {
     "data": {
      "image/png": "[encoded data removed]",
      "text/plain": [
       "<Figure size 640x480 with 1 Axes>"
      ]
     },
     "metadata": {},
     "output_type": "display_data"
    }
   ],
   "source": [
    "# Create new column for the predicted probabilities from the neural network model 10\n",
    "pentathlon_nptb[\"pred_nn12_12\"] = nn12_12.predict(pentathlon_nptb)[\"prediction\"]\n",
    "\n",
    "dct = {\"train\": pentathlon_nptb[pentathlon_nptb.training == 1], \"test\": pentathlon_nptb[pentathlon_nptb.training == 0]}\n",
    "    \n",
    "# Create gains plot for the neural network model 10 train and test data to check for overfitting\n",
    "fig1 = rsm.gains_plot(dct, \"buyer\", \"yes\", \"pred_nn12_12\")"
   ]
  },
  {
   "cell_type": "code",
   "execution_count": 36,
   "metadata": {},
   "outputs": [
    {
     "name": "stdout",
     "output_type": "stream",
     "text": [
      "Fitting 5 folds for each of 15 candidates, totalling 75 fits\n",
      "    mean_train_AUC  mean_test_AUC  rank_test_AUC\n",
      "11        0.891985       0.889714              1\n",
      "6         0.891997       0.889672              2\n",
      "1         0.891926       0.889504              3\n",
      "8         0.891988       0.889289              4\n",
      "13        0.891943       0.889279              5\n",
      "3         0.891825       0.889249              6\n",
      "4         0.893394       0.888584              7\n",
      "14        0.893957       0.888248              8\n",
      "7         0.889547       0.888044              9\n",
      "2         0.889647       0.887959             10\n",
      "12        0.889546       0.887855             11\n",
      "9         0.894220       0.887712             12\n",
      "0         0.886417       0.884663             13\n",
      "10        0.886342       0.884598             14\n",
      "5         0.886630       0.884345             15\n",
      "Best Hyperparameters: {'alpha': 0.0001, 'hidden_layer_sizes': (10,)}\n"
     ]
    }
   ],
   "source": [
    "from sklearn.model_selection import GridSearchCV\n",
    "\n",
    "# Create the parameter grid\n",
    "param_grid = {\n",
    "    \"hidden_layer_sizes\": [(8,2), (10,), (10,2), (12,), (12,12)],\n",
    "    \"alpha\": [0.01, 0.001, 0.0001],\n",
    "}\n",
    "\n",
    "# Define the scoring metric\n",
    "scoring = {\"AUC\": \"roc_auc\"}\n",
    "\n",
    "# Create the GridSearchCV object\n",
    "clf_cv = GridSearchCV(\n",
    "    estimator=nn1.fitted, \n",
    "    param_grid=param_grid,\n",
    "    scoring=scoring,\n",
    "    cv=5,\n",
    "    n_jobs=4,\n",
    "    refit=\"AUC\",\n",
    "    verbose=5,\n",
    "    return_train_score=True,\n",
    ")\n",
    "\n",
    "# Fit the GridSearchCV object\n",
    "clf_cv.fit(nn1.data_onehot, nn1.data.buyer)\n",
    "\n",
    "# Create a DataFrame with the results\n",
    "cv_results_df = pd.DataFrame(clf_cv.cv_results_)\n",
    "\n",
    "# Select and sort the results to display\n",
    "results_to_display = cv_results_df.loc[:, [\n",
    "    \"mean_train_AUC\", \n",
    "    \"mean_test_AUC\",  \n",
    "    \"rank_test_AUC\"\n",
    "]].sort_values(\"rank_test_AUC\")\n",
    "\n",
    "print(results_to_display)\n",
    "\n",
    "best_hyperparameters = clf_cv.best_params_\n",
    "\n",
    "# Print the best hyperparameters\n",
    "print(\"Best Hyperparameters:\", best_hyperparameters)"
   ]
  },
  {
   "cell_type": "code",
   "execution_count": 37,
   "metadata": {},
   "outputs": [
    {
     "name": "stdout",
     "output_type": "stream",
     "text": [
      "Multi-layer Perceptron (NN)\n",
      "Data                 : pentathlon_nptb\n",
      "Response variable    : buyer\n",
      "Level                : yes\n",
      "Explanatory variables: message, age, female, income, education, children, freq_endurance, freq_strength, freq_water, freq_team, freq_backcountry, freq_racquet\n",
      "Model type           : classification\n",
      "Nr. of features      : (12, 19)\n",
      "Nr. of observations  : 420,000\n",
      "Hidden_layer_sizes   : (10,)\n",
      "Activation function  : tanh\n",
      "Solver               : adam\n",
      "Alpha                : 0.0001\n",
      "Batch size           : auto\n",
      "Learning rate        : 0.001\n",
      "Maximum iterations   : 10000\n",
      "random_state         : 1234\n",
      "AUC                  : 0.891\n",
      "\n",
      "Raw data             :\n",
      "  message      age female  income  education  children  freq_endurance  freq_strength  freq_water  freq_team  freq_backcountry  freq_racquet\n",
      "     team 30 to 44     no   55000         19       0.8               0              4           0          4                 0             1\n",
      "endurance 45 to 59    yes   45000         33       0.7               0              0           0          0                 2             2\n",
      "    water 45 to 59    yes   25000         24       0.2               0              0           0          0                 0             0\n",
      " strength     < 30    yes   25000         18       0.3               0              0           0          0                 0             0\n",
      " strength    >= 60    yes   65000         36       1.2               1              1           0          2                 0             3\n",
      "\n",
      "Estimation data      :\n",
      "   income  education  children  freq_endurance  freq_strength  freq_water  freq_team  freq_backcountry  freq_racquet  message_control  message_endurance  message_racquet  message_strength  message_team  message_water  age_30 to 44  age_45 to 59  age_>= 60  female_no\n",
      " 0.388655  -0.663713 -0.265321       -0.640336       1.100861   -0.261727   1.892088         -0.690593      0.058975            False              False            False             False          True          False          True         False      False       True\n",
      "-0.184052   0.279378 -0.479844       -0.640336      -0.706563   -0.261727  -0.620020          1.958233      0.882489            False               True            False             False         False          False         False          True      False      False\n",
      "-1.329467  -0.326895 -1.552460       -0.640336      -0.706563   -0.261727  -0.620020         -0.690593     -0.764538            False              False            False             False         False           True         False          True      False      False\n",
      "-1.329467  -0.731077 -1.337937       -0.640336      -0.706563   -0.261727  -0.620020         -0.690593     -0.764538            False              False            False              True         False          False         False         False      False      False\n",
      " 0.961362   0.481469  0.592772        0.060592      -0.254707   -0.261727   0.636034         -0.690593      1.706002            False              False            False              True         False          False         False         False       True      False\n"
     ]
    }
   ],
   "source": [
    "# Final neural network model with the best hyperparameters from the grid search - one hidden layer of 10 nodes, alpha of 0.0001\n",
    "nn_final = rsm.model.mlp(\n",
    "    data={\"pentathlon_nptb\": pentathlon_nptb[pentathlon_nptb.training==1]},\n",
    "    rvar=\"buyer\",\n",
    "    lev=\"yes\",\n",
    "    evar=evars,\n",
    "    mod_type=\"classification\",\n",
    "    learning_rate_init=0.001,\n",
    "    solver=\"adam\",\n",
    "    activation=\"tanh\",\n",
    "    **clf_cv.best_params_\n",
    ")\n",
    "\n",
    "nn_final.summary()"
   ]
  },
  {
   "cell_type": "code",
   "execution_count": 38,
   "metadata": {},
   "outputs": [
    {
     "data": {
      "text/html": [
       "<div>\n",
       "<style scoped>\n",
       "    .dataframe tbody tr th:only-of-type {\n",
       "        vertical-align: middle;\n",
       "    }\n",
       "\n",
       "    .dataframe tbody tr th {\n",
       "        vertical-align: top;\n",
       "    }\n",
       "\n",
       "    .dataframe thead th {\n",
       "        text-align: right;\n",
       "    }\n",
       "</style>\n",
       "<table border=\"1\" class=\"dataframe\">\n",
       "  <thead>\n",
       "    <tr style=\"text-align: right;\">\n",
       "      <th></th>\n",
       "      <th>custid</th>\n",
       "      <th>buyer</th>\n",
       "      <th>total_os</th>\n",
       "      <th>message</th>\n",
       "      <th>age</th>\n",
       "      <th>female</th>\n",
       "      <th>income</th>\n",
       "      <th>education</th>\n",
       "      <th>children</th>\n",
       "      <th>freq_endurance</th>\n",
       "      <th>...</th>\n",
       "      <th>ep_rnd</th>\n",
       "      <th>pred_nn1</th>\n",
       "      <th>pred_nn12_12</th>\n",
       "      <th>p_endurance_nn</th>\n",
       "      <th>p_strength_nn</th>\n",
       "      <th>p_water_nn</th>\n",
       "      <th>p_team_nn</th>\n",
       "      <th>p_backcountry_nn</th>\n",
       "      <th>p_racquet_nn</th>\n",
       "      <th>p_control_nn</th>\n",
       "    </tr>\n",
       "  </thead>\n",
       "  <tbody>\n",
       "    <tr>\n",
       "      <th>0</th>\n",
       "      <td>U1</td>\n",
       "      <td>no</td>\n",
       "      <td>0</td>\n",
       "      <td>team</td>\n",
       "      <td>30 to 44</td>\n",
       "      <td>no</td>\n",
       "      <td>55000</td>\n",
       "      <td>19</td>\n",
       "      <td>0.8</td>\n",
       "      <td>0</td>\n",
       "      <td>...</td>\n",
       "      <td>0.121358</td>\n",
       "      <td>0.012438</td>\n",
       "      <td>0.011452</td>\n",
       "      <td>0.012506</td>\n",
       "      <td>0.012395</td>\n",
       "      <td>0.012218</td>\n",
       "      <td>0.012369</td>\n",
       "      <td>0.010264</td>\n",
       "      <td>0.012556</td>\n",
       "      <td>0.011130</td>\n",
       "    </tr>\n",
       "    <tr>\n",
       "      <th>1</th>\n",
       "      <td>U3</td>\n",
       "      <td>no</td>\n",
       "      <td>0</td>\n",
       "      <td>backcountry</td>\n",
       "      <td>45 to 59</td>\n",
       "      <td>no</td>\n",
       "      <td>35000</td>\n",
       "      <td>22</td>\n",
       "      <td>1.0</td>\n",
       "      <td>0</td>\n",
       "      <td>...</td>\n",
       "      <td>0.076910</td>\n",
       "      <td>0.003623</td>\n",
       "      <td>0.002043</td>\n",
       "      <td>0.002442</td>\n",
       "      <td>0.002391</td>\n",
       "      <td>0.002272</td>\n",
       "      <td>0.002304</td>\n",
       "      <td>0.002015</td>\n",
       "      <td>0.002411</td>\n",
       "      <td>0.002247</td>\n",
       "    </tr>\n",
       "    <tr>\n",
       "      <th>2</th>\n",
       "      <td>U13</td>\n",
       "      <td>no</td>\n",
       "      <td>0</td>\n",
       "      <td>endurance</td>\n",
       "      <td>45 to 59</td>\n",
       "      <td>yes</td>\n",
       "      <td>45000</td>\n",
       "      <td>33</td>\n",
       "      <td>0.7</td>\n",
       "      <td>0</td>\n",
       "      <td>...</td>\n",
       "      <td>0.212843</td>\n",
       "      <td>0.009892</td>\n",
       "      <td>0.008484</td>\n",
       "      <td>0.008140</td>\n",
       "      <td>0.007136</td>\n",
       "      <td>0.006946</td>\n",
       "      <td>0.007430</td>\n",
       "      <td>0.007303</td>\n",
       "      <td>0.006580</td>\n",
       "      <td>0.006818</td>\n",
       "    </tr>\n",
       "    <tr>\n",
       "      <th>3</th>\n",
       "      <td>U20</td>\n",
       "      <td>no</td>\n",
       "      <td>0</td>\n",
       "      <td>water</td>\n",
       "      <td>45 to 59</td>\n",
       "      <td>yes</td>\n",
       "      <td>25000</td>\n",
       "      <td>24</td>\n",
       "      <td>0.2</td>\n",
       "      <td>0</td>\n",
       "      <td>...</td>\n",
       "      <td>0.024983</td>\n",
       "      <td>0.001449</td>\n",
       "      <td>0.000918</td>\n",
       "      <td>0.002513</td>\n",
       "      <td>0.001184</td>\n",
       "      <td>0.000911</td>\n",
       "      <td>0.000854</td>\n",
       "      <td>0.001446</td>\n",
       "      <td>0.001218</td>\n",
       "      <td>0.001123</td>\n",
       "    </tr>\n",
       "    <tr>\n",
       "      <th>4</th>\n",
       "      <td>U25</td>\n",
       "      <td>no</td>\n",
       "      <td>0</td>\n",
       "      <td>racquet</td>\n",
       "      <td>&gt;= 60</td>\n",
       "      <td>yes</td>\n",
       "      <td>65000</td>\n",
       "      <td>32</td>\n",
       "      <td>1.1</td>\n",
       "      <td>1</td>\n",
       "      <td>...</td>\n",
       "      <td>0.292381</td>\n",
       "      <td>0.010817</td>\n",
       "      <td>0.009376</td>\n",
       "      <td>0.009863</td>\n",
       "      <td>0.007802</td>\n",
       "      <td>0.006767</td>\n",
       "      <td>0.007411</td>\n",
       "      <td>0.007228</td>\n",
       "      <td>0.006806</td>\n",
       "      <td>0.007007</td>\n",
       "    </tr>\n",
       "    <tr>\n",
       "      <th>...</th>\n",
       "      <td>...</td>\n",
       "      <td>...</td>\n",
       "      <td>...</td>\n",
       "      <td>...</td>\n",
       "      <td>...</td>\n",
       "      <td>...</td>\n",
       "      <td>...</td>\n",
       "      <td>...</td>\n",
       "      <td>...</td>\n",
       "      <td>...</td>\n",
       "      <td>...</td>\n",
       "      <td>...</td>\n",
       "      <td>...</td>\n",
       "      <td>...</td>\n",
       "      <td>...</td>\n",
       "      <td>...</td>\n",
       "      <td>...</td>\n",
       "      <td>...</td>\n",
       "      <td>...</td>\n",
       "      <td>...</td>\n",
       "      <td>...</td>\n",
       "    </tr>\n",
       "    <tr>\n",
       "      <th>599995</th>\n",
       "      <td>U3462888</td>\n",
       "      <td>no</td>\n",
       "      <td>0</td>\n",
       "      <td>water</td>\n",
       "      <td>&gt;= 60</td>\n",
       "      <td>yes</td>\n",
       "      <td>40000</td>\n",
       "      <td>26</td>\n",
       "      <td>0.6</td>\n",
       "      <td>0</td>\n",
       "      <td>...</td>\n",
       "      <td>0.045158</td>\n",
       "      <td>0.001358</td>\n",
       "      <td>0.001500</td>\n",
       "      <td>0.006714</td>\n",
       "      <td>0.002447</td>\n",
       "      <td>0.001739</td>\n",
       "      <td>0.001677</td>\n",
       "      <td>0.003332</td>\n",
       "      <td>0.002372</td>\n",
       "      <td>0.002592</td>\n",
       "    </tr>\n",
       "    <tr>\n",
       "      <th>599996</th>\n",
       "      <td>U3462900</td>\n",
       "      <td>no</td>\n",
       "      <td>0</td>\n",
       "      <td>team</td>\n",
       "      <td>&lt; 30</td>\n",
       "      <td>no</td>\n",
       "      <td>55000</td>\n",
       "      <td>32</td>\n",
       "      <td>0.9</td>\n",
       "      <td>3</td>\n",
       "      <td>...</td>\n",
       "      <td>0.109818</td>\n",
       "      <td>0.005533</td>\n",
       "      <td>0.003829</td>\n",
       "      <td>0.005795</td>\n",
       "      <td>0.005500</td>\n",
       "      <td>0.004473</td>\n",
       "      <td>0.005122</td>\n",
       "      <td>0.004459</td>\n",
       "      <td>0.005317</td>\n",
       "      <td>0.004924</td>\n",
       "    </tr>\n",
       "    <tr>\n",
       "      <th>599997</th>\n",
       "      <td>U3462902</td>\n",
       "      <td>no</td>\n",
       "      <td>0</td>\n",
       "      <td>team</td>\n",
       "      <td>&lt; 30</td>\n",
       "      <td>yes</td>\n",
       "      <td>55000</td>\n",
       "      <td>32</td>\n",
       "      <td>0.9</td>\n",
       "      <td>0</td>\n",
       "      <td>...</td>\n",
       "      <td>0.151322</td>\n",
       "      <td>0.007333</td>\n",
       "      <td>0.004094</td>\n",
       "      <td>0.007956</td>\n",
       "      <td>0.006623</td>\n",
       "      <td>0.007140</td>\n",
       "      <td>0.006725</td>\n",
       "      <td>0.006762</td>\n",
       "      <td>0.006513</td>\n",
       "      <td>0.006515</td>\n",
       "    </tr>\n",
       "    <tr>\n",
       "      <th>599998</th>\n",
       "      <td>U3462916</td>\n",
       "      <td>no</td>\n",
       "      <td>0</td>\n",
       "      <td>team</td>\n",
       "      <td>&lt; 30</td>\n",
       "      <td>no</td>\n",
       "      <td>50000</td>\n",
       "      <td>35</td>\n",
       "      <td>0.6</td>\n",
       "      <td>2</td>\n",
       "      <td>...</td>\n",
       "      <td>0.091192</td>\n",
       "      <td>0.004790</td>\n",
       "      <td>0.002397</td>\n",
       "      <td>0.004920</td>\n",
       "      <td>0.004533</td>\n",
       "      <td>0.003725</td>\n",
       "      <td>0.004125</td>\n",
       "      <td>0.003646</td>\n",
       "      <td>0.004284</td>\n",
       "      <td>0.004069</td>\n",
       "    </tr>\n",
       "    <tr>\n",
       "      <th>599999</th>\n",
       "      <td>U3462922</td>\n",
       "      <td>no</td>\n",
       "      <td>0</td>\n",
       "      <td>endurance</td>\n",
       "      <td>30 to 44</td>\n",
       "      <td>yes</td>\n",
       "      <td>50000</td>\n",
       "      <td>25</td>\n",
       "      <td>0.7</td>\n",
       "      <td>1</td>\n",
       "      <td>...</td>\n",
       "      <td>0.109169</td>\n",
       "      <td>0.008824</td>\n",
       "      <td>0.004470</td>\n",
       "      <td>0.005124</td>\n",
       "      <td>0.004264</td>\n",
       "      <td>0.003562</td>\n",
       "      <td>0.004184</td>\n",
       "      <td>0.003673</td>\n",
       "      <td>0.004318</td>\n",
       "      <td>0.003958</td>\n",
       "    </tr>\n",
       "  </tbody>\n",
       "</table>\n",
       "<p>600000 rows × 52 columns</p>\n",
       "</div>"
      ],
      "text/plain": [
       "          custid buyer  total_os      message       age female  income  \\\n",
       "0             U1    no         0         team  30 to 44     no   55000   \n",
       "1             U3    no         0  backcountry  45 to 59     no   35000   \n",
       "2            U13    no         0    endurance  45 to 59    yes   45000   \n",
       "3            U20    no         0        water  45 to 59    yes   25000   \n",
       "4            U25    no         0      racquet     >= 60    yes   65000   \n",
       "...          ...   ...       ...          ...       ...    ...     ...   \n",
       "599995  U3462888    no         0        water     >= 60    yes   40000   \n",
       "599996  U3462900    no         0         team      < 30     no   55000   \n",
       "599997  U3462902    no         0         team      < 30    yes   55000   \n",
       "599998  U3462916    no         0         team      < 30     no   50000   \n",
       "599999  U3462922    no         0    endurance  30 to 44    yes   50000   \n",
       "\n",
       "        education  children  freq_endurance  ...    ep_rnd  pred_nn1  \\\n",
       "0              19       0.8               0  ...  0.121358  0.012438   \n",
       "1              22       1.0               0  ...  0.076910  0.003623   \n",
       "2              33       0.7               0  ...  0.212843  0.009892   \n",
       "3              24       0.2               0  ...  0.024983  0.001449   \n",
       "4              32       1.1               1  ...  0.292381  0.010817   \n",
       "...           ...       ...             ...  ...       ...       ...   \n",
       "599995         26       0.6               0  ...  0.045158  0.001358   \n",
       "599996         32       0.9               3  ...  0.109818  0.005533   \n",
       "599997         32       0.9               0  ...  0.151322  0.007333   \n",
       "599998         35       0.6               2  ...  0.091192  0.004790   \n",
       "599999         25       0.7               1  ...  0.109169  0.008824   \n",
       "\n",
       "        pred_nn12_12  p_endurance_nn  p_strength_nn  p_water_nn  p_team_nn  \\\n",
       "0           0.011452        0.012506       0.012395    0.012218   0.012369   \n",
       "1           0.002043        0.002442       0.002391    0.002272   0.002304   \n",
       "2           0.008484        0.008140       0.007136    0.006946   0.007430   \n",
       "3           0.000918        0.002513       0.001184    0.000911   0.000854   \n",
       "4           0.009376        0.009863       0.007802    0.006767   0.007411   \n",
       "...              ...             ...            ...         ...        ...   \n",
       "599995      0.001500        0.006714       0.002447    0.001739   0.001677   \n",
       "599996      0.003829        0.005795       0.005500    0.004473   0.005122   \n",
       "599997      0.004094        0.007956       0.006623    0.007140   0.006725   \n",
       "599998      0.002397        0.004920       0.004533    0.003725   0.004125   \n",
       "599999      0.004470        0.005124       0.004264    0.003562   0.004184   \n",
       "\n",
       "        p_backcountry_nn  p_racquet_nn  p_control_nn  \n",
       "0               0.010264      0.012556      0.011130  \n",
       "1               0.002015      0.002411      0.002247  \n",
       "2               0.007303      0.006580      0.006818  \n",
       "3               0.001446      0.001218      0.001123  \n",
       "4               0.007228      0.006806      0.007007  \n",
       "...                  ...           ...           ...  \n",
       "599995          0.003332      0.002372      0.002592  \n",
       "599996          0.004459      0.005317      0.004924  \n",
       "599997          0.006762      0.006513      0.006515  \n",
       "599998          0.003646      0.004284      0.004069  \n",
       "599999          0.003673      0.004318      0.003958  \n",
       "\n",
       "[600000 rows x 52 columns]"
      ]
     },
     "execution_count": 38,
     "metadata": {},
     "output_type": "execute_result"
    }
   ],
   "source": [
    "pentathlon_nptb[\"p_endurance_nn\"] = nn_final.predict(pentathlon_nptb, data_cmd={\"message\": \"endurance\"})[\"prediction\"]\n",
    "pentathlon_nptb[\"p_strength_nn\"] = nn_final.predict(pentathlon_nptb, data_cmd={\"message\": \"strength\"})[\"prediction\"]\n",
    "pentathlon_nptb[\"p_water_nn\"] = nn_final.predict(pentathlon_nptb, data_cmd={\"message\": \"water\"})[\"prediction\"]\n",
    "pentathlon_nptb[\"p_team_nn\"] = nn_final.predict(pentathlon_nptb, data_cmd={\"message\": \"team\"})[\"prediction\"]\n",
    "pentathlon_nptb[\"p_backcountry_nn\"] = nn_final.predict(pentathlon_nptb, data_cmd={\"message\": \"backcountry\"})[\"prediction\"]\n",
    "pentathlon_nptb[\"p_racquet_nn\"] = nn_final.predict(pentathlon_nptb, data_cmd={\"message\": \"racquet\"})[\"prediction\"]\n",
    "pentathlon_nptb[\"p_control_nn\"] = nn_final.predict(pentathlon_nptb, data_cmd={\"message\": \"control\"})[\"prediction\"]\n",
    "pentathlon_nptb"
   ]
  },
  {
   "cell_type": "code",
   "execution_count": 39,
   "metadata": {},
   "outputs": [],
   "source": [
    "pentathlon_nptb[\"to_message_nn\"] = pentathlon_nptb[[\"p_endurance_nn\", \"p_strength_nn\", \"p_water_nn\", \"p_team_nn\", \"p_backcountry_nn\", \"p_racquet_nn\", \"p_control_nn\"]].idxmax(axis=1)\n",
    "\n",
    "repl = {\"p_endurance_nn\": \"endurance\", \"p_strength_nn\": \"strength\", \"p_water_nn\": \"water\", \"p_team_nn\": \"team\", \"p_backcountry_nn\": \"backcountry\", \"p_racquet_nn\": \"racquet\", \"p_control_nn\": \"control\"}\n",
    "\n",
    "pentathlon_nptb[\"to_message_nn\"] = pentathlon_nptb[[\"p_endurance_nn\", \"p_strength_nn\", \"p_water_nn\", \"p_team_nn\", \"p_backcountry_nn\", \"p_racquet_nn\", \"p_control_nn\"]].idxmax(axis=1).map(repl)"
   ]
  },
  {
   "cell_type": "markdown",
   "metadata": {},
   "source": [
    "Our methodology employed neural network analysis to interpret customer data and anticipate purchase behaviors. Initially, we established a baseline model consisting of a single node and one hidden layer. To evaluate the model's performance and identify the threshold where overfitting begins, we expanded the complexity to 12 nodes with two hidden layers. Following this, we applied GridSearchCV to fine-tune the architecture, which identified the optimal configuration as 10 nodes within a single hidden layer.\n",
    "\n",
    "The refined neural network model was then trained to calculate the probability of a customer making a purchase in response to various messages. These probabilistic predictions enabled the model to ascertain the most impactful message for each individual customer. By focusing on maximizing purchase likelihood, this approach allows for the personalization of marketing strategies to enhance customer engagement and optimize response rates in future campaigns."
   ]
  },
  {
   "cell_type": "markdown",
   "metadata": {},
   "source": [
    "## Question 2 : NN Model\n",
    "For each message, report the percentage of customers for whom that message or no-message  maximizes  their  probability  of  purchase.  Comment  on  the  distribution  of expected response across messages."
   ]
  },
  {
   "cell_type": "code",
   "execution_count": 40,
   "metadata": {},
   "outputs": [
    {
     "data": {
      "text/plain": [
       "to_message_nn\n",
       "endurance      87.65%\n",
       "water           6.02%\n",
       "racquet         4.24%\n",
       "strength        1.71%\n",
       "team            0.36%\n",
       "backcountry     0.02%\n",
       "Name: proportion, dtype: object"
      ]
     },
     "execution_count": 40,
     "metadata": {},
     "output_type": "execute_result"
    }
   ],
   "source": [
    "pentathlon_nptb[\"p_max_nn\"] = pentathlon_nptb[[\"p_endurance_nn\", \"p_strength_nn\", \"p_water_nn\", \"p_team_nn\", \"p_backcountry_nn\", \"p_racquet_nn\", \"p_control_nn\"]].max(axis=1)\n",
    "\n",
    "pentathlon_nptb.to_message_nn.value_counts(normalize=True).apply(rsm.format_nr, perc=True)"
   ]
  },
  {
   "cell_type": "code",
   "execution_count": 41,
   "metadata": {},
   "outputs": [
    {
     "data": {
      "image/png": "[encoded data removed]",
      "text/plain": [
       "<Figure size 1000x600 with 1 Axes>"
      ]
     },
     "metadata": {},
     "output_type": "display_data"
    }
   ],
   "source": [
    "message_counts = pentathlon_nptb['to_message_nn'].value_counts()\n",
    "plt.figure(figsize=(10, 6))\n",
    "plt.bar(message_counts.index, message_counts.values, color='skyblue', edgecolor='black')\n",
    "plt.title('Profit Distribution by Message Type (Neural Network Model)')\n",
    "plt.xlabel('Message Type')\n",
    "plt.ylabel('Distribution of Messages')\n",
    "plt.grid(axis='y', alpha=0.75)\n",
    "plt.tight_layout()"
   ]
  },
  {
   "cell_type": "markdown",
   "metadata": {},
   "source": [
    "The 'endurance' message appears to dominate, suggesting that it resonates with a large segment of customers, potentially leading to higher profits. Other messages, like 'strength', 'racquet', 'water', 'team', 'backcountry', and 'control', have significantly lower distributions, indicating they might be less effective or relevant for the majority of customers. The visual suggests that tailoring messages towards 'endurance' may yield the best response in terms of profit, whereas other messages might need to be re-evaluated or better targeted to specific customer segments to increase their effectiveness."
   ]
  },
  {
   "cell_type": "markdown",
   "metadata": {},
   "source": [
    "## Question 3 : NN Model\n",
    "For  each  customer,  determine  the  message  (i.e.,  endurance,  strength,  water,  team,  backcountry, racquet, or no-message) predicted to lead to the highest expected profit (COGS is 60%). Describe your approach to predict order size and how you calculated expected profit."
   ]
  },
  {
   "cell_type": "code",
   "execution_count": 42,
   "metadata": {},
   "outputs": [],
   "source": [
    "pentathlon_nptb[\"ep_endurance_nn\"] = pentathlon_nptb[\"pred_ordersize_endurance\"] * pentathlon_nptb[\"p_endurance_nn\"] * 0.4\n",
    "pentathlon_nptb[\"ep_strength_nn\"] = pentathlon_nptb[\"pred_ordersize_strength\"] * pentathlon_nptb[\"p_strength_nn\"] * 0.4\n",
    "pentathlon_nptb[\"ep_water_nn\"] = pentathlon_nptb[\"pred_ordersize_water\"] * pentathlon_nptb[\"p_water_nn\"] * 0.4\n",
    "pentathlon_nptb[\"ep_team_nn\"] = pentathlon_nptb[\"pred_ordersize_team\"] * pentathlon_nptb[\"p_team_nn\"] * 0.4\n",
    "pentathlon_nptb[\"ep_backcountry_nn\"] = pentathlon_nptb[\"pred_ordersize_backcountry\"] * pentathlon_nptb[\"p_backcountry_nn\"] * 0.4\n",
    "pentathlon_nptb[\"ep_racquet_nn\"] = pentathlon_nptb[\"pred_ordersize_racquet\"] * pentathlon_nptb[\"p_racquet_nn\"] * 0.4\n",
    "pentathlon_nptb[\"ep_control_nn\"] = pentathlon_nptb[\"pred_ordersize_control\"] * pentathlon_nptb[\"p_control_nn\"] * 0.4"
   ]
  },
  {
   "cell_type": "code",
   "execution_count": 43,
   "metadata": {},
   "outputs": [],
   "source": [
    "repl={\"ep_endurance_nn\": \"endurance\", \"ep_strength_nn\": \"strength\", \"ep_water_nn\": \"water\", \"ep_team_nn\": \"team\", \"ep_backcountry_nn\": \"backcountry\", \"ep_racquet_nn\": \"racquet\", \"ep_control_nn\": \"control\"}\n",
    "pentathlon_nptb[\"to_message_ep_nn\"] = pentathlon_nptb[[\"ep_endurance_nn\", \"ep_strength_nn\", \"ep_water_nn\", \"ep_team_nn\", \"ep_backcountry_nn\", \"ep_racquet_nn\", \"ep_control_nn\"]].idxmax(axis=1).map(repl)"
   ]
  },
  {
   "cell_type": "markdown",
   "metadata": {},
   "source": [
    "The approach to predict the order size and calculate expected profit is the same as the logistic regression model. It involves these steps\n",
    "\n",
    "Regression Analysis: A linear regression model (lr_ordersize) is trained using data of confirmed buyers (buyer == \"yes\"). The dependent variable is the total order size (total_os), and explanatory variables and interactions are used to predict the order size.\n",
    "\n",
    "Prediction of Order Size: Using the trained model, we predict the order size for each customer across different messages (endurance, strength, water, team, backcountry, racquet, control). This is done by changing the message variable in the model to each type and generating predictions.\n",
    "\n",
    "Calculation of Expected Profit (ep_): The predicted order size for each message type is then multiplied by the probability of purchase (p_message) and the profit margin (40%, as COGS is 60%). This results in the expected profit for each message type per customer.\n",
    "\n",
    "Maximization: To find the message leading to the highest expected profit for each customer, we compare the expected profits (ep_) across all message types and select the one with the highest value.\n",
    "\n",
    "The final output will show, for each customer, the message type that is predicted to maximize their probability of purchase and hence expected profit. The expected profit is a product of the predicted order size, the likelihood of purchase given the message, and the profit margin."
   ]
  },
  {
   "cell_type": "markdown",
   "metadata": {},
   "source": [
    "## Question 4 : NN Model\n",
    "Report for each message, i.e., endurance, racket, etc., and no-message, the percentage of customers for whom that (no) message maximizes their expected profit. Comment on the distribution of expected profit across messages."
   ]
  },
  {
   "cell_type": "code",
   "execution_count": 44,
   "metadata": {},
   "outputs": [
    {
     "data": {
      "text/plain": [
       "to_message_ep_nn\n",
       "endurance      46.38%\n",
       "water          15.88%\n",
       "team           14.34%\n",
       "racquet         8.19%\n",
       "backcountry     7.99%\n",
       "control         6.27%\n",
       "strength        0.96%\n",
       "Name: proportion, dtype: object"
      ]
     },
     "execution_count": 44,
     "metadata": {},
     "output_type": "execute_result"
    }
   ],
   "source": [
    "pentathlon_nptb.to_message_ep_nn.value_counts(normalize=True).apply(rsm.format_nr, perc=True)"
   ]
  },
  {
   "cell_type": "code",
   "execution_count": 45,
   "metadata": {},
   "outputs": [],
   "source": [
    "pentathlon_nptb[\"ep_max_nn\"] = pentathlon_nptb[[\"ep_endurance_nn\", \"ep_strength_nn\", \"ep_water_nn\", \"ep_team_nn\", \"ep_backcountry_nn\", \"ep_racquet_nn\", \"ep_control_nn\"]].max(axis=1)"
   ]
  },
  {
   "cell_type": "code",
   "execution_count": 46,
   "metadata": {},
   "outputs": [
    {
     "data": {
      "image/png": "[encoded data removed]",
      "text/plain": [
       "<Figure size 1000x600 with 1 Axes>"
      ]
     },
     "metadata": {},
     "output_type": "display_data"
    }
   ],
   "source": [
    "message_counts = pentathlon_nptb['to_message_ep_nn'].value_counts()\n",
    "plt.figure(figsize=(10, 6))\n",
    "plt.bar(message_counts.index, message_counts.values, color='skyblue', edgecolor='black')\n",
    "plt.title('Profit Distribution by Message Type (Neural Network Model)')\n",
    "plt.xlabel('Message Type')\n",
    "plt.ylabel('Distribution of Messages')\n",
    "plt.grid(axis='y', alpha=0.75)\n",
    "plt.tight_layout()"
   ]
  },
  {
   "cell_type": "markdown",
   "metadata": {},
   "source": [
    " 'endurance' is the clear front-runner in effectiveness, whereas 'strength' lags significantly behind. Middle-performing messages like 'racquet' and 'team' suggest targeted appeal, while 'control', 'backcountry', and 'water' are less impactful. This suggests varying customer preferences and highlights the importance of message optimization in marketing strategies."
   ]
  },
  {
   "cell_type": "markdown",
   "metadata": {},
   "source": [
    "## Question 5: NN Model\n",
    "What  expected  profit  can  we  obtain,  on  average,  per  customer  if  we  customize  the message to each customer? Include no-message as an option as well."
   ]
  },
  {
   "cell_type": "code",
   "execution_count": 47,
   "metadata": {},
   "outputs": [
    {
     "name": "stdout",
     "output_type": "stream",
     "text": [
      "The average profit per customer for the neural network model is $0.76\n"
     ]
    }
   ],
   "source": [
    "average_profit_customer_nn = pentathlon_nptb.ep_max_nn.mean()\n",
    "\n",
    "print(f\"The average profit per customer for the neural network model is ${average_profit_customer_nn:.2f}\")"
   ]
  },
  {
   "cell_type": "markdown",
   "metadata": {},
   "source": [
    "## Question 6: NN Model\n",
    "What is the expected profit per e-mailed customer if every customer receives the same message?  Answer  this  question  for  each  of  the  possible  messages  (i.e.,  endurance, strength, water, team,backcountry, racquet) and the no-message option. Comment on the distribution of expected profit across messages and the no-message option."
   ]
  },
  {
   "cell_type": "code",
   "execution_count": 48,
   "metadata": {},
   "outputs": [
    {
     "data": {
      "text/plain": [
       "ep_max_nn            $0.77\n",
       "ep_endurance_nn      $0.69\n",
       "ep_water_nn          $0.67\n",
       "ep_backcountry_nn    $0.66\n",
       "ep_strength_nn       $0.62\n",
       "ep_team_nn           $0.59\n",
       "ep_racquet_nn        $0.56\n",
       "ep_control_nn        $0.47\n",
       "dtype: object"
      ]
     },
     "execution_count": 48,
     "metadata": {},
     "output_type": "execute_result"
    }
   ],
   "source": [
    "pentathlon_nptb.loc[pentathlon_nptb.training == 0, [\"ep_endurance_nn\", \"ep_strength_nn\", \"ep_water_nn\", \"ep_team_nn\", \"ep_backcountry_nn\", \"ep_racquet_nn\", \"ep_control_nn\", \"ep_max_nn\"]].agg(\"mean\").sort_values(ascending=False).apply(rsm.format_nr, sym=\"$\", dec=2)"
   ]
  },
  {
   "cell_type": "markdown",
   "metadata": {},
   "source": [
    "With the revised expected profit values per e-mailed customer for each message type, the 'endurance' message remains the most profitable, now at $0.69 per customer. The 'water' message follows closely at $0.67, and 'backcountry' not far behind at $0.66, both suggesting strong effectiveness. 'Strength' and 'team' messages yield lower expected profits of $0.62 and $0.59, respectively, while 'racquet' messages are at $0.56. The 'control' group, which does not receive any message, generates an expected profit of $0.47 per customer.\n",
    "\n",
    "The updated distribution reinforces that specific, targeted messages drive higher profits compared to no communication, with 'endurance' outperforming other categories. While there is a clear hierarchy in message profitability, the differences between them are not drastic, highlighting a customer base with varied interests. This underscores the importance of a tailored marketing approach that aligns message type with customer preference to enhance profitability."
   ]
  },
  {
   "cell_type": "markdown",
   "metadata": {},
   "source": [
    "## Question 7: NN Model\n",
    "What is the expected profit per e-mailed customer if every customer is assigned randomly to one of the messages or the no-message condition?"
   ]
  },
  {
   "cell_type": "code",
   "execution_count": 49,
   "metadata": {},
   "outputs": [
    {
     "name": "stdout",
     "output_type": "stream",
     "text": [
      "The average expected profit per customer when assigning messages randomly using the neural network model is: $0.61\n"
     ]
    }
   ],
   "source": [
    "pentathlon_nptb['ep_rnd_nn'] = pentathlon_nptb.apply(lambda row: row[f'ep_{row[\"message_rnd\"]}_nn'], axis=1)\n",
    "\n",
    "average_profit_customer_rnd_nn = pentathlon_nptb.ep_rnd_nn.mean()\n",
    "    \n",
    "print(f\"The average expected profit per customer when assigning messages randomly using the neural network model is: ${average_profit_customer_rnd_nn:.2f}\")"
   ]
  },
  {
   "cell_type": "markdown",
   "metadata": {},
   "source": [
    "## Question 8: NN Model\n",
    "For the typical promotional e-mail blast to 5,000,000 customers, what improvement (in percent and in total Euros) could Pentathlon achieve by customizing the message (or no-message) to each customer. Compare the performance predictions from this personalized approach to scenarios where (1) each customer is sent the same message selected based on average performance, (2) a random message assignment approach is used (i.e., the status quo), and (3) no message is sent (i.e., the control condition)?"
   ]
  },
  {
   "cell_type": "code",
   "execution_count": 50,
   "metadata": {},
   "outputs": [],
   "source": [
    "# Profit for customizing messages using the logit model\n",
    "profit_nn = pentathlon_nptb.loc[pentathlon_nptb.training == 0, \"ep_max_nn\"].agg(\"mean\") * 5000000\n",
    "\n",
    "# Profit for sending same message to all customers\n",
    "profit_same_nn = pentathlon_nptb.loc[pentathlon_nptb.training == 0, \"ep_endurance_nn\"].agg(\"mean\") * 5000000\n",
    "\n",
    "# Profit for sending random messages\n",
    "profit_rnd_nn = pentathlon_nptb.loc[pentathlon_nptb.training == 0, \"ep_rnd_nn\"].agg(\"mean\") * 5000000\n",
    "\n",
    "# Profit for sending no messages (i.e. the control)\n",
    "profit_control_nn = pentathlon_nptb.loc[pentathlon_nptb.training == 0, \"ep_control_nn\"].agg(\"mean\") * 5000000"
   ]
  },
  {
   "cell_type": "code",
   "execution_count": 51,
   "metadata": {},
   "outputs": [
    {
     "data": {
      "text/html": [
       "<div>\n",
       "<style scoped>\n",
       "    .dataframe tbody tr th:only-of-type {\n",
       "        vertical-align: middle;\n",
       "    }\n",
       "\n",
       "    .dataframe tbody tr th {\n",
       "        vertical-align: top;\n",
       "    }\n",
       "\n",
       "    .dataframe thead th {\n",
       "        text-align: right;\n",
       "    }\n",
       "</style>\n",
       "<table border=\"1\" class=\"dataframe\">\n",
       "  <thead>\n",
       "    <tr style=\"text-align: right;\">\n",
       "      <th></th>\n",
       "      <th>strategy</th>\n",
       "      <th>total_profit</th>\n",
       "      <th>diff_nn</th>\n",
       "      <th>perc_diff_nn</th>\n",
       "    </tr>\n",
       "  </thead>\n",
       "  <tbody>\n",
       "    <tr>\n",
       "      <th>0</th>\n",
       "      <td>nn</td>\n",
       "      <td>3.836402e+06</td>\n",
       "      <td>0.000000e+00</td>\n",
       "      <td>0.00%</td>\n",
       "    </tr>\n",
       "    <tr>\n",
       "      <th>1</th>\n",
       "      <td>same</td>\n",
       "      <td>3.453419e+06</td>\n",
       "      <td>-3.829831e+05</td>\n",
       "      <td>-9.98%</td>\n",
       "    </tr>\n",
       "    <tr>\n",
       "      <th>2</th>\n",
       "      <td>random</td>\n",
       "      <td>3.052056e+06</td>\n",
       "      <td>-7.843465e+05</td>\n",
       "      <td>-20.44%</td>\n",
       "    </tr>\n",
       "    <tr>\n",
       "      <th>3</th>\n",
       "      <td>control</td>\n",
       "      <td>2.358137e+06</td>\n",
       "      <td>-1.478265e+06</td>\n",
       "      <td>-38.53%</td>\n",
       "    </tr>\n",
       "  </tbody>\n",
       "</table>\n",
       "</div>"
      ],
      "text/plain": [
       "  strategy  total_profit       diff_nn perc_diff_nn\n",
       "0       nn  3.836402e+06  0.000000e+00        0.00%\n",
       "1     same  3.453419e+06 -3.829831e+05       -9.98%\n",
       "2   random  3.052056e+06 -7.843465e+05      -20.44%\n",
       "3  control  2.358137e+06 -1.478265e+06      -38.53%"
      ]
     },
     "execution_count": 51,
     "metadata": {},
     "output_type": "execute_result"
    }
   ],
   "source": [
    "compare_performance_nn = pd.DataFrame({\n",
    "    \"nn\": [profit_nn],\n",
    "    \"same\": [profit_same_nn],\n",
    "    \"random\": [profit_rnd_nn],\n",
    "    \"control\": [profit_control_nn]\n",
    "}).T.reset_index().rename(columns={\"index\": \"strategy\", 0: \"total_profit\"})\n",
    "\n",
    "# Calculate the difference in profit between each strategy and the logit strategy\n",
    "compare_performance_nn[\"diff_nn\"] = compare_performance_nn[\"total_profit\"] - compare_performance_nn[\"total_profit\"].iloc[0]\n",
    "\n",
    "# Calculate the percentage difference in profit between each strategy and the logit strategy\n",
    "compare_performance_nn[\"perc_diff_nn\"] = (compare_performance_nn[\"diff_nn\"] / compare_performance_nn[\"total_profit\"].iloc[0] * 100).apply(lambda x: f\"{x:.2f}%\")\n",
    "\n",
    "compare_performance_nn\n"
   ]
  },
  {
   "cell_type": "markdown",
   "metadata": {},
   "source": [
    "# Random Forest Model"
   ]
  },
  {
   "cell_type": "markdown",
   "metadata": {},
   "source": [
    "## Question 1: RF Model\n",
    "For  each  customer  determine  the  message  (i.e.,  endurance,  strength,  water,  team, backcountry,  racquet,  or  no-message)  predicted  to  lead  to  the  highest  probability  of purchase. Describe your approach."
   ]
  },
  {
   "cell_type": "code",
   "execution_count": 52,
   "metadata": {},
   "outputs": [],
   "source": [
    "from sklearn.ensemble import RandomForestClassifier\n",
    "from sklearn.model_selection import GridSearchCV"
   ]
  },
  {
   "cell_type": "code",
   "execution_count": 53,
   "metadata": {},
   "outputs": [],
   "source": [
    "pentathlon_nptb['buyer_yes'] = pentathlon_nptb.buyer.map({'yes': 1, 'no': 0})\n",
    "pentathlon_nptb['female_yes'] = pentathlon_nptb.female.map({'yes': 1, 'no': 0})"
   ]
  },
  {
   "cell_type": "code",
   "execution_count": 54,
   "metadata": {},
   "outputs": [],
   "source": [
    "pentathlon_nptb = pd.concat([pentathlon_nptb, pd.get_dummies(pentathlon_nptb['age'], prefix='age')], axis=1)\n",
    "pentathlon_nptb.rename(columns={'age_< 30':'age_less_30', 'age_30 to 44':'age_30_to_44', 'age_45 to 59':'age_45_to_59', 'age_>= 60':'age_greater_60'}, inplace=True)\n",
    "pentathlon_nptb = pd.concat([pentathlon_nptb, pd.get_dummies(pentathlon_nptb['message'], prefix='m')], axis=1)"
   ]
  },
  {
   "cell_type": "code",
   "execution_count": 55,
   "metadata": {},
   "outputs": [],
   "source": [
    "pentathlon_nptb['age_less_30'] = pentathlon_nptb['age_less_30'].map({True: 1, False: 0})\n",
    "pentathlon_nptb['age_30_to_44'] = pentathlon_nptb['age_30_to_44'].map({True: 1, False: 0})\n",
    "pentathlon_nptb['age_45_to_59'] = pentathlon_nptb['age_45_to_59'].map({True: 1, False: 0})\n",
    "pentathlon_nptb['age_greater_60'] = pentathlon_nptb['age_greater_60'].map({True: 1, False: 0})\n",
    "pentathlon_nptb['m_backcountry'] = pentathlon_nptb['m_backcountry'].map({True: 1, False: 0})\n",
    "pentathlon_nptb['m_control'] = pentathlon_nptb['m_control'].map({True: 1, False: 0})\n",
    "pentathlon_nptb['m_endurance'] = pentathlon_nptb['m_endurance'].map({True: 1, False: 0})\n",
    "pentathlon_nptb['m_racquet'] = pentathlon_nptb['m_racquet'].map({True: 1, False: 0})\n",
    "pentathlon_nptb['m_strength'] = pentathlon_nptb['m_strength'].map({True: 1, False: 0})\n",
    "pentathlon_nptb['m_team'] = pentathlon_nptb['m_team'].map({True: 1, False: 0})\n",
    "pentathlon_nptb['m_water'] = pentathlon_nptb['m_water'].map({True: 1, False: 0})"
   ]
  },
  {
   "cell_type": "code",
   "execution_count": 56,
   "metadata": {},
   "outputs": [],
   "source": [
    "evars_rf= [\n",
    " 'female_yes',\n",
    " 'income',\n",
    " 'education',\n",
    " 'children',\n",
    " 'freq_endurance',\n",
    " 'freq_strength',\n",
    " 'freq_water',\n",
    " 'freq_team',\n",
    " 'freq_backcountry',\n",
    " 'freq_racquet',\n",
    " 'age_less_30',\n",
    " 'age_30_to_44',\n",
    " 'age_45_to_59',\n",
    " 'age_greater_60',\n",
    " 'm_backcountry',\n",
    " 'm_control',\n",
    " 'm_endurance',\n",
    " 'm_racquet',\n",
    " 'm_strength',\n",
    " 'm_team',\n",
    " 'm_water']"
   ]
  },
  {
   "cell_type": "code",
   "execution_count": 57,
   "metadata": {},
   "outputs": [],
   "source": [
    "X_train = pentathlon_nptb[pentathlon_nptb.training == 1][evars_rf]\n",
    "y_train = pentathlon_nptb[pentathlon_nptb.training == 1][\"buyer_yes\"]"
   ]
  },
  {
   "cell_type": "code",
   "execution_count": 58,
   "metadata": {},
   "outputs": [
    {
     "data": {
      "text/plain": [
       "'\"\\nrf_cvs = GridSearchCV(\\n    clf, param_grid, scoring=scoring, cv=3, n_jobs=4, refit=\"AUC\", verbose=5\\n).fit(X_train, y_train)'"
      ]
     },
     "execution_count": 58,
     "metadata": {},
     "output_type": "execute_result"
    }
   ],
   "source": [
    "\n",
    "clf = RandomForestClassifier()\n",
    "\n",
    "param_grid = {\n",
    "    \"n_estimators\": [300, 500],\n",
    "    \"max_features\": [5, 8],\n",
    "}\n",
    "\n",
    "scoring = {\"AUC\": \"roc_auc\"}\n",
    "\n",
    "rf_cvs = GridSearchCV(\n",
    "    clf, param_grid, scoring=scoring, cv=3, n_jobs=4, refit=\"AUC\", verbose=5\n",
    ").fit(X_train, y_train)"
   ]
  },
  {
   "cell_type": "code",
   "execution_count": 59,
   "metadata": {},
   "outputs": [],
   "source": [
    "rf_cvs.best_params_, rf_cvs.best_score_"
   ]
  },
  {
   "cell_type": "code",
   "execution_count": 60,
   "metadata": {},
   "outputs": [
    {
     "name": "stdout",
     "output_type": "stream",
     "text": [
      "Random Forest\n",
      "Data                 : pentathlon_nptb\n",
      "Response variable    : buyer_yes\n",
      "Level                : 1\n",
      "Explanatory variables: message, age, female, income, education, children, freq_endurance, freq_strength, freq_water, freq_team, freq_backcountry, freq_racquet\n",
      "OOB                  : True\n",
      "Model type           : classification\n",
      "Nr. of features      : (12, 22)\n",
      "Nr. of observations  : 420,000\n",
      "max_features         : 5 (5)\n",
      "n_estimators         : 500\n",
      "min_samples_leaf     : 1\n",
      "random_state         : 42\n",
      "AUC                  : 0.859\n",
      "\n",
      "Estimation data      :\n",
      " income  education  children  freq_endurance  freq_strength  freq_water  freq_team  freq_backcountry  freq_racquet  message_backcountry  message_control  message_endurance  message_racquet  message_strength  message_team  message_water  age_< 30  age_30 to 44  age_45 to 59  age_>= 60  female_yes  female_no\n",
      "  55000         19       0.8               0              4           0          4                 0             1                False            False              False            False             False          True          False     False          True         False      False       False       True\n",
      "  45000         33       0.7               0              0           0          0                 2             2                False            False               True            False             False         False          False     False         False          True      False        True      False\n",
      "  25000         24       0.2               0              0           0          0                 0             0                False            False              False            False             False         False           True     False         False          True      False        True      False\n",
      "  25000         18       0.3               0              0           0          0                 0             0                False            False              False            False              True         False          False      True         False         False      False        True      False\n",
      "  65000         36       1.2               1              1           0          2                 0             3                False            False              False            False              True         False          False     False         False         False       True        True      False\n"
     ]
    }
   ],
   "source": [
    "rf = rsm.model.rforest(\n",
    "    data={\"pentathlon_nptb\": pentathlon_nptb.query(\"training == 1\")},\n",
    "    rvar=\"buyer_yes\",\n",
    "    lev=1,\n",
    "    evar = evars,\n",
    "    random_state=42,\n",
    "    **rf_cvs.best_params_,\n",
    ")\n",
    "rf.summary()"
   ]
  },
  {
   "cell_type": "code",
   "execution_count": 61,
   "metadata": {},
   "outputs": [],
   "source": [
    "pentathlon_nptb[\"p_endurance_rf\"] = rf.predict(pentathlon_nptb, data_cmd={\"message\": \"endurance\"})[\"prediction\"]\n",
    "pentathlon_nptb[\"p_strength_rf\"] = rf.predict(pentathlon_nptb, data_cmd={\"message\": \"strength\"})[\"prediction\"]\n",
    "pentathlon_nptb[\"p_water_rf\"] = rf.predict(pentathlon_nptb, data_cmd={\"message\": \"water\"})[\"prediction\"]\n",
    "pentathlon_nptb[\"p_team_rf\"] = rf.predict(pentathlon_nptb, data_cmd={\"message\": \"team\"})[\"prediction\"]\n",
    "pentathlon_nptb[\"p_backcountry_rf\"] = rf.predict(pentathlon_nptb, data_cmd={\"message\": \"backcountry\"})[\"prediction\"]\n",
    "pentathlon_nptb[\"p_racquet_rf\"] = rf.predict(pentathlon_nptb, data_cmd={\"message\": \"racquet\"})[\"prediction\"]\n",
    "pentathlon_nptb[\"p_control_rf\"] = rf.predict(pentathlon_nptb, data_cmd={\"message\": \"control\"})[\"prediction\"]"
   ]
  },
  {
   "cell_type": "code",
   "execution_count": 62,
   "metadata": {},
   "outputs": [],
   "source": [
    "pentathlon_nptb[\"to_message_rf\"] = pentathlon_nptb[[\"p_endurance_rf\", \"p_strength_rf\", \"p_water_rf\", \"p_team_rf\", \"p_backcountry_rf\", \"p_racquet_rf\", \"p_control_rf\"]].idxmax(axis=1)\n",
    "\n",
    "repl = {\"p_endurance_rf\": \"endurance\", \"p_strength_rf\": \"strength\", \"p_water_rf\": \"water\", \"p_team_rf\": \"team\", \"p_backcountry_rf\": \"backcountry\", \"p_racquet_rf\": \"racquet\", \"p_control_rf\": \"control\"}\n",
    "\n",
    "pentathlon_nptb[\"to_message_rf\"] = pentathlon_nptb[[\"p_endurance_rf\", \"p_strength_rf\", \"p_water_rf\", \"p_team_rf\", \"p_backcountry_rf\", \"p_racquet_rf\", \"p_control_rf\"]].idxmax(axis=1).map(repl)"
   ]
  },
  {
   "cell_type": "markdown",
   "metadata": {},
   "source": [
    "- For the Random Forest model, we used the same approach as the logistic regression and neural network models to predict the message that would lead to the highest probability of purchase for each customer. We trained the model using the same features and target variable, and then used the model to predict the message that would maximize the probability of purchase for each customer."
   ]
  },
  {
   "cell_type": "markdown",
   "metadata": {},
   "source": [
    "## Question 2 : RF Model\n",
    "For each message, report the percentage of customers for whom that message or no-message  maximizes  their  probability  of  purchase.  Comment  on  the  distribution  of expected response across messages."
   ]
  },
  {
   "cell_type": "code",
   "execution_count": 63,
   "metadata": {},
   "outputs": [
    {
     "data": {
      "text/html": [
       "<div>\n",
       "<style scoped>\n",
       "    .dataframe tbody tr th:only-of-type {\n",
       "        vertical-align: middle;\n",
       "    }\n",
       "\n",
       "    .dataframe tbody tr th {\n",
       "        vertical-align: top;\n",
       "    }\n",
       "\n",
       "    .dataframe thead th {\n",
       "        text-align: right;\n",
       "    }\n",
       "</style>\n",
       "<table border=\"1\" class=\"dataframe\">\n",
       "  <thead>\n",
       "    <tr style=\"text-align: right;\">\n",
       "      <th></th>\n",
       "      <th>custid</th>\n",
       "      <th>buyer</th>\n",
       "      <th>total_os</th>\n",
       "      <th>message</th>\n",
       "      <th>age</th>\n",
       "      <th>female</th>\n",
       "      <th>income</th>\n",
       "      <th>education</th>\n",
       "      <th>children</th>\n",
       "      <th>freq_endurance</th>\n",
       "      <th>...</th>\n",
       "      <th>m_team</th>\n",
       "      <th>m_water</th>\n",
       "      <th>p_endurance_rf</th>\n",
       "      <th>p_strength_rf</th>\n",
       "      <th>p_water_rf</th>\n",
       "      <th>p_team_rf</th>\n",
       "      <th>p_backcountry_rf</th>\n",
       "      <th>p_racquet_rf</th>\n",
       "      <th>p_control_rf</th>\n",
       "      <th>to_message_rf</th>\n",
       "    </tr>\n",
       "  </thead>\n",
       "  <tbody>\n",
       "    <tr>\n",
       "      <th>0</th>\n",
       "      <td>U1</td>\n",
       "      <td>no</td>\n",
       "      <td>0</td>\n",
       "      <td>team</td>\n",
       "      <td>30 to 44</td>\n",
       "      <td>no</td>\n",
       "      <td>55000</td>\n",
       "      <td>19</td>\n",
       "      <td>0.8</td>\n",
       "      <td>0</td>\n",
       "      <td>...</td>\n",
       "      <td>1</td>\n",
       "      <td>0</td>\n",
       "      <td>0.066</td>\n",
       "      <td>0.044</td>\n",
       "      <td>0.008</td>\n",
       "      <td>0.006</td>\n",
       "      <td>0.008</td>\n",
       "      <td>0.004</td>\n",
       "      <td>0.006</td>\n",
       "      <td>endurance</td>\n",
       "    </tr>\n",
       "    <tr>\n",
       "      <th>1</th>\n",
       "      <td>U3</td>\n",
       "      <td>no</td>\n",
       "      <td>0</td>\n",
       "      <td>backcountry</td>\n",
       "      <td>45 to 59</td>\n",
       "      <td>no</td>\n",
       "      <td>35000</td>\n",
       "      <td>22</td>\n",
       "      <td>1.0</td>\n",
       "      <td>0</td>\n",
       "      <td>...</td>\n",
       "      <td>0</td>\n",
       "      <td>0</td>\n",
       "      <td>0.000</td>\n",
       "      <td>0.000</td>\n",
       "      <td>0.000</td>\n",
       "      <td>0.000</td>\n",
       "      <td>0.000</td>\n",
       "      <td>0.000</td>\n",
       "      <td>0.000</td>\n",
       "      <td>endurance</td>\n",
       "    </tr>\n",
       "    <tr>\n",
       "      <th>2</th>\n",
       "      <td>U13</td>\n",
       "      <td>no</td>\n",
       "      <td>0</td>\n",
       "      <td>endurance</td>\n",
       "      <td>45 to 59</td>\n",
       "      <td>yes</td>\n",
       "      <td>45000</td>\n",
       "      <td>33</td>\n",
       "      <td>0.7</td>\n",
       "      <td>0</td>\n",
       "      <td>...</td>\n",
       "      <td>0</td>\n",
       "      <td>0</td>\n",
       "      <td>0.000</td>\n",
       "      <td>0.000</td>\n",
       "      <td>0.000</td>\n",
       "      <td>0.004</td>\n",
       "      <td>0.002</td>\n",
       "      <td>0.002</td>\n",
       "      <td>0.000</td>\n",
       "      <td>team</td>\n",
       "    </tr>\n",
       "    <tr>\n",
       "      <th>3</th>\n",
       "      <td>U20</td>\n",
       "      <td>no</td>\n",
       "      <td>0</td>\n",
       "      <td>water</td>\n",
       "      <td>45 to 59</td>\n",
       "      <td>yes</td>\n",
       "      <td>25000</td>\n",
       "      <td>24</td>\n",
       "      <td>0.2</td>\n",
       "      <td>0</td>\n",
       "      <td>...</td>\n",
       "      <td>0</td>\n",
       "      <td>1</td>\n",
       "      <td>0.000</td>\n",
       "      <td>0.000</td>\n",
       "      <td>0.000</td>\n",
       "      <td>0.000</td>\n",
       "      <td>0.000</td>\n",
       "      <td>0.000</td>\n",
       "      <td>0.000</td>\n",
       "      <td>endurance</td>\n",
       "    </tr>\n",
       "    <tr>\n",
       "      <th>4</th>\n",
       "      <td>U25</td>\n",
       "      <td>no</td>\n",
       "      <td>0</td>\n",
       "      <td>racquet</td>\n",
       "      <td>&gt;= 60</td>\n",
       "      <td>yes</td>\n",
       "      <td>65000</td>\n",
       "      <td>32</td>\n",
       "      <td>1.1</td>\n",
       "      <td>1</td>\n",
       "      <td>...</td>\n",
       "      <td>0</td>\n",
       "      <td>0</td>\n",
       "      <td>0.006</td>\n",
       "      <td>0.004</td>\n",
       "      <td>0.006</td>\n",
       "      <td>0.002</td>\n",
       "      <td>0.018</td>\n",
       "      <td>0.020</td>\n",
       "      <td>0.008</td>\n",
       "      <td>racquet</td>\n",
       "    </tr>\n",
       "    <tr>\n",
       "      <th>...</th>\n",
       "      <td>...</td>\n",
       "      <td>...</td>\n",
       "      <td>...</td>\n",
       "      <td>...</td>\n",
       "      <td>...</td>\n",
       "      <td>...</td>\n",
       "      <td>...</td>\n",
       "      <td>...</td>\n",
       "      <td>...</td>\n",
       "      <td>...</td>\n",
       "      <td>...</td>\n",
       "      <td>...</td>\n",
       "      <td>...</td>\n",
       "      <td>...</td>\n",
       "      <td>...</td>\n",
       "      <td>...</td>\n",
       "      <td>...</td>\n",
       "      <td>...</td>\n",
       "      <td>...</td>\n",
       "      <td>...</td>\n",
       "      <td>...</td>\n",
       "    </tr>\n",
       "    <tr>\n",
       "      <th>599995</th>\n",
       "      <td>U3462888</td>\n",
       "      <td>no</td>\n",
       "      <td>0</td>\n",
       "      <td>water</td>\n",
       "      <td>&gt;= 60</td>\n",
       "      <td>yes</td>\n",
       "      <td>40000</td>\n",
       "      <td>26</td>\n",
       "      <td>0.6</td>\n",
       "      <td>0</td>\n",
       "      <td>...</td>\n",
       "      <td>0</td>\n",
       "      <td>1</td>\n",
       "      <td>0.000</td>\n",
       "      <td>0.000</td>\n",
       "      <td>0.000</td>\n",
       "      <td>0.000</td>\n",
       "      <td>0.000</td>\n",
       "      <td>0.000</td>\n",
       "      <td>0.000</td>\n",
       "      <td>endurance</td>\n",
       "    </tr>\n",
       "    <tr>\n",
       "      <th>599996</th>\n",
       "      <td>U3462900</td>\n",
       "      <td>no</td>\n",
       "      <td>0</td>\n",
       "      <td>team</td>\n",
       "      <td>&lt; 30</td>\n",
       "      <td>no</td>\n",
       "      <td>55000</td>\n",
       "      <td>32</td>\n",
       "      <td>0.9</td>\n",
       "      <td>3</td>\n",
       "      <td>...</td>\n",
       "      <td>1</td>\n",
       "      <td>0</td>\n",
       "      <td>0.000</td>\n",
       "      <td>0.000</td>\n",
       "      <td>0.000</td>\n",
       "      <td>0.000</td>\n",
       "      <td>0.000</td>\n",
       "      <td>0.000</td>\n",
       "      <td>0.000</td>\n",
       "      <td>endurance</td>\n",
       "    </tr>\n",
       "    <tr>\n",
       "      <th>599997</th>\n",
       "      <td>U3462902</td>\n",
       "      <td>no</td>\n",
       "      <td>0</td>\n",
       "      <td>team</td>\n",
       "      <td>&lt; 30</td>\n",
       "      <td>yes</td>\n",
       "      <td>55000</td>\n",
       "      <td>32</td>\n",
       "      <td>0.9</td>\n",
       "      <td>0</td>\n",
       "      <td>...</td>\n",
       "      <td>1</td>\n",
       "      <td>0</td>\n",
       "      <td>0.004</td>\n",
       "      <td>0.004</td>\n",
       "      <td>0.002</td>\n",
       "      <td>0.000</td>\n",
       "      <td>0.024</td>\n",
       "      <td>0.002</td>\n",
       "      <td>0.004</td>\n",
       "      <td>backcountry</td>\n",
       "    </tr>\n",
       "    <tr>\n",
       "      <th>599998</th>\n",
       "      <td>U3462916</td>\n",
       "      <td>no</td>\n",
       "      <td>0</td>\n",
       "      <td>team</td>\n",
       "      <td>&lt; 30</td>\n",
       "      <td>no</td>\n",
       "      <td>50000</td>\n",
       "      <td>35</td>\n",
       "      <td>0.6</td>\n",
       "      <td>2</td>\n",
       "      <td>...</td>\n",
       "      <td>1</td>\n",
       "      <td>0</td>\n",
       "      <td>0.000</td>\n",
       "      <td>0.002</td>\n",
       "      <td>0.000</td>\n",
       "      <td>0.000</td>\n",
       "      <td>0.000</td>\n",
       "      <td>0.000</td>\n",
       "      <td>0.004</td>\n",
       "      <td>control</td>\n",
       "    </tr>\n",
       "    <tr>\n",
       "      <th>599999</th>\n",
       "      <td>U3462922</td>\n",
       "      <td>no</td>\n",
       "      <td>0</td>\n",
       "      <td>endurance</td>\n",
       "      <td>30 to 44</td>\n",
       "      <td>yes</td>\n",
       "      <td>50000</td>\n",
       "      <td>25</td>\n",
       "      <td>0.7</td>\n",
       "      <td>1</td>\n",
       "      <td>...</td>\n",
       "      <td>0</td>\n",
       "      <td>0</td>\n",
       "      <td>0.024</td>\n",
       "      <td>0.000</td>\n",
       "      <td>0.004</td>\n",
       "      <td>0.000</td>\n",
       "      <td>0.000</td>\n",
       "      <td>0.000</td>\n",
       "      <td>0.000</td>\n",
       "      <td>endurance</td>\n",
       "    </tr>\n",
       "  </tbody>\n",
       "</table>\n",
       "<p>600000 rows × 85 columns</p>\n",
       "</div>"
      ],
      "text/plain": [
       "          custid buyer  total_os      message       age female  income  \\\n",
       "0             U1    no         0         team  30 to 44     no   55000   \n",
       "1             U3    no         0  backcountry  45 to 59     no   35000   \n",
       "2            U13    no         0    endurance  45 to 59    yes   45000   \n",
       "3            U20    no         0        water  45 to 59    yes   25000   \n",
       "4            U25    no         0      racquet     >= 60    yes   65000   \n",
       "...          ...   ...       ...          ...       ...    ...     ...   \n",
       "599995  U3462888    no         0        water     >= 60    yes   40000   \n",
       "599996  U3462900    no         0         team      < 30     no   55000   \n",
       "599997  U3462902    no         0         team      < 30    yes   55000   \n",
       "599998  U3462916    no         0         team      < 30     no   50000   \n",
       "599999  U3462922    no         0    endurance  30 to 44    yes   50000   \n",
       "\n",
       "        education  children  freq_endurance  ...  m_team  m_water  \\\n",
       "0              19       0.8               0  ...       1        0   \n",
       "1              22       1.0               0  ...       0        0   \n",
       "2              33       0.7               0  ...       0        0   \n",
       "3              24       0.2               0  ...       0        1   \n",
       "4              32       1.1               1  ...       0        0   \n",
       "...           ...       ...             ...  ...     ...      ...   \n",
       "599995         26       0.6               0  ...       0        1   \n",
       "599996         32       0.9               3  ...       1        0   \n",
       "599997         32       0.9               0  ...       1        0   \n",
       "599998         35       0.6               2  ...       1        0   \n",
       "599999         25       0.7               1  ...       0        0   \n",
       "\n",
       "        p_endurance_rf  p_strength_rf  p_water_rf  p_team_rf  \\\n",
       "0                0.066          0.044       0.008      0.006   \n",
       "1                0.000          0.000       0.000      0.000   \n",
       "2                0.000          0.000       0.000      0.004   \n",
       "3                0.000          0.000       0.000      0.000   \n",
       "4                0.006          0.004       0.006      0.002   \n",
       "...                ...            ...         ...        ...   \n",
       "599995           0.000          0.000       0.000      0.000   \n",
       "599996           0.000          0.000       0.000      0.000   \n",
       "599997           0.004          0.004       0.002      0.000   \n",
       "599998           0.000          0.002       0.000      0.000   \n",
       "599999           0.024          0.000       0.004      0.000   \n",
       "\n",
       "        p_backcountry_rf  p_racquet_rf  p_control_rf  to_message_rf  \n",
       "0                  0.008         0.004         0.006      endurance  \n",
       "1                  0.000         0.000         0.000      endurance  \n",
       "2                  0.002         0.002         0.000           team  \n",
       "3                  0.000         0.000         0.000      endurance  \n",
       "4                  0.018         0.020         0.008        racquet  \n",
       "...                  ...           ...           ...            ...  \n",
       "599995             0.000         0.000         0.000      endurance  \n",
       "599996             0.000         0.000         0.000      endurance  \n",
       "599997             0.024         0.002         0.004    backcountry  \n",
       "599998             0.000         0.000         0.004        control  \n",
       "599999             0.000         0.000         0.000      endurance  \n",
       "\n",
       "[600000 rows x 85 columns]"
      ]
     },
     "execution_count": 63,
     "metadata": {},
     "output_type": "execute_result"
    }
   ],
   "source": [
    "pentathlon_nptb"
   ]
  },
  {
   "cell_type": "code",
   "execution_count": 64,
   "metadata": {},
   "outputs": [
    {
     "data": {
      "text/plain": [
       "to_message_nn\n",
       "endurance      87.65%\n",
       "water           6.02%\n",
       "racquet         4.24%\n",
       "strength        1.71%\n",
       "team            0.36%\n",
       "backcountry     0.02%\n",
       "Name: proportion, dtype: object"
      ]
     },
     "execution_count": 64,
     "metadata": {},
     "output_type": "execute_result"
    }
   ],
   "source": [
    "pentathlon_nptb[\"p_max_rf\"] = pentathlon_nptb[[\"p_endurance_rf\",\"p_strength_rf\",\"p_water_rf\",\"p_team_rf\",\"p_backcountry_rf\",\"p_racquet_rf\",\"p_control_rf\"]].max(axis=1)\n",
    "\n",
    "pentathlon_nptb.to_message_nn.value_counts(normalize=True).apply(rsm.format_nr, perc=True)"
   ]
  },
  {
   "cell_type": "code",
   "execution_count": 65,
   "metadata": {},
   "outputs": [
    {
     "data": {
      "image/png": "[encoded data removed]",
      "text/plain": [
       "<Figure size 1000x600 with 1 Axes>"
      ]
     },
     "metadata": {},
     "output_type": "display_data"
    }
   ],
   "source": [
    "message_counts = pentathlon_nptb['to_message_rf'].value_counts()\n",
    "plt.figure(figsize=(10, 6))\n",
    "plt.bar(message_counts.index, message_counts.values, color='skyblue', edgecolor='black')\n",
    "plt.title('Profit Distribution by Message Type (Random Forest Model)')\n",
    "plt.xlabel('Message Type')\n",
    "plt.ylabel('Distribution of Messages')\n",
    "plt.grid(axis='y', alpha=0.75)\n",
    "plt.tight_layout()"
   ]
  },
  {
   "cell_type": "markdown",
   "metadata": {},
   "source": [
    "- The endurace message appears to dominate, suggesting that it resonates with a large segment of customers, potentially leading to higher profits. Other messages, like strength, racquet, water, team, backcountry, and control, have significantly lower distributions, indicating they might be less effective or relevant for the majority of customers. The visual suggests that tailoring messages towards endurance may yield the best response in terms of profit, whereas other messages might need to be re-evaluated or better targeted to specific customer segments to increase their effectiveness."
   ]
  },
  {
   "cell_type": "markdown",
   "metadata": {},
   "source": [
    "## Question 3 : RF Model\n",
    "For  each  customer,  determine  the  message  (i.e.,  endurance,  strength,  water,  team,  backcountry, racquet, or no-message) predicted to lead to the highest expected profit (COGS is 60%). Describe your approach to predict order size and how you calculated expected profit."
   ]
  },
  {
   "cell_type": "code",
   "execution_count": 66,
   "metadata": {},
   "outputs": [],
   "source": [
    "pentathlon_nptb[\"ep_endurance_rf\"] = pentathlon_nptb[\"pred_ordersize_endurance\"] * pentathlon_nptb[\"p_endurance_rf\"] * 0.4\n",
    "pentathlon_nptb[\"ep_strength_rf\"] = pentathlon_nptb[\"pred_ordersize_strength\"] * pentathlon_nptb[\"p_strength_rf\"] * 0.4\n",
    "pentathlon_nptb[\"ep_water_rf\"] = pentathlon_nptb[\"pred_ordersize_water\"] * pentathlon_nptb[\"p_water_rf\"] * 0.4\n",
    "pentathlon_nptb[\"ep_team_rf\"] = pentathlon_nptb[\"pred_ordersize_team\"] * pentathlon_nptb[\"p_team_rf\"] * 0.4\n",
    "pentathlon_nptb[\"ep_backcountry_rf\"] = pentathlon_nptb[\"pred_ordersize_backcountry\"] * pentathlon_nptb[\"p_backcountry_rf\"] * 0.4\n",
    "pentathlon_nptb[\"ep_racquet_rf\"] = pentathlon_nptb[\"pred_ordersize_racquet\"] * pentathlon_nptb[\"p_racquet_rf\"] * 0.4\n",
    "pentathlon_nptb[\"ep_control_rf\"] = pentathlon_nptb[\"pred_ordersize_control\"] * pentathlon_nptb[\"p_control_rf\"] * 0.4\n"
   ]
  },
  {
   "cell_type": "code",
   "execution_count": 67,
   "metadata": {},
   "outputs": [],
   "source": [
    "repl = {\"ep_endurance_rf\": \"endurance\", \"ep_strength_rf\": \"strength\", \"ep_water_rf\": \"water\", \"ep_team_rf\": \"team\", \"ep_backcountry_rf\": \"backcountry\", \"ep_racquet_rf\": \"racquet\", \"ep_control_rf\": \"control\"}\n",
    "pentathlon_nptb[\"to_message_ep_rf\"] = pentathlon_nptb[[\"ep_endurance_rf\", \"ep_strength_rf\", \"ep_water_rf\", \"ep_team_rf\", \"ep_backcountry_rf\", \"ep_racquet_rf\", \"ep_control_rf\"]].idxmax(axis=1).map(repl)"
   ]
  },
  {
   "cell_type": "markdown",
   "metadata": {},
   "source": [
    "- The approach to predict the order size and calculate expected profit is the same as the logistic regression and neural network models. "
   ]
  },
  {
   "cell_type": "markdown",
   "metadata": {},
   "source": [
    "## Question 4 : RF Model\n",
    "Report for each message, i.e., endurance, racket, etc., and no-message, the percentage of customers for whom that (no) message maximizes their expected profit. Comment on the distribution of expected profit across messages."
   ]
  },
  {
   "cell_type": "code",
   "execution_count": 68,
   "metadata": {},
   "outputs": [
    {
     "data": {
      "text/plain": [
       "to_message_ep_rf\n",
       "endurance      38.07%\n",
       "strength       11.54%\n",
       "water          11.49%\n",
       "backcountry     10.9%\n",
       "team           10.16%\n",
       "racquet         9.76%\n",
       "control         8.07%\n",
       "Name: proportion, dtype: object"
      ]
     },
     "execution_count": 68,
     "metadata": {},
     "output_type": "execute_result"
    }
   ],
   "source": [
    "pentathlon_nptb.to_message_ep_rf.value_counts(normalize=True).apply(rsm.format_nr, perc=True)"
   ]
  },
  {
   "cell_type": "code",
   "execution_count": 69,
   "metadata": {},
   "outputs": [],
   "source": [
    "pentathlon_nptb[\"ep_max_rf\"] = pentathlon_nptb[[\"ep_endurance_rf\", \"ep_strength_rf\", \"ep_water_rf\", \"ep_team_rf\", \"ep_backcountry_rf\", \"ep_racquet_rf\", \"ep_control_rf\"]].max(axis=1)"
   ]
  },
  {
   "cell_type": "code",
   "execution_count": 70,
   "metadata": {},
   "outputs": [
    {
     "data": {
      "image/png": "[encoded data removed]",
      "text/plain": [
       "<Figure size 1000x600 with 1 Axes>"
      ]
     },
     "metadata": {},
     "output_type": "display_data"
    }
   ],
   "source": [
    "message_counts = pentathlon_nptb['to_message_ep_rf'].value_counts()\n",
    "plt.figure(figsize=(10, 6))\n",
    "plt.bar(message_counts.index, message_counts.values, color='skyblue', edgecolor='black')\n",
    "plt.title('Profit Distribution by Message Type (Random Forest Model)')\n",
    "plt.xlabel('Message Type')\n",
    "plt.ylabel('Distribution of Messages')\n",
    "plt.grid(axis='y', alpha=0.75)\n",
    "plt.tight_layout()"
   ]
  },
  {
   "cell_type": "markdown",
   "metadata": {},
   "source": [
    "- The endurace message is the clear front-runner in effectiveness, whereas rest all lags significantly behind. Middle-performing messages like strength, water, backcountry ,racquet and team suggest targeted appeal, while control is less impactful. This suggests varying customer preferences and highlights the importance of message optimization in marketing strategies."
   ]
  },
  {
   "cell_type": "markdown",
   "metadata": {},
   "source": [
    "## Question 5: RF Model\n",
    "What  expected  profit  can  we  obtain,  on  average,  per  customer  if  we  customize  the message to each customer? Include no-message as an option as well."
   ]
  },
  {
   "cell_type": "code",
   "execution_count": 71,
   "metadata": {},
   "outputs": [
    {
     "name": "stdout",
     "output_type": "stream",
     "text": [
      "The average profit per customer for the random forest model is $1.06\n"
     ]
    }
   ],
   "source": [
    "average_profit_customer_rf = pentathlon_nptb.ep_max_rf.mean()\n",
    "\n",
    "print(f\"The average profit per customer for the random forest model is ${average_profit_customer_rf:.2f}\")"
   ]
  },
  {
   "cell_type": "markdown",
   "metadata": {},
   "source": [
    "## Question 6: RF Model\n",
    "What is the expected profit per e-mailed customer if every customer receives the same message?  Answer  this  question  for  each  of  the  possible  messages  (i.e.,  endurance, strength, water, team,backcountry, racquet) and the no-message option. Comment on the distribution of expected profit across messages and the no-message option."
   ]
  },
  {
   "cell_type": "code",
   "execution_count": 72,
   "metadata": {},
   "outputs": [
    {
     "data": {
      "text/plain": [
       "ep_max_rf            $1.01\n",
       "ep_water_rf          $0.66\n",
       "ep_backcountry_rf    $0.66\n",
       "ep_endurance_rf      $0.65\n",
       "ep_strength_rf       $0.64\n",
       "ep_team_rf            $0.6\n",
       "ep_racquet_rf        $0.59\n",
       "ep_control_rf         $0.5\n",
       "dtype: object"
      ]
     },
     "execution_count": 72,
     "metadata": {},
     "output_type": "execute_result"
    }
   ],
   "source": [
    "pentathlon_nptb.loc[pentathlon_nptb.training == 0, [\"ep_endurance_rf\", \"ep_strength_rf\", \"ep_water_rf\", \"ep_team_rf\", \"ep_backcountry_rf\", \"ep_racquet_rf\", \"ep_control_rf\", \"ep_max_rf\"]].agg(\"mean\").sort_values(ascending=False).apply(rsm.format_nr, sym=\"$\", dec=2)"
   ]
  },
  {
   "cell_type": "markdown",
   "metadata": {},
   "source": [
    "## Question 7: RF Model\n",
    "What is the expected profit per e-mailed customer if every customer is assigned randomly to one of the messages or the no-message condition?"
   ]
  },
  {
   "cell_type": "code",
   "execution_count": 73,
   "metadata": {},
   "outputs": [
    {
     "name": "stdout",
     "output_type": "stream",
     "text": [
      "The average expected profit per customer when assigning messages randomly using the random forest model is: $0.60\n"
     ]
    }
   ],
   "source": [
    "pentathlon_nptb['ep_rnd_rf'] = pentathlon_nptb.apply(lambda row: row[f'ep_{row[\"message_rnd\"]}_rf'], axis=1)\n",
    "\n",
    "average_profit_customer_rnd_rf = pentathlon_nptb.ep_rnd_rf.mean()\n",
    "    \n",
    "print(f\"The average expected profit per customer when assigning messages randomly using the random forest model is: ${average_profit_customer_rnd_rf:.2f}\")"
   ]
  },
  {
   "cell_type": "markdown",
   "metadata": {},
   "source": [
    "- From the Random Forest model, the 'max' message type emerges as the most lucrative, yielding an average expected profit of $1.01 per customer. The 'endurance' message type also shows a strong performance with an expected profit of $0.65 per customer. This suggests that targeting customers with these specific message types could potentially enhance the profitability of email campaigns compared to a random assignment of messages, which averages $0.60 in expected profit per customer."
   ]
  },
  {
   "cell_type": "markdown",
   "metadata": {},
   "source": [
    "## Question 8: RF Model\n",
    "For the typical promotional e-mail blast to 5,000,000 customers, what improvement (in percent and in total Euros) could Pentathlon achieve by customizing the message (or no-message) to each customer. Compare the performance predictions from this personalized approach to scenarios where (1) each customer is sent the same message selected based on average performance, (2) a random message assignment approach is used (i.e., the status quo), and (3) no message is sent (i.e., the control condition)?"
   ]
  },
  {
   "cell_type": "code",
   "execution_count": 74,
   "metadata": {},
   "outputs": [],
   "source": [
    "# Profit for customizing messages using the random forest model\n",
    "profit_rf = pentathlon_nptb.loc[pentathlon_nptb.training == 0, \"ep_max_rf\"].agg(\"mean\") * 5000000\n",
    "\n",
    "# Profit for sending same message to all customers\n",
    "profit_same_rf = pentathlon_nptb.loc[pentathlon_nptb.training == 0, \"ep_endurance_rf\"].agg(\"mean\") * 5000000\n",
    "\n",
    "# Profit for sending random messages\n",
    "profit_rnd_rf = pentathlon_nptb.loc[pentathlon_nptb.training == 0, \"ep_rnd_rf\"].agg(\"mean\") * 5000000\n",
    "\n",
    "# Profit for sending no messages (i.e. the control)\n",
    "profit_control_rf = pentathlon_nptb.loc[pentathlon_nptb.training == 0, \"ep_control_rf\"].agg(\"mean\") * 5000000"
   ]
  },
  {
   "cell_type": "code",
   "execution_count": 75,
   "metadata": {},
   "outputs": [
    {
     "data": {
      "text/html": [
       "<div>\n",
       "<style scoped>\n",
       "    .dataframe tbody tr th:only-of-type {\n",
       "        vertical-align: middle;\n",
       "    }\n",
       "\n",
       "    .dataframe tbody tr th {\n",
       "        vertical-align: top;\n",
       "    }\n",
       "\n",
       "    .dataframe thead th {\n",
       "        text-align: right;\n",
       "    }\n",
       "</style>\n",
       "<table border=\"1\" class=\"dataframe\">\n",
       "  <thead>\n",
       "    <tr style=\"text-align: right;\">\n",
       "      <th></th>\n",
       "      <th>strategy</th>\n",
       "      <th>total_profit</th>\n",
       "      <th>diff_rf</th>\n",
       "      <th>perc_diff_rf</th>\n",
       "    </tr>\n",
       "  </thead>\n",
       "  <tbody>\n",
       "    <tr>\n",
       "      <th>0</th>\n",
       "      <td>rf</td>\n",
       "      <td>5.053514e+06</td>\n",
       "      <td>0.000000e+00</td>\n",
       "      <td>0.00%</td>\n",
       "    </tr>\n",
       "    <tr>\n",
       "      <th>1</th>\n",
       "      <td>same</td>\n",
       "      <td>3.257139e+06</td>\n",
       "      <td>-1.796374e+06</td>\n",
       "      <td>-35.55%</td>\n",
       "    </tr>\n",
       "    <tr>\n",
       "      <th>2</th>\n",
       "      <td>random</td>\n",
       "      <td>3.056232e+06</td>\n",
       "      <td>-1.997282e+06</td>\n",
       "      <td>-39.52%</td>\n",
       "    </tr>\n",
       "    <tr>\n",
       "      <th>3</th>\n",
       "      <td>control</td>\n",
       "      <td>2.494744e+06</td>\n",
       "      <td>-2.558770e+06</td>\n",
       "      <td>-50.63%</td>\n",
       "    </tr>\n",
       "  </tbody>\n",
       "</table>\n",
       "</div>"
      ],
      "text/plain": [
       "  strategy  total_profit       diff_rf perc_diff_rf\n",
       "0       rf  5.053514e+06  0.000000e+00        0.00%\n",
       "1     same  3.257139e+06 -1.796374e+06      -35.55%\n",
       "2   random  3.056232e+06 -1.997282e+06      -39.52%\n",
       "3  control  2.494744e+06 -2.558770e+06      -50.63%"
      ]
     },
     "execution_count": 75,
     "metadata": {},
     "output_type": "execute_result"
    }
   ],
   "source": [
    "compare_performance_rf = pd.DataFrame({\n",
    "    \"rf\": [profit_rf],\n",
    "    \"same\": [profit_same_rf],\n",
    "    \"random\": [profit_rnd_rf],\n",
    "    \"control\": [profit_control_rf]\n",
    "}).T.reset_index().rename(columns={\"index\": \"strategy\", 0: \"total_profit\"})\n",
    "\n",
    "# Calculate the difference in profit between each strategy and the random forest strategy\n",
    "compare_performance_rf[\"diff_rf\"] = compare_performance_rf[\"total_profit\"] - compare_performance_rf[\"total_profit\"].iloc[0]\n",
    "\n",
    "# Calculate the percentage difference in profit between each strategy and the random forest strategy\n",
    "compare_performance_rf[\"perc_diff_rf\"] = (compare_performance_rf[\"diff_rf\"] / compare_performance_rf[\"total_profit\"].iloc[0] * 100).apply(lambda x: f\"{x:.2f}%\")\n",
    "\n",
    "compare_performance_rf\n"
   ]
  },
  {
   "cell_type": "markdown",
   "metadata": {},
   "source": [
    "# XGBoost Model"
   ]
  },
  {
   "cell_type": "markdown",
   "metadata": {},
   "source": [
    "## Question 1: XGBoost Model\n",
    "For  each  customer  determine  the  message  (i.e.,  endurance,  strength,  water,  team, backcountry,  racquet,  or  no-message)  predicted  to  lead  to  the  highest  probability  of purchase. Describe your approach."
   ]
  },
  {
   "cell_type": "code",
   "execution_count": 76,
   "metadata": {},
   "outputs": [],
   "source": [
    "from sklearn.preprocessing import LabelEncoder\n",
    "import pandas as pd\n",
    "import numpy as np\n",
    "from sklearn.model_selection import train_test_split\n",
    "from sklearn.preprocessing import LabelEncoder\n",
    "import xgboost as xgb\n",
    "\n",
    "df_train = pentathlon_nptb[pentathlon_nptb['training'] == 1]\n",
    "\n",
    "X = df_train[evars]\n",
    "y = df_train['buyer'].replace({'no': 0, 'yes': 1})"
   ]
  },
  {
   "cell_type": "code",
   "execution_count": 77,
   "metadata": {},
   "outputs": [
    {
     "name": "stdout",
     "output_type": "stream",
     "text": [
      "Fitting 5 folds for each of 9 candidates, totalling 45 fits\n"
     ]
    },
    {
     "name": "stdout",
     "output_type": "stream",
     "text": [
      "Best parameters found:  {'learning_rate': 0.1, 'max_depth': 6, 'min_child_weight': 10, 'n_estimators': 100}\n",
      "Highest AUC found:  0.8873036056977437\n"
     ]
    }
   ],
   "source": [
    "xgb_classifier = xgb.XGBClassifier(use_label_encoder=False, eval_metric='logloss', enable_categorical=True)\n",
    "\n",
    "hyperparameter_grid = {\n",
    "    'n_estimators': [100],\n",
    "    'max_depth': [3, 6, 9],\n",
    "    'learning_rate': [0.1],\n",
    "    'min_child_weight': [1, 10, 100]\n",
    "}\n",
    "\n",
    "XGBoost = GridSearchCV(estimator=xgb_classifier, param_grid=hyperparameter_grid, cv=5, scoring='roc_auc', n_jobs=-1, verbose=1)\n",
    "XGBoost.fit(X, y)\n",
    "\n",
    "print(\"Best parameters found: \", XGBoost.best_params_)\n",
    "print(\"Highest AUC found: \", XGBoost.best_score_)"
   ]
  },
  {
   "cell_type": "code",
   "execution_count": 78,
   "metadata": {},
   "outputs": [
    {
     "data": {
      "text/html": [
       "<style>#sk-container-id-1 {color: black;}#sk-container-id-1 pre{padding: 0;}#sk-container-id-1 div.sk-toggleable {background-color: white;}#sk-container-id-1 label.sk-toggleable__label {cursor: pointer;display: block;width: 100%;margin-bottom: 0;padding: 0.3em;box-sizing: border-box;text-align: center;}#sk-container-id-1 label.sk-toggleable__label-arrow:before {content: \"▸\";float: left;margin-right: 0.25em;color: #696969;}#sk-container-id-1 label.sk-toggleable__label-arrow:hover:before {color: black;}#sk-container-id-1 div.sk-estimator:hover label.sk-toggleable__label-arrow:before {color: black;}#sk-container-id-1 div.sk-toggleable__content {max-height: 0;max-width: 0;overflow: hidden;text-align: left;background-color: #f0f8ff;}#sk-container-id-1 div.sk-toggleable__content pre {margin: 0.2em;color: black;border-radius: 0.25em;background-color: #f0f8ff;}#sk-container-id-1 input.sk-toggleable__control:checked~div.sk-toggleable__content {max-height: 200px;max-width: 100%;overflow: auto;}#sk-container-id-1 input.sk-toggleable__control:checked~label.sk-toggleable__label-arrow:before {content: \"▾\";}#sk-container-id-1 div.sk-estimator input.sk-toggleable__control:checked~label.sk-toggleable__label {background-color: #d4ebff;}#sk-container-id-1 div.sk-label input.sk-toggleable__control:checked~label.sk-toggleable__label {background-color: #d4ebff;}#sk-container-id-1 input.sk-hidden--visually {border: 0;clip: rect(1px 1px 1px 1px);clip: rect(1px, 1px, 1px, 1px);height: 1px;margin: -1px;overflow: hidden;padding: 0;position: absolute;width: 1px;}#sk-container-id-1 div.sk-estimator {font-family: monospace;background-color: #f0f8ff;border: 1px dotted black;border-radius: 0.25em;box-sizing: border-box;margin-bottom: 0.5em;}#sk-container-id-1 div.sk-estimator:hover {background-color: #d4ebff;}#sk-container-id-1 div.sk-parallel-item::after {content: \"\";width: 100%;border-bottom: 1px solid gray;flex-grow: 1;}#sk-container-id-1 div.sk-label:hover label.sk-toggleable__label {background-color: #d4ebff;}#sk-container-id-1 div.sk-serial::before {content: \"\";position: absolute;border-left: 1px solid gray;box-sizing: border-box;top: 0;bottom: 0;left: 50%;z-index: 0;}#sk-container-id-1 div.sk-serial {display: flex;flex-direction: column;align-items: center;background-color: white;padding-right: 0.2em;padding-left: 0.2em;position: relative;}#sk-container-id-1 div.sk-item {position: relative;z-index: 1;}#sk-container-id-1 div.sk-parallel {display: flex;align-items: stretch;justify-content: center;background-color: white;position: relative;}#sk-container-id-1 div.sk-item::before, #sk-container-id-1 div.sk-parallel-item::before {content: \"\";position: absolute;border-left: 1px solid gray;box-sizing: border-box;top: 0;bottom: 0;left: 50%;z-index: -1;}#sk-container-id-1 div.sk-parallel-item {display: flex;flex-direction: column;z-index: 1;position: relative;background-color: white;}#sk-container-id-1 div.sk-parallel-item:first-child::after {align-self: flex-end;width: 50%;}#sk-container-id-1 div.sk-parallel-item:last-child::after {align-self: flex-start;width: 50%;}#sk-container-id-1 div.sk-parallel-item:only-child::after {width: 0;}#sk-container-id-1 div.sk-dashed-wrapped {border: 1px dashed gray;margin: 0 0.4em 0.5em 0.4em;box-sizing: border-box;padding-bottom: 0.4em;background-color: white;}#sk-container-id-1 div.sk-label label {font-family: monospace;font-weight: bold;display: inline-block;line-height: 1.2em;}#sk-container-id-1 div.sk-label-container {text-align: center;}#sk-container-id-1 div.sk-container {/* jupyter's `normalize.less` sets `[hidden] { display: none; }` but bootstrap.min.css set `[hidden] { display: none !important; }` so we also need the `!important` here to be able to override the default hidden behavior on the sphinx rendered scikit-learn.org. See: https://github.com/scikit-learn/scikit-learn/issues/21755 */display: inline-block !important;position: relative;}#sk-container-id-1 div.sk-text-repr-fallback {display: none;}</style><div id=\"sk-container-id-1\" class=\"sk-top-container\"><div class=\"sk-text-repr-fallback\"><pre>XGBClassifier(base_score=None, booster=None, callbacks=None,\n",
       "              colsample_bylevel=None, colsample_bynode=None,\n",
       "              colsample_bytree=None, device=None, early_stopping_rounds=None,\n",
       "              enable_categorical=True, eval_metric=&#x27;logloss&#x27;,\n",
       "              feature_types=None, gamma=None, grow_policy=None,\n",
       "              importance_type=None, interaction_constraints=None,\n",
       "              learning_rate=0.1, max_bin=None, max_cat_threshold=None,\n",
       "              max_cat_to_onehot=None, max_delta_step=None, max_depth=6,\n",
       "              max_leaves=None, min_child_weight=10, missing=nan,\n",
       "              monotone_constraints=None, multi_strategy=None, n_estimators=100,\n",
       "              n_jobs=None, num_parallel_tree=None, random_state=None, ...)</pre><b>In a Jupyter environment, please rerun this cell to show the HTML representation or trust the notebook. <br />On GitHub, the HTML representation is unable to render, please try loading this page with nbviewer.org.</b></div><div class=\"sk-container\" hidden><div class=\"sk-item\"><div class=\"sk-estimator sk-toggleable\"><input class=\"sk-toggleable__control sk-hidden--visually\" id=\"sk-estimator-id-1\" type=\"checkbox\" checked><label for=\"sk-estimator-id-1\" class=\"sk-toggleable__label sk-toggleable__label-arrow\">XGBClassifier</label><div class=\"sk-toggleable__content\"><pre>XGBClassifier(base_score=None, booster=None, callbacks=None,\n",
       "              colsample_bylevel=None, colsample_bynode=None,\n",
       "              colsample_bytree=None, device=None, early_stopping_rounds=None,\n",
       "              enable_categorical=True, eval_metric=&#x27;logloss&#x27;,\n",
       "              feature_types=None, gamma=None, grow_policy=None,\n",
       "              importance_type=None, interaction_constraints=None,\n",
       "              learning_rate=0.1, max_bin=None, max_cat_threshold=None,\n",
       "              max_cat_to_onehot=None, max_delta_step=None, max_depth=6,\n",
       "              max_leaves=None, min_child_weight=10, missing=nan,\n",
       "              monotone_constraints=None, multi_strategy=None, n_estimators=100,\n",
       "              n_jobs=None, num_parallel_tree=None, random_state=None, ...)</pre></div></div></div></div></div>"
      ],
      "text/plain": [
       "XGBClassifier(base_score=None, booster=None, callbacks=None,\n",
       "              colsample_bylevel=None, colsample_bynode=None,\n",
       "              colsample_bytree=None, device=None, early_stopping_rounds=None,\n",
       "              enable_categorical=True, eval_metric='logloss',\n",
       "              feature_types=None, gamma=None, grow_policy=None,\n",
       "              importance_type=None, interaction_constraints=None,\n",
       "              learning_rate=0.1, max_bin=None, max_cat_threshold=None,\n",
       "              max_cat_to_onehot=None, max_delta_step=None, max_depth=6,\n",
       "              max_leaves=None, min_child_weight=10, missing=nan,\n",
       "              monotone_constraints=None, multi_strategy=None, n_estimators=100,\n",
       "              n_jobs=None, num_parallel_tree=None, random_state=None, ...)"
      ]
     },
     "execution_count": 78,
     "metadata": {},
     "output_type": "execute_result"
    }
   ],
   "source": [
    "best_params = XGBoost.best_params_\n",
    "xgb_best = xgb.XGBClassifier(**best_params, use_label_encoder=False, eval_metric='logloss', enable_categorical=True)\n",
    "xgb_best.fit(X, y)"
   ]
  },
  {
   "cell_type": "code",
   "execution_count": 79,
   "metadata": {},
   "outputs": [],
   "source": [
    "types = ['team', 'backcountry', 'endurance', 'water', 'racquet', 'strength', 'control']\n",
    "\n",
    "df_temp = pentathlon_nptb.copy()\n",
    "\n",
    "for type in types:\n",
    "    df_temp['message'] = pd.Categorical([type] * len(df_temp), categories=df_temp['message'].cat.categories)\n",
    "    X_temp = df_temp[evars]  \n",
    "    probabilities = xgb_best.predict_proba(X_temp)[:, 1]\n",
    "    pentathlon_nptb[f\"p_{type}_xgb\"] = probabilities"
   ]
  },
  {
   "cell_type": "code",
   "execution_count": 80,
   "metadata": {},
   "outputs": [],
   "source": [
    "columns = [f\"p_{type}\" for type in types]\n",
    "\n",
    "pentathlon_nptb[\"to_message_xgb\"] = pentathlon_nptb[columns].idxmax(axis=1).str.replace(\"p_\", \"\", 1)"
   ]
  },
  {
   "cell_type": "markdown",
   "metadata": {},
   "source": [
    "Our approach utilized XGBoost, a gradient boosting framework, to analyze customer data and predict purchasing behavior. We began by selecting a set of hyperparameters to optimize the model, starting with a conservative learning rate and examining various tree complexities and regularization parameters to strike a balance between learning efficiency and model complexity. Employing GridSearchCV with a 5-fold cross-validation, we systematically searched through the hyperparameter space, prioritizing the ROC AUC score to identify the most predictive model without overfitting.\n",
    "\n",
    "The optimal configuration was found with a learning rate of 0.1, a tree depth of 6, and a min_child_weight of 10, leveraging 100 trees. With these parameters, the XGBoost model was trained to forecast the probability of a customer completing a purchase in response to different marketing messages.\n",
    "\n",
    "Using the trained XGBoost model, we then calculated the likelihood of purchase for each message type, enabling us to determine the message predicted to be most effective for each customer. This predictive insight paves the way for crafting personalized marketing strategies aimed at boosting customer interaction and maximizing response rates for future campaigns. The process culminates in the selection of an optimal message for each customer, thereby tailoring the marketing efforts to individual preferences and tendencies."
   ]
  },
  {
   "cell_type": "markdown",
   "metadata": {},
   "source": [
    "## Question 2 : XGBoost Model\n",
    "For each message, report the percentage of customers for whom that message or no-message  maximizes  their  probability  of  purchase.  Comment  on  the  distribution  of expected response across messages."
   ]
  },
  {
   "cell_type": "code",
   "execution_count": 81,
   "metadata": {},
   "outputs": [],
   "source": [
    "pentathlon_nptb[\"p_max_xgb\"] = pentathlon_nptb[columns].max(axis=1)"
   ]
  },
  {
   "cell_type": "code",
   "execution_count": 82,
   "metadata": {},
   "outputs": [
    {
     "data": {
      "text/plain": [
       "to_message_xgb\n",
       "endurance      69.97%\n",
       "strength       20.22%\n",
       "racquet          6.9%\n",
       "water           1.19%\n",
       "team            0.94%\n",
       "backcountry     0.79%\n",
       "control          0.0%\n",
       "Name: proportion, dtype: object"
      ]
     },
     "execution_count": 82,
     "metadata": {},
     "output_type": "execute_result"
    }
   ],
   "source": [
    "pentathlon_nptb.to_message_xgb.value_counts(normalize=True).apply(rsm.format_nr, perc=True)"
   ]
  },
  {
   "cell_type": "code",
   "execution_count": 83,
   "metadata": {},
   "outputs": [
    {
     "data": {
      "image/png": "[encoded data removed]",
      "text/plain": [
       "<Figure size 1000x600 with 1 Axes>"
      ]
     },
     "metadata": {},
     "output_type": "display_data"
    }
   ],
   "source": [
    "message_counts = pentathlon_nptb['to_message_xgb'].value_counts()\n",
    "plt.figure(figsize=(10, 6))\n",
    "plt.bar(message_counts.index, message_counts.values, color='skyblue', edgecolor='black')\n",
    "plt.title('Profit Distribution by Message Type (XG Boost Model)')\n",
    "plt.xlabel('Message Type')\n",
    "plt.ylabel('Distribution of Messages')\n",
    "plt.grid(axis='y', alpha=0.75)\n",
    "plt.tight_layout()"
   ]
  },
  {
   "cell_type": "markdown",
   "metadata": {},
   "source": [
    "the 'endurance' message appears to dominate, suggesting that it resonates with a large segment of customers, potentially leading to higher profits. Other messages, like 'strength', 'racquet', 'water', 'team', 'backcountry', and 'control', have significantly lower distributions, indicating they might be less effective or relevant for the majority of customers. The visual suggests that tailoring messages towards 'endurance' may yield the best response in terms of profit, whereas other messages might need to be re-evaluated or better targeted to specific customer segments to increase their effectiveness."
   ]
  },
  {
   "cell_type": "markdown",
   "metadata": {},
   "source": [
    "## Question 3 : XGBoost Model\n",
    "For  each  customer,  determine  the  message  (i.e.,  endurance,  strength,  water,  team,  backcountry, racquet, or no-message) predicted to lead to the highest expected profit (COGS is 60%). Describe your approach to predict order size and how you calculated expected profit."
   ]
  },
  {
   "cell_type": "code",
   "execution_count": 84,
   "metadata": {},
   "outputs": [
    {
     "data": {
      "text/html": [
       "<div>\n",
       "<style scoped>\n",
       "    .dataframe tbody tr th:only-of-type {\n",
       "        vertical-align: middle;\n",
       "    }\n",
       "\n",
       "    .dataframe tbody tr th {\n",
       "        vertical-align: top;\n",
       "    }\n",
       "\n",
       "    .dataframe thead th {\n",
       "        text-align: right;\n",
       "    }\n",
       "</style>\n",
       "<table border=\"1\" class=\"dataframe\">\n",
       "  <thead>\n",
       "    <tr style=\"text-align: right;\">\n",
       "      <th></th>\n",
       "      <th>custid</th>\n",
       "      <th>buyer</th>\n",
       "      <th>total_os</th>\n",
       "      <th>message</th>\n",
       "      <th>age</th>\n",
       "      <th>female</th>\n",
       "      <th>income</th>\n",
       "      <th>education</th>\n",
       "      <th>children</th>\n",
       "      <th>freq_endurance</th>\n",
       "      <th>...</th>\n",
       "      <th>p_control_xgb</th>\n",
       "      <th>to_message_xgb</th>\n",
       "      <th>p_max_xgb</th>\n",
       "      <th>ep_team_xgb</th>\n",
       "      <th>ep_backcountry_xgb</th>\n",
       "      <th>ep_endurance_xgb</th>\n",
       "      <th>ep_water_xgb</th>\n",
       "      <th>ep_racquet_xgb</th>\n",
       "      <th>ep_strength_xgb</th>\n",
       "      <th>ep_control_xgb</th>\n",
       "    </tr>\n",
       "  </thead>\n",
       "  <tbody>\n",
       "    <tr>\n",
       "      <th>0</th>\n",
       "      <td>U1</td>\n",
       "      <td>no</td>\n",
       "      <td>0</td>\n",
       "      <td>team</td>\n",
       "      <td>30 to 44</td>\n",
       "      <td>no</td>\n",
       "      <td>55000</td>\n",
       "      <td>19</td>\n",
       "      <td>0.8</td>\n",
       "      <td>0</td>\n",
       "      <td>...</td>\n",
       "      <td>0.007570</td>\n",
       "      <td>endurance</td>\n",
       "      <td>0.015682</td>\n",
       "      <td>0.128338</td>\n",
       "      <td>0.123617</td>\n",
       "      <td>0.196319</td>\n",
       "      <td>0.141534</td>\n",
       "      <td>0.144061</td>\n",
       "      <td>0.135714</td>\n",
       "      <td>0.076413</td>\n",
       "    </tr>\n",
       "    <tr>\n",
       "      <th>1</th>\n",
       "      <td>U3</td>\n",
       "      <td>no</td>\n",
       "      <td>0</td>\n",
       "      <td>backcountry</td>\n",
       "      <td>45 to 59</td>\n",
       "      <td>no</td>\n",
       "      <td>35000</td>\n",
       "      <td>22</td>\n",
       "      <td>1.0</td>\n",
       "      <td>0</td>\n",
       "      <td>...</td>\n",
       "      <td>0.001008</td>\n",
       "      <td>endurance</td>\n",
       "      <td>0.006014</td>\n",
       "      <td>0.015641</td>\n",
       "      <td>0.017260</td>\n",
       "      <td>0.015701</td>\n",
       "      <td>0.015511</td>\n",
       "      <td>0.013748</td>\n",
       "      <td>0.015277</td>\n",
       "      <td>0.015241</td>\n",
       "    </tr>\n",
       "    <tr>\n",
       "      <th>2</th>\n",
       "      <td>U13</td>\n",
       "      <td>no</td>\n",
       "      <td>0</td>\n",
       "      <td>endurance</td>\n",
       "      <td>45 to 59</td>\n",
       "      <td>yes</td>\n",
       "      <td>45000</td>\n",
       "      <td>33</td>\n",
       "      <td>0.7</td>\n",
       "      <td>0</td>\n",
       "      <td>...</td>\n",
       "      <td>0.006790</td>\n",
       "      <td>endurance</td>\n",
       "      <td>0.013884</td>\n",
       "      <td>0.107641</td>\n",
       "      <td>0.128609</td>\n",
       "      <td>0.101901</td>\n",
       "      <td>0.088893</td>\n",
       "      <td>0.140228</td>\n",
       "      <td>0.100619</td>\n",
       "      <td>0.119662</td>\n",
       "    </tr>\n",
       "  </tbody>\n",
       "</table>\n",
       "<p>3 rows × 112 columns</p>\n",
       "</div>"
      ],
      "text/plain": [
       "  custid buyer  total_os      message       age female  income  education  \\\n",
       "0     U1    no         0         team  30 to 44     no   55000         19   \n",
       "1     U3    no         0  backcountry  45 to 59     no   35000         22   \n",
       "2    U13    no         0    endurance  45 to 59    yes   45000         33   \n",
       "\n",
       "   children  freq_endurance  ...  p_control_xgb  to_message_xgb  p_max_xgb  \\\n",
       "0       0.8               0  ...       0.007570       endurance   0.015682   \n",
       "1       1.0               0  ...       0.001008       endurance   0.006014   \n",
       "2       0.7               0  ...       0.006790       endurance   0.013884   \n",
       "\n",
       "   ep_team_xgb  ep_backcountry_xgb  ep_endurance_xgb  ep_water_xgb  \\\n",
       "0     0.128338            0.123617          0.196319      0.141534   \n",
       "1     0.015641            0.017260          0.015701      0.015511   \n",
       "2     0.107641            0.128609          0.101901      0.088893   \n",
       "\n",
       "   ep_racquet_xgb  ep_strength_xgb  ep_control_xgb  \n",
       "0        0.144061         0.135714        0.076413  \n",
       "1        0.013748         0.015277        0.015241  \n",
       "2        0.140228         0.100619        0.119662  \n",
       "\n",
       "[3 rows x 112 columns]"
      ]
     },
     "execution_count": 84,
     "metadata": {},
     "output_type": "execute_result"
    }
   ],
   "source": [
    "for type in types:\n",
    "    pentathlon_nptb[f\"ep_{type}_xgb\"] = pentathlon_nptb[f\"pred_ordersize_{type}\"] * pentathlon_nptb[f\"p_{type}_xgb\"] * 0.4\n",
    "\n",
    "pentathlon_nptb[:3]"
   ]
  },
  {
   "cell_type": "code",
   "execution_count": 85,
   "metadata": {},
   "outputs": [
    {
     "data": {
      "text/html": [
       "<div>\n",
       "<style scoped>\n",
       "    .dataframe tbody tr th:only-of-type {\n",
       "        vertical-align: middle;\n",
       "    }\n",
       "\n",
       "    .dataframe tbody tr th {\n",
       "        vertical-align: top;\n",
       "    }\n",
       "\n",
       "    .dataframe thead th {\n",
       "        text-align: right;\n",
       "    }\n",
       "</style>\n",
       "<table border=\"1\" class=\"dataframe\">\n",
       "  <thead>\n",
       "    <tr style=\"text-align: right;\">\n",
       "      <th></th>\n",
       "      <th>ep_team_xgb</th>\n",
       "      <th>ep_backcountry_xgb</th>\n",
       "      <th>ep_endurance_xgb</th>\n",
       "      <th>ep_water_xgb</th>\n",
       "      <th>ep_racquet_xgb</th>\n",
       "      <th>ep_strength_xgb</th>\n",
       "      <th>ep_control_xgb</th>\n",
       "      <th>to_message_ep_xgb</th>\n",
       "    </tr>\n",
       "  </thead>\n",
       "  <tbody>\n",
       "    <tr>\n",
       "      <th>0</th>\n",
       "      <td>0.128338</td>\n",
       "      <td>0.123617</td>\n",
       "      <td>0.196319</td>\n",
       "      <td>0.141534</td>\n",
       "      <td>0.144061</td>\n",
       "      <td>0.135714</td>\n",
       "      <td>0.076413</td>\n",
       "      <td>endurance</td>\n",
       "    </tr>\n",
       "    <tr>\n",
       "      <th>1</th>\n",
       "      <td>0.015641</td>\n",
       "      <td>0.017260</td>\n",
       "      <td>0.015701</td>\n",
       "      <td>0.015511</td>\n",
       "      <td>0.013748</td>\n",
       "      <td>0.015277</td>\n",
       "      <td>0.015241</td>\n",
       "      <td>backcountry</td>\n",
       "    </tr>\n",
       "    <tr>\n",
       "      <th>2</th>\n",
       "      <td>0.107641</td>\n",
       "      <td>0.128609</td>\n",
       "      <td>0.101901</td>\n",
       "      <td>0.088893</td>\n",
       "      <td>0.140228</td>\n",
       "      <td>0.100619</td>\n",
       "      <td>0.119662</td>\n",
       "      <td>racquet</td>\n",
       "    </tr>\n",
       "    <tr>\n",
       "      <th>3</th>\n",
       "      <td>0.009936</td>\n",
       "      <td>0.009436</td>\n",
       "      <td>0.016693</td>\n",
       "      <td>0.004681</td>\n",
       "      <td>0.005517</td>\n",
       "      <td>0.008444</td>\n",
       "      <td>0.008316</td>\n",
       "      <td>endurance</td>\n",
       "    </tr>\n",
       "    <tr>\n",
       "      <th>4</th>\n",
       "      <td>0.131277</td>\n",
       "      <td>0.124996</td>\n",
       "      <td>0.141051</td>\n",
       "      <td>0.162252</td>\n",
       "      <td>0.132742</td>\n",
       "      <td>0.126052</td>\n",
       "      <td>0.127737</td>\n",
       "      <td>water</td>\n",
       "    </tr>\n",
       "  </tbody>\n",
       "</table>\n",
       "</div>"
      ],
      "text/plain": [
       "   ep_team_xgb  ep_backcountry_xgb  ep_endurance_xgb  ep_water_xgb  \\\n",
       "0     0.128338            0.123617          0.196319      0.141534   \n",
       "1     0.015641            0.017260          0.015701      0.015511   \n",
       "2     0.107641            0.128609          0.101901      0.088893   \n",
       "3     0.009936            0.009436          0.016693      0.004681   \n",
       "4     0.131277            0.124996          0.141051      0.162252   \n",
       "\n",
       "   ep_racquet_xgb  ep_strength_xgb  ep_control_xgb to_message_ep_xgb  \n",
       "0        0.144061         0.135714        0.076413         endurance  \n",
       "1        0.013748         0.015277        0.015241       backcountry  \n",
       "2        0.140228         0.100619        0.119662           racquet  \n",
       "3        0.005517         0.008444        0.008316         endurance  \n",
       "4        0.132742         0.126052        0.127737             water  "
      ]
     },
     "execution_count": 85,
     "metadata": {},
     "output_type": "execute_result"
    }
   ],
   "source": [
    "types = ['team', 'backcountry', 'endurance', 'water', 'racquet', 'strength', 'control']\n",
    "\n",
    "columns_ep = [f\"ep_{type}_xgb\" for type in types]\n",
    "\n",
    "pentathlon_nptb[\"to_message_ep_xgb\"] = pentathlon_nptb[columns_ep].idxmax(axis=1)\\\n",
    "                                   .str.replace(\"ep_\", \"\").str.replace(\"_xgb\", \"\")\n",
    "\n",
    "display = columns_ep + [\"to_message_ep_xgb\"]\n",
    "\n",
    "pentathlon_nptb[display][:5]"
   ]
  },
  {
   "cell_type": "markdown",
   "metadata": {},
   "source": [
    "The approach to predict the order size and calculate expected profit is the same as the logistic regression model.\n",
    "The final output will show, for each customer, the message type that is predicted to maximize their probability of purchase and hence expected profit. The expected profit is a product of the predicted order size, the likelihood of purchase given the message, and the profit margin."
   ]
  },
  {
   "cell_type": "markdown",
   "metadata": {},
   "source": [
    "## Question 4 : XGBoost Model\n",
    "Report for each message, i.e., endurance, racket, etc., and no-message, the percentage of customers for whom that (no) message maximizes their expected profit. Comment on the distribution of expected profit across messages."
   ]
  },
  {
   "cell_type": "code",
   "execution_count": 86,
   "metadata": {},
   "outputs": [
    {
     "data": {
      "text/plain": [
       "to_message_ep_xgb\n",
       "endurance      40.35%\n",
       "water          19.16%\n",
       "team           12.02%\n",
       "backcountry    10.67%\n",
       "strength        7.81%\n",
       "racquet         7.26%\n",
       "control         2.74%\n",
       "Name: proportion, dtype: object"
      ]
     },
     "execution_count": 86,
     "metadata": {},
     "output_type": "execute_result"
    }
   ],
   "source": [
    "pentathlon_nptb[\"ep_max_xgb\"] = pentathlon_nptb[[f\"ep_{type}_xgb\" for type in types]].max(axis=1)\n",
    "\n",
    "pentathlon_nptb.to_message_ep_xgb.value_counts(normalize=True).apply(rsm.format_nr, perc=True)"
   ]
  },
  {
   "cell_type": "code",
   "execution_count": 87,
   "metadata": {},
   "outputs": [
    {
     "data": {
      "image/png": "[encoded data removed]",
      "text/plain": [
       "<Figure size 1000x600 with 1 Axes>"
      ]
     },
     "metadata": {},
     "output_type": "display_data"
    }
   ],
   "source": [
    "message_counts = pentathlon_nptb['to_message_ep_xgb'].value_counts()\n",
    "\n",
    "plt.figure(figsize=(10, 6))\n",
    "plt.bar(message_counts.index, message_counts.values, color='skyblue', edgecolor='black')\n",
    "plt.title('Profit Distribution by Message (XG Boost Model)')\n",
    "plt.xlabel('Message Type')\n",
    "plt.ylabel('Distribution of Messages')\n",
    "plt.grid(axis='y', alpha=0.75)\n",
    "plt.xticks(rotation=45)  \n",
    "plt.tight_layout()\n",
    "\n",
    "plt.show()"
   ]
  },
  {
   "cell_type": "markdown",
   "metadata": {},
   "source": [
    " 'endurance' is the clear front-runner in effectiveness, whereas 'control' lags significantly behind. Middle-performing messages like 'backcountry' and 'team' suggest targeted appeal, while 'strength', 'racquet', and 'control' are less impactful. This suggests varying customer preferences and highlights the importance of message optimization in marketing strategies."
   ]
  },
  {
   "cell_type": "markdown",
   "metadata": {},
   "source": [
    "## Question 5: XGBoost Model\n",
    "What  expected  profit  can  we  obtain,  on  average,  per  customer  if  we  customize  the message to each customer? Include no-message as an option as well."
   ]
  },
  {
   "cell_type": "code",
   "execution_count": 88,
   "metadata": {},
   "outputs": [
    {
     "name": "stdout",
     "output_type": "stream",
     "text": [
      "The average profit per customer when using the XGBoost model is: $0.70\n"
     ]
    }
   ],
   "source": [
    "average_profit_customer_xgb = pentathlon_nptb.ep_max_xgb.mean()\n",
    "\n",
    "print(f\"The average profit per customer when using the XGBoost model is: ${average_profit_customer_xgb:.2f}\")"
   ]
  },
  {
   "cell_type": "markdown",
   "metadata": {},
   "source": [
    "## Question 6: XGBoost Model\n",
    "What is the expected profit per e-mailed customer if every customer receives the same message?  Answer  this  question  for  each  of  the  possible  messages  (i.e.,  endurance, strength, water, team,backcountry, racquet) and the no-message option. Comment on the distribution of expected profit across messages and the no-message option."
   ]
  },
  {
   "cell_type": "code",
   "execution_count": 89,
   "metadata": {},
   "outputs": [
    {
     "data": {
      "text/plain": [
       "ep_endurance_xgb      $0.63\n",
       "ep_water_xgb          $0.61\n",
       "ep_strength_xgb        $0.6\n",
       "ep_backcountry_xgb    $0.59\n",
       "ep_team_xgb           $0.53\n",
       "ep_racquet_xgb        $0.52\n",
       "ep_control_xgb        $0.43\n",
       "dtype: object"
      ]
     },
     "execution_count": 89,
     "metadata": {},
     "output_type": "execute_result"
    }
   ],
   "source": [
    "pentathlon_nptb.loc[pentathlon_nptb.training == 0, [f\"ep_{type}_xgb\" for type in types]].agg(\"mean\").sort_values(ascending=False).apply(rsm.format_nr, sym=\"$\", dec=2)"
   ]
  },
  {
   "cell_type": "markdown",
   "metadata": {},
   "source": [
    "## Question 7: XGBoost Model\n",
    "What is the expected profit per e-mailed customer if every customer is assigned randomly to one of the messages or the no-message condition?"
   ]
  },
  {
   "cell_type": "code",
   "execution_count": 90,
   "metadata": {},
   "outputs": [
    {
     "name": "stdout",
     "output_type": "stream",
     "text": [
      "The average expected profit per customer when assigning messages randomly using the XGBoost model is: $0.55\n"
     ]
    }
   ],
   "source": [
    "pentathlon_nptb['ep_rnd_xgb'] = pentathlon_nptb.apply(lambda row: row[f'ep_{row[\"message_rnd\"]}_xgb'], axis=1)\n",
    "\n",
    "average_profit_customer_rnd_xgb = pentathlon_nptb.ep_rnd_xgb.mean()\n",
    "\n",
    "print(f\"The average expected profit per customer when assigning messages randomly using the XGBoost model is: ${average_profit_customer_rnd_xgb:.2f}\")"
   ]
  },
  {
   "cell_type": "markdown",
   "metadata": {},
   "source": [
    "\n",
    "With the new expected profit values per e-mailed customer, the 'endurance' message using XGBoost modeling remains the top performer at $0.63 per customer. 'Water' and 'strength' messages are also effective, with profits of $0.61 and $0.6 respectively. 'Backcountry' sees a slight dip to $0.59, while 'team' and 'racquet' messages are less profitable at $0.53 and $0.52. The 'control' group, receiving no message, yields the lowest expected profit at $0.43 per customer.\n",
    "\n",
    "This revised profit distribution confirms that targeted messaging is more lucrative than not sending a message, with 'endurance' leading in profitability. The modest variance in profit across different messages suggests a customer base with diverse preferences, emphasizing the value of a customized messaging strategy to maximize profit."
   ]
  },
  {
   "cell_type": "markdown",
   "metadata": {},
   "source": [
    "## Question 8: XGBoost Model\n",
    "For the typical promotional e-mail blast to 5,000,000 customers, what improvement (in percent and in total Euros) could Pentathlon achieve by customizing the message (or no-message) to each customer. Compare the performance predictions from this personalized approach to scenarios where (1) each customer is sent the same message selected based on average performance, (2) a random message assignment approach is used (i.e., the status quo), and (3) no message is sent (i.e., the control condition)?"
   ]
  },
  {
   "cell_type": "code",
   "execution_count": 91,
   "metadata": {},
   "outputs": [],
   "source": [
    "# Profit for customizing messages using the xgboost model\n",
    "profit_xgb = pentathlon_nptb.loc[pentathlon_nptb.training == 0, \"ep_max_xgb\"].agg(\"mean\") * 5000000\n",
    "\n",
    "# Profit for sending same message to all customers using the xgboost model\n",
    "profit_same_xgb = pentathlon_nptb.loc[pentathlon_nptb.training == 0, \"ep_endurance_xgb\"].agg(\"mean\") * 5000000\n",
    "\n",
    "# Profit for sending random messages using the xgboost model\n",
    "profit_rnd_xgb = pentathlon_nptb.loc[pentathlon_nptb.training == 0, \"ep_rnd_xgb\"].agg(\"mean\") * 5000000\n",
    "\n",
    "# Profit for sending no messages (i.e. the control) using the xgboost model\n",
    "profit_control_xgb = pentathlon_nptb.loc[pentathlon_nptb.training == 0, \"ep_control_xgb\"].agg(\"mean\") * 5000000"
   ]
  },
  {
   "cell_type": "code",
   "execution_count": 92,
   "metadata": {},
   "outputs": [
    {
     "data": {
      "text/html": [
       "<div>\n",
       "<style scoped>\n",
       "    .dataframe tbody tr th:only-of-type {\n",
       "        vertical-align: middle;\n",
       "    }\n",
       "\n",
       "    .dataframe tbody tr th {\n",
       "        vertical-align: top;\n",
       "    }\n",
       "\n",
       "    .dataframe thead th {\n",
       "        text-align: right;\n",
       "    }\n",
       "</style>\n",
       "<table border=\"1\" class=\"dataframe\">\n",
       "  <thead>\n",
       "    <tr style=\"text-align: right;\">\n",
       "      <th></th>\n",
       "      <th>strategy</th>\n",
       "      <th>total_profit</th>\n",
       "      <th>diff_xgb</th>\n",
       "      <th>perc_diff_xgb</th>\n",
       "    </tr>\n",
       "  </thead>\n",
       "  <tbody>\n",
       "    <tr>\n",
       "      <th>0</th>\n",
       "      <td>xgb</td>\n",
       "      <td>3.520849e+06</td>\n",
       "      <td>0.000000e+00</td>\n",
       "      <td>0.00%</td>\n",
       "    </tr>\n",
       "    <tr>\n",
       "      <th>1</th>\n",
       "      <td>same</td>\n",
       "      <td>3.133704e+06</td>\n",
       "      <td>-3.871453e+05</td>\n",
       "      <td>-11.00%</td>\n",
       "    </tr>\n",
       "    <tr>\n",
       "      <th>2</th>\n",
       "      <td>random</td>\n",
       "      <td>2.787982e+06</td>\n",
       "      <td>-7.328677e+05</td>\n",
       "      <td>-20.82%</td>\n",
       "    </tr>\n",
       "    <tr>\n",
       "      <th>3</th>\n",
       "      <td>control</td>\n",
       "      <td>2.166327e+06</td>\n",
       "      <td>-1.354523e+06</td>\n",
       "      <td>-38.47%</td>\n",
       "    </tr>\n",
       "  </tbody>\n",
       "</table>\n",
       "</div>"
      ],
      "text/plain": [
       "  strategy  total_profit      diff_xgb perc_diff_xgb\n",
       "0      xgb  3.520849e+06  0.000000e+00         0.00%\n",
       "1     same  3.133704e+06 -3.871453e+05       -11.00%\n",
       "2   random  2.787982e+06 -7.328677e+05       -20.82%\n",
       "3  control  2.166327e+06 -1.354523e+06       -38.47%"
      ]
     },
     "execution_count": 92,
     "metadata": {},
     "output_type": "execute_result"
    }
   ],
   "source": [
    "compare_performance_xgb = pd.DataFrame({\n",
    "    \"xgb\": [profit_xgb],\n",
    "    \"same\": [profit_same_xgb],\n",
    "    \"random\": [profit_rnd_xgb],\n",
    "    \"control\": [profit_control_xgb]\n",
    "}).T.reset_index().rename(columns={\"index\": \"strategy\", 0: \"total_profit\"})\n",
    "\n",
    "# Calculate the difference in profit between each strategy and the xgboost strategy\n",
    "compare_performance_xgb[\"diff_xgb\"] = compare_performance_xgb[\"total_profit\"] - compare_performance_xgb[\"total_profit\"].iloc[0]\n",
    "\n",
    "# Calculate the percentage difference in profit between each strategy and the xgboost strategy\n",
    "compare_performance_xgb[\"perc_diff_xgb\"] = (compare_performance_xgb[\"diff_xgb\"] / compare_performance_xgb[\"total_profit\"].iloc[0] * 100).apply(lambda x: f\"{x:.2f}%\")\n",
    "\n",
    "compare_performance_xgb"
   ]
  },
  {
   "cell_type": "markdown",
   "metadata": {},
   "source": [
    "## Model Performance Comparison"
   ]
  },
  {
   "cell_type": "code",
   "execution_count": 93,
   "metadata": {},
   "outputs": [],
   "source": [
    "pentathlon_nptb['pred_logit'] = lr.predict(pentathlon_nptb)[\"prediction\"]\n",
    "pentathlon_nptb['pred_nn'] = nn_final.predict(pentathlon_nptb)[\"prediction\"]\n",
    "pentathlon_nptb['pred_rf'] = rf.predict(pentathlon_nptb)[\"prediction\"]\n"
   ]
  },
  {
   "cell_type": "code",
   "execution_count": 94,
   "metadata": {},
   "outputs": [],
   "source": [
    "pentathlon_nptb['pred_xgb'] = xgb_best.predict_proba(pentathlon_nptb[evars])[:, 1]"
   ]
  },
  {
   "cell_type": "markdown",
   "metadata": {},
   "source": [
    "## Summary Statistics"
   ]
  },
  {
   "cell_type": "code",
   "execution_count": 99,
   "metadata": {},
   "outputs": [
    {
     "data": {
      "text/html": [
       "<div>\n",
       "<style scoped>\n",
       "    .dataframe tbody tr th:only-of-type {\n",
       "        vertical-align: middle;\n",
       "    }\n",
       "\n",
       "    .dataframe tbody tr th {\n",
       "        vertical-align: top;\n",
       "    }\n",
       "\n",
       "    .dataframe thead th {\n",
       "        text-align: right;\n",
       "    }\n",
       "</style>\n",
       "<table border=\"1\" class=\"dataframe\">\n",
       "  <thead>\n",
       "    <tr style=\"text-align: right;\">\n",
       "      <th></th>\n",
       "      <th>Models</th>\n",
       "      <th>Expected Profit</th>\n",
       "    </tr>\n",
       "  </thead>\n",
       "  <tbody>\n",
       "    <tr>\n",
       "      <th>0</th>\n",
       "      <td>Logit</td>\n",
       "      <td>$3,522,495.39</td>\n",
       "    </tr>\n",
       "    <tr>\n",
       "      <th>1</th>\n",
       "      <td>Neural Network</td>\n",
       "      <td>$3,836,402.08</td>\n",
       "    </tr>\n",
       "    <tr>\n",
       "      <th>2</th>\n",
       "      <td>Random Forest</td>\n",
       "      <td>$5,053,513.94</td>\n",
       "    </tr>\n",
       "    <tr>\n",
       "      <th>3</th>\n",
       "      <td>XGBoost</td>\n",
       "      <td>$3,520,849.47</td>\n",
       "    </tr>\n",
       "  </tbody>\n",
       "</table>\n",
       "</div>"
      ],
      "text/plain": [
       "           Models Expected Profit\n",
       "0           Logit   $3,522,495.39\n",
       "1  Neural Network   $3,836,402.08\n",
       "2   Random Forest   $5,053,513.94\n",
       "3         XGBoost   $3,520,849.47"
      ]
     },
     "execution_count": 99,
     "metadata": {},
     "output_type": "execute_result"
    }
   ],
   "source": [
    "#expected profit for all models\n",
    "profits_all = pd.DataFrame({\"Models\": [\"Logit\", \"Neural Network\", \"Random Forest\", \"XGBoost\"],\n",
    "                            \"Expected Profit\": [profit_logit, profit_nn, profit_rf, profit_xgb]})\n",
    "profits_all[\"Expected Profit\"] = profits_all[\"Expected Profit\"].map(\"${:,.2f}\".format)\n",
    "profits_all"
   ]
  },
  {
   "cell_type": "code",
   "execution_count": 100,
   "metadata": {},
   "outputs": [
    {
     "data": {
      "text/html": [
       "<div>\n",
       "<style scoped>\n",
       "    .dataframe tbody tr th:only-of-type {\n",
       "        vertical-align: middle;\n",
       "    }\n",
       "\n",
       "    .dataframe tbody tr th {\n",
       "        vertical-align: top;\n",
       "    }\n",
       "\n",
       "    .dataframe thead th {\n",
       "        text-align: right;\n",
       "    }\n",
       "</style>\n",
       "<table border=\"1\" class=\"dataframe\">\n",
       "  <thead>\n",
       "    <tr style=\"text-align: right;\">\n",
       "      <th></th>\n",
       "      <th>Models</th>\n",
       "      <th>Average Expected Profit per Customer</th>\n",
       "    </tr>\n",
       "  </thead>\n",
       "  <tbody>\n",
       "    <tr>\n",
       "      <th>0</th>\n",
       "      <td>Logit</td>\n",
       "      <td>$0.70</td>\n",
       "    </tr>\n",
       "    <tr>\n",
       "      <th>1</th>\n",
       "      <td>Neural Network</td>\n",
       "      <td>$0.76</td>\n",
       "    </tr>\n",
       "    <tr>\n",
       "      <th>2</th>\n",
       "      <td>Random Forest</td>\n",
       "      <td>$1.06</td>\n",
       "    </tr>\n",
       "    <tr>\n",
       "      <th>3</th>\n",
       "      <td>XGBoost</td>\n",
       "      <td>$0.70</td>\n",
       "    </tr>\n",
       "  </tbody>\n",
       "</table>\n",
       "</div>"
      ],
      "text/plain": [
       "           Models Average Expected Profit per Customer\n",
       "0           Logit                                $0.70\n",
       "1  Neural Network                                $0.76\n",
       "2   Random Forest                                $1.06\n",
       "3         XGBoost                                $0.70"
      ]
     },
     "execution_count": 100,
     "metadata": {},
     "output_type": "execute_result"
    }
   ],
   "source": [
    "#expected profit for all models per customer\n",
    "average_profit_all = pd.DataFrame({\"Models\": [\"Logit\", \"Neural Network\", \"Random Forest\", \"XGBoost\"],\n",
    "                            \"Average Expected Profit per Customer\": [average_profit_customer, average_profit_customer_nn, average_profit_customer_rf, average_profit_customer_xgb]})\n",
    "average_profit_all[\"Average Expected Profit per Customer\"] = average_profit_all[\"Average Expected Profit per Customer\"].map(\"${:,.2f}\".format)\n",
    "average_profit_all"
   ]
  },
  {
   "cell_type": "code",
   "execution_count": 101,
   "metadata": {},
   "outputs": [
    {
     "data": {
      "text/html": [
       "<div>\n",
       "<style scoped>\n",
       "    .dataframe tbody tr th:only-of-type {\n",
       "        vertical-align: middle;\n",
       "    }\n",
       "\n",
       "    .dataframe tbody tr th {\n",
       "        vertical-align: top;\n",
       "    }\n",
       "\n",
       "    .dataframe thead th {\n",
       "        text-align: right;\n",
       "    }\n",
       "</style>\n",
       "<table border=\"1\" class=\"dataframe\">\n",
       "  <thead>\n",
       "    <tr style=\"text-align: right;\">\n",
       "      <th></th>\n",
       "      <th>Models</th>\n",
       "      <th>Customized Messages</th>\n",
       "      <th>Same Message to All</th>\n",
       "      <th>Random Messages</th>\n",
       "      <th>Control</th>\n",
       "      <th>Max Profit</th>\n",
       "    </tr>\n",
       "  </thead>\n",
       "  <tbody>\n",
       "    <tr>\n",
       "      <th>0</th>\n",
       "      <td>Logit</td>\n",
       "      <td>$3,522,495.39</td>\n",
       "      <td>$3,134,700.52</td>\n",
       "      <td>$2,799,711.07</td>\n",
       "      <td>$2,152,438.03</td>\n",
       "      <td>Customized Messages</td>\n",
       "    </tr>\n",
       "    <tr>\n",
       "      <th>1</th>\n",
       "      <td>Neural Network</td>\n",
       "      <td>$3,836,402.08</td>\n",
       "      <td>$3,453,418.94</td>\n",
       "      <td>$3,052,055.61</td>\n",
       "      <td>$2,358,137.44</td>\n",
       "      <td>Customized Messages</td>\n",
       "    </tr>\n",
       "    <tr>\n",
       "      <th>2</th>\n",
       "      <td>Random Forest</td>\n",
       "      <td>$5,053,513.94</td>\n",
       "      <td>$3,257,139.49</td>\n",
       "      <td>$3,056,232.05</td>\n",
       "      <td>$2,494,743.70</td>\n",
       "      <td>Customized Messages</td>\n",
       "    </tr>\n",
       "    <tr>\n",
       "      <th>3</th>\n",
       "      <td>XGBoost</td>\n",
       "      <td>$3,520,849.47</td>\n",
       "      <td>$3,133,704.16</td>\n",
       "      <td>$2,787,981.76</td>\n",
       "      <td>$2,166,326.68</td>\n",
       "      <td>Customized Messages</td>\n",
       "    </tr>\n",
       "  </tbody>\n",
       "</table>\n",
       "</div>"
      ],
      "text/plain": [
       "           Models Customized Messages Same Message to All Random Messages  \\\n",
       "0           Logit       $3,522,495.39       $3,134,700.52   $2,799,711.07   \n",
       "1  Neural Network       $3,836,402.08       $3,453,418.94   $3,052,055.61   \n",
       "2   Random Forest       $5,053,513.94       $3,257,139.49   $3,056,232.05   \n",
       "3         XGBoost       $3,520,849.47       $3,133,704.16   $2,787,981.76   \n",
       "\n",
       "         Control           Max Profit  \n",
       "0  $2,152,438.03  Customized Messages  \n",
       "1  $2,358,137.44  Customized Messages  \n",
       "2  $2,494,743.70  Customized Messages  \n",
       "3  $2,166,326.68  Customized Messages  "
      ]
     },
     "execution_count": 101,
     "metadata": {},
     "output_type": "execute_result"
    }
   ],
   "source": [
    "#expected profit from rnd model, same message to all customers, and control for all models\n",
    "compare_performance_all = pd.DataFrame({\n",
    "    \"Models\": [\"Logit\", \"Neural Network\", \"Random Forest\", \"XGBoost\"],\n",
    "    \"Customized Messages\": [profit_logit, profit_nn, profit_rf, profit_xgb],\n",
    "    \"Same Message to All\": [profit_same, profit_same_nn, profit_same_rf, profit_same_xgb],\n",
    "    \"Random Messages\": [profit_rnd, profit_rnd_nn, profit_rnd_rf, profit_rnd_xgb],\n",
    "    \"Control\": [profit_control, profit_control_nn, profit_control_rf, profit_control_xgb]\n",
    "})\n",
    "compare_performance_all[\"Customized Messages\"] = compare_performance_all[\"Customized Messages\"].map(\"${:,.2f}\".format)\n",
    "compare_performance_all[\"Same Message to All\"] = compare_performance_all[\"Same Message to All\"].map(\"${:,.2f}\".format)\n",
    "compare_performance_all[\"Random Messages\"] = compare_performance_all[\"Random Messages\"].map(\"${:,.2f}\".format)\n",
    "compare_performance_all[\"Control\"] = compare_performance_all[\"Control\"].map(\"${:,.2f}\".format)\n",
    "\n",
    "compare_performance_all[\"Max Profit\"] = compare_performance_all.iloc[:, 1:5].idxmax(axis=1)\n",
    "compare_performance_all"
   ]
  },
  {
   "cell_type": "code",
   "execution_count": 102,
   "metadata": {},
   "outputs": [
    {
     "data": {
      "text/html": [
       "<div>\n",
       "<style scoped>\n",
       "    .dataframe tbody tr th:only-of-type {\n",
       "        vertical-align: middle;\n",
       "    }\n",
       "\n",
       "    .dataframe tbody tr th {\n",
       "        vertical-align: top;\n",
       "    }\n",
       "\n",
       "    .dataframe thead th {\n",
       "        text-align: right;\n",
       "    }\n",
       "</style>\n",
       "<table border=\"1\" class=\"dataframe\">\n",
       "  <thead>\n",
       "    <tr style=\"text-align: right;\">\n",
       "      <th></th>\n",
       "      <th>Models</th>\n",
       "      <th>Highest Probability of Buying</th>\n",
       "    </tr>\n",
       "  </thead>\n",
       "  <tbody>\n",
       "    <tr>\n",
       "      <th>0</th>\n",
       "      <td>Logit</td>\n",
       "      <td>endurance</td>\n",
       "    </tr>\n",
       "    <tr>\n",
       "      <th>1</th>\n",
       "      <td>Neural Network</td>\n",
       "      <td>endurance</td>\n",
       "    </tr>\n",
       "    <tr>\n",
       "      <th>2</th>\n",
       "      <td>Random Forest</td>\n",
       "      <td>endurance</td>\n",
       "    </tr>\n",
       "    <tr>\n",
       "      <th>3</th>\n",
       "      <td>XGBoost</td>\n",
       "      <td>endurance</td>\n",
       "    </tr>\n",
       "  </tbody>\n",
       "</table>\n",
       "</div>"
      ],
      "text/plain": [
       "           Models Highest Probability of Buying\n",
       "0           Logit                     endurance\n",
       "1  Neural Network                     endurance\n",
       "2   Random Forest                     endurance\n",
       "3         XGBoost                     endurance"
      ]
     },
     "execution_count": 102,
     "metadata": {},
     "output_type": "execute_result"
    }
   ],
   "source": [
    "#highest probability of buying for all models - message type \n",
    "highest_prob_all = pd.DataFrame({\"Models\": [\"Logit\", \"Neural Network\", \"Random Forest\", \"XGBoost\"],\n",
    "                            \"Highest Probability of Buying\": [pentathlon_nptb.to_message_ep.value_counts().idxmax(), pentathlon_nptb.to_message_ep_nn.value_counts().idxmax(), pentathlon_nptb.to_message_ep_rf.value_counts().idxmax(), pentathlon_nptb.to_message_ep_xgb.value_counts().idxmax()]})\n",
    "highest_prob_all"
   ]
  },
  {
   "cell_type": "markdown",
   "metadata": {},
   "source": [
    "### Gains Curve"
   ]
  },
  {
   "cell_type": "code",
   "execution_count": 103,
   "metadata": {},
   "outputs": [
    {
     "data": {
      "image/png": "[encoded data removed]",
      "text/plain": [
       "<Figure size 640x480 with 1 Axes>"
      ]
     },
     "metadata": {},
     "output_type": "display_data"
    }
   ],
   "source": [
    "#Gains chart for all models\n",
    "fig = rsm.gains_plot(\n",
    "     pentathlon_nptb[pentathlon_nptb.training == 0],\n",
    "    \"buyer\",\n",
    "    \"yes\",\n",
    "    [\"pred_logit\", \"pred_nn\", \"pred_rf\", \"pred_xgb\"],\n",
    "    qnt=10,\n",
    ")"
   ]
  },
  {
   "cell_type": "code",
   "execution_count": 104,
   "metadata": {},
   "outputs": [
    {
     "data": {
      "image/png": "[encoded data removed]",
      "text/plain": [
       "<Figure size 640x480 with 1 Axes>"
      ]
     },
     "metadata": {},
     "output_type": "display_data"
    }
   ],
   "source": [
    "dct = {\"train\": pentathlon_nptb[pentathlon_nptb.training == 1], \"test\": pentathlon_nptb[pentathlon_nptb.training == 0]}\n",
    "fig1 = rsm.gains_plot(dct, \"buyer_yes\", 1, \"p_endurance_rf\")"
   ]
  },
  {
   "cell_type": "markdown",
   "metadata": {},
   "source": [
    "- The Gains Curve for random forest model showing a lot of overfitting, as the training and testing curves are far apart. The model is not generalizing well to new data. This we know because we did not get the oob score prediction for the training data cause the model is overfitting. In this cause it was not an option considering the multiple types of predictions we are doing."
   ]
  },
  {
   "cell_type": "markdown",
   "metadata": {},
   "source": [
    "# Next Steps and Recommendations"
   ]
  },
  {
   "cell_type": "markdown",
   "metadata": {},
   "source": [
    "- Comment on the draft for a new e-mail policy proposal. Are there any weaknesses? Can \n",
    "you suggest at least one improvement to the proposal?"
   ]
  },
  {
   "cell_type": "markdown",
   "metadata": {},
   "source": [
    "The draft of the new email policy proposed by Anna Quintero includes a systematic and data-driven approach to allocate promotional emails, which leverages analytical results to optimize expected profits. Here are some comments and suggestions for improvement:\n",
    "Strengths of the Policy Proposal:\n",
    "* \t\tData-Driven Decision Making: The policy is grounded in analytics, which should theoretically ensure that the most effective messages are being used, potentially increasing conversion rates and profits.\n",
    "* \t\tDynamic and Adaptive: By reevaluating the data monthly, the strategy remains responsive to changes in customer preferences or the effectiveness of messages.\n",
    "Potential Weaknesses and Improvements:\n",
    "* \t\tComplexity in Execution: The policy may be complex to implement as it requires coordination between departments and constant analysis. Simplifying the allocation process could make it more manageable.Improvement: Introduce an automated system to handle the allocation process, reducing the administrative burden on the analytics team.\n",
    "\n",
    "* \t\tCustomer Experience: Sending messages from two different departments could confuse customers or lead to customer annoyance leading them to unsubscribe.Improvement: Ensure that the messages are coherent and part of an overarching narrative to avoid customer confusion or fatigue.\n",
    "\n",
    "* \t\tTesting and Optimization: The draft doesn't specify if there will be any A/B testing or control groups to continuously test the effectiveness of the email strategies.Improvement: Implement a system of ongoing A/B testing and control groups to validate the analytics model's predictions and refine strategies.\n",
    "* \t\tQuantitative Focus: The focus is entirely on expected profits, which might ignore other important factors such as brand loyalty, customer lifetime value, and satisfaction.Improvement: Incorporate qualitative metrics alongside expected profits to balance short-term gains with long-term brand health.\n",
    "\n",
    "By addressing these potential weaknesses, the policy could be made more robust, ensuring that it not only increases expected profits but also aligns with broader business objectives and maintains a positive customer experience."
   ]
  },
  {
   "cell_type": "markdown",
   "metadata": {},
   "source": [
    "# GenAI "
   ]
  },
  {
   "cell_type": "markdown",
   "metadata": {},
   "source": [
    "In this assignment, generative AI was generally not very effective compared to other assignments. This was primarily due to the fact that we used pyrsm to create most of the models and the pyrsm package is  not on the ChatGpt environment. So for this assignment, we did not use ChatGpt a lot but on the contrast Co-Pilot was very helpful in writing the code and providing suggestions.\n",
    "\n",
    "**Graph Distribution Interpretation:**\n",
    "\n",
    "[Screenshot](genAI_screenshots/graph_interpretation.png)\n",
    "\n",
    "Since we had to comment on the distribution of expected response across messages, we asked chatGPT to provide us with a summary of the graph. The summary provided by chatGPT was very helpful in understanding the distribution of expected response across messages. We build on it to provide a detailed analysis of the graph.\n",
    "\n",
    "**ML category mapping:**\n",
    "\n",
    "[Screenshot](genAI_screenshots/ML_mapping.png)\n",
    "\n",
    "We asked chatGPT to provide us with mapping when dealing with categorical variables. The mapping provided by chatGPT was very helpful and the method used was a familiar one. We build on it to provide a detailed analysis of the graph.\n",
    "\n",
    "**One Hot Encoding:**\n",
    "\n",
    "[Screenshot](genAI_screenshots/one_hot_encoding.png)\n",
    "\n",
    "We asked chatGPT to provide us with the code for one hot encoding. The code provided by chatGPT was very helpful and the method used (get_dummies) was a familiar one.\n",
    "\n",
    "**Random Forest Model:**\n",
    "\n",
    "[Screenshot](genAI_screenshots/rf_overfitting.png)\n",
    "\n",
    "When working with Random Forest model we had to deal with overfitting. This occured due to the fact that the training did not have ooob score prediction. We tried to work around this by just using the predictions from the pyrsm rf model but that reulted in overfitting. We asked chatGPT to provide us with a solution to this problem. But since chat is not familiar with the pyrsm package, it was not able to provide us with a solution. This was left a bit unexplained. We will take this up with the professor in the next class."
   ]
  },
  {
   "cell_type": "markdown",
   "metadata": {},
   "source": []
  }
 ],
 "metadata": {
  "kernelspec": {
   "display_name": "base",
   "language": "python",
   "name": "python3"
  },
  "language_info": {
   "codemirror_mode": {
    "name": "ipython",
    "version": 3
   },
   "file_extension": ".py",
   "mimetype": "text/x-python",
   "name": "python",
   "nbconvert_exporter": "python",
   "pygments_lexer": "ipython3",
   "version": "3.11.7"
  },
  "vscode": {
   "interpreter": {
    "hash": "d4d1e4263499bec80672ea0156c357c1ee493ec2b1c70f0acce89fc37c4a6abe"
   }
  }
 },
 "nbformat": 4,
 "nbformat_minor": 4
}
